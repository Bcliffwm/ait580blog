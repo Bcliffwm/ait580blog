{
 "cells": [
  {
   "cell_type": "markdown",
   "metadata": {},
   "source": [
    "## Author: Ben Cliff"
   ]
  },
  {
   "cell_type": "markdown",
   "metadata": {},
   "source": [
    "# About the data  \n",
    "##### The dataset loaded into this notebook is a .csv file obtained from the CDC's preventative measures site.  \n",
    "##### The sample subject of this dataset is U.S. citizens who are 65 years or older. The sample is subdivided by gender, State and city.\n",
    "##### The target or signal of this dataset is the percentage of citizens (broken down by gender and location) who are reported to have taken preventative measures such as immunizations and select cancer screenings against common illnesses.\n",
    "##### [Bethlehem insert commentary here about what trends we want to see]  \n",
    "\n",
    "# Purpose of this notebook:\n",
    "##### Create a clean .csv file to work from for further analysis\n",
    "##### Perform preliminary analysis as well as diagnostics of the data\n",
    "##### Create visualizations from this notebook for upload onto our blog site"
   ]
  },
  {
   "cell_type": "markdown",
   "metadata": {},
   "source": [
    "# Reading and cleaning the dataset"
   ]
  },
  {
   "cell_type": "code",
   "execution_count": 1,
   "metadata": {},
   "outputs": [],
   "source": [
    "# Importing powerful data manipulation library\n",
    "import pandas as pd\n",
    "import numpy as np\n",
    "import geopandas as gpd\n",
    "from geopandas import GeoDataFrame\n",
    "# import shapely\n",
    "from shapely.geometry import Point"
   ]
  },
  {
   "cell_type": "code",
   "execution_count": 2,
   "metadata": {},
   "outputs": [],
   "source": [
    "# Reading in prevention data\n",
    "prevent_df = pd.read_csv('../data/preventativedata.csv')\n",
    "\n",
    "# Removing with little to no information\n",
    "prevent_df = prevent_df.drop(columns=['Data_Value_Unit', 'Data_Value_Footnote_Symbol', 'Data_Value_Footnote', 'TractFIPS', 'CategoryID', 'StateDesc', 'Data_Value_Type', 'DataSource',\n",
    "'DataValueTypeID', 'Category'])"
   ]
  },
  {
   "cell_type": "code",
   "execution_count": 3,
   "metadata": {},
   "outputs": [],
   "source": [
    "# Removing undescores\n",
    "prevent_df.columns = prevent_df.columns.str.replace('_', '')\n",
    "# prevent_df.columns"
   ]
  },
  {
   "cell_type": "code",
   "execution_count": 4,
   "metadata": {},
   "outputs": [
    {
     "data": {
      "text/html": [
       "<div>\n",
       "<style scoped>\n",
       "    .dataframe tbody tr th:only-of-type {\n",
       "        vertical-align: middle;\n",
       "    }\n",
       "\n",
       "    .dataframe tbody tr th {\n",
       "        vertical-align: top;\n",
       "    }\n",
       "\n",
       "    .dataframe thead th {\n",
       "        text-align: right;\n",
       "    }\n",
       "</style>\n",
       "<table border=\"1\" class=\"dataframe\">\n",
       "  <thead>\n",
       "    <tr style=\"text-align: right;\">\n",
       "      <th></th>\n",
       "      <th>Year</th>\n",
       "      <th>StateAbbr</th>\n",
       "      <th>CityName</th>\n",
       "      <th>GeographicLevel</th>\n",
       "      <th>UniqueID</th>\n",
       "      <th>Measure</th>\n",
       "      <th>DataValue</th>\n",
       "      <th>LowConfidenceLimit</th>\n",
       "      <th>HighConfidenceLimit</th>\n",
       "      <th>PopulationCount</th>\n",
       "      <th>GeoLocation</th>\n",
       "      <th>MeasureId</th>\n",
       "      <th>CityFIPS</th>\n",
       "      <th>ShortQuestionText</th>\n",
       "    </tr>\n",
       "  </thead>\n",
       "  <tbody>\n",
       "    <tr>\n",
       "      <th>0</th>\n",
       "      <td>2016</td>\n",
       "      <td>HI</td>\n",
       "      <td>Honolulu</td>\n",
       "      <td>City</td>\n",
       "      <td>15003</td>\n",
       "      <td>Older adult men aged &gt;=65 Years who are up to ...</td>\n",
       "      <td>31.4</td>\n",
       "      <td>31.1</td>\n",
       "      <td>31.7</td>\n",
       "      <td>953,207</td>\n",
       "      <td>(21.4588039305, -157.973296737)</td>\n",
       "      <td>COREM</td>\n",
       "      <td>15003</td>\n",
       "      <td>Core preventive services for older men</td>\n",
       "    </tr>\n",
       "    <tr>\n",
       "      <th>1</th>\n",
       "      <td>2016</td>\n",
       "      <td>HI</td>\n",
       "      <td>Honolulu</td>\n",
       "      <td>City</td>\n",
       "      <td>15003</td>\n",
       "      <td>Older adult women aged &gt;=65 Years who are up t...</td>\n",
       "      <td>30.4</td>\n",
       "      <td>30.1</td>\n",
       "      <td>30.7</td>\n",
       "      <td>953,207</td>\n",
       "      <td>(21.4588039305, -157.973296737)</td>\n",
       "      <td>COREW</td>\n",
       "      <td>15003</td>\n",
       "      <td>Core preventive services for older women</td>\n",
       "    </tr>\n",
       "    <tr>\n",
       "      <th>2</th>\n",
       "      <td>2016</td>\n",
       "      <td>AL</td>\n",
       "      <td>Birmingham</td>\n",
       "      <td>City</td>\n",
       "      <td>107000</td>\n",
       "      <td>Older adult men aged &gt;=65 Years who are up to ...</td>\n",
       "      <td>32.9</td>\n",
       "      <td>32.2</td>\n",
       "      <td>33.7</td>\n",
       "      <td>212,237</td>\n",
       "      <td>(33.5275663773, -86.7988174678)</td>\n",
       "      <td>COREM</td>\n",
       "      <td>107000</td>\n",
       "      <td>Core preventive services for older men</td>\n",
       "    </tr>\n",
       "  </tbody>\n",
       "</table>\n",
       "</div>"
      ],
      "text/plain": [
       "   Year StateAbbr    CityName GeographicLevel  UniqueID  \\\n",
       "0  2016        HI    Honolulu            City     15003   \n",
       "1  2016        HI    Honolulu            City     15003   \n",
       "2  2016        AL  Birmingham            City    107000   \n",
       "\n",
       "                                             Measure  DataValue  \\\n",
       "0  Older adult men aged >=65 Years who are up to ...       31.4   \n",
       "1  Older adult women aged >=65 Years who are up t...       30.4   \n",
       "2  Older adult men aged >=65 Years who are up to ...       32.9   \n",
       "\n",
       "   LowConfidenceLimit  HighConfidenceLimit PopulationCount  \\\n",
       "0                31.1                 31.7         953,207   \n",
       "1                30.1                 30.7         953,207   \n",
       "2                32.2                 33.7         212,237   \n",
       "\n",
       "                       GeoLocation MeasureId  CityFIPS  \\\n",
       "0  (21.4588039305, -157.973296737)     COREM     15003   \n",
       "1  (21.4588039305, -157.973296737)     COREW     15003   \n",
       "2  (33.5275663773, -86.7988174678)     COREM    107000   \n",
       "\n",
       "                          ShortQuestionText  \n",
       "0    Core preventive services for older men  \n",
       "1  Core preventive services for older women  \n",
       "2    Core preventive services for older men  "
      ]
     },
     "execution_count": 4,
     "metadata": {},
     "output_type": "execute_result"
    }
   ],
   "source": [
    "# Sorting values by unique ID; creating new index and dropping the old one\n",
    "prevent_df.sort_values(by=['UniqueID'], ascending=True).reset_index().head(3).drop(columns=['index'])"
   ]
  },
  {
   "cell_type": "code",
   "execution_count": 5,
   "metadata": {},
   "outputs": [],
   "source": [
    "temp_list = []\n",
    "\n",
    "longs = []\n",
    "\n",
    "prevent_df['GeoLocation'] = [x.replace('(', '') for x in prevent_df['GeoLocation']]\n",
    "prevent_df['GeoLocation'] = [x.replace(')', '') for x in prevent_df['GeoLocation']]\n",
    "prevent_df['GeoLocation'] = [x.split(',') for x in prevent_df['GeoLocation']]\n",
    "#prevent_df['GeoLocation'] = [float(x) for x in prevent_df['GeoLocation']]\n"
   ]
  },
  {
   "cell_type": "code",
   "execution_count": 6,
   "metadata": {},
   "outputs": [],
   "source": [
    "lats = [float(x[0]) for x in prevent_df['GeoLocation']]\n",
    "longs = [float(x[1]) for x in prevent_df['GeoLocation']]"
   ]
  },
  {
   "cell_type": "code",
   "execution_count": 7,
   "metadata": {},
   "outputs": [],
   "source": [
    "prevent_df['lats'] = lats\n",
    "prevent_df['longs'] = longs\n",
    "# prevent_df.head(5)"
   ]
  },
  {
   "cell_type": "markdown",
   "metadata": {},
   "source": [
    "# Data Visualization and Analysis"
   ]
  },
  {
   "cell_type": "code",
   "execution_count": 8,
   "metadata": {},
   "outputs": [],
   "source": [
    "# Importing visualization tool\n",
    "import plotly.graph_objects as go\n",
    "import plotly.express as px"
   ]
  },
  {
   "cell_type": "code",
   "execution_count": 9,
   "metadata": {},
   "outputs": [],
   "source": [
    "prevent_df['PopulationCount'] = [x.replace(',', '') for x in prevent_df['PopulationCount']]\n",
    "prevent_df['PopulationCount'] = prevent_df['PopulationCount'].astype(int)"
   ]
  },
  {
   "cell_type": "code",
   "execution_count": 10,
   "metadata": {},
   "outputs": [],
   "source": [
    "# Adding new column to prevent_df: top 5 states for geospatial analysis\n",
    "temp_list = []\n",
    "for x in prevent_df['StateAbbr']:\n",
    "    if x == 'CA' or x == 'TX' or x == 'FL' or x == 'IL' or x == 'MI':\n",
    "        temp_list.append('yes')\n",
    "    else:\n",
    "        temp_list.append('no')"
   ]
  },
  {
   "cell_type": "code",
   "execution_count": 11,
   "metadata": {},
   "outputs": [],
   "source": [
    "prevent_df['top5state'] = temp_list\n",
    "# prevent_df.head(10)"
   ]
  },
  {
   "cell_type": "code",
   "execution_count": 12,
   "metadata": {},
   "outputs": [],
   "source": [
    "# Extracting only the male records of the dataset to get the unique counts of surveys by cities\n",
    "men_df = prevent_df.loc[prevent_df['MeasureId'] == 'COREM']\n",
    "\n",
    "# Isolating the top 5 counts of cities in separate dataframe\n",
    "top_5_states = men_df.loc[(men_df['StateAbbr'] == 'CA') | (men_df['StateAbbr'] == 'TX') | (men_df['StateAbbr'] == 'FL')\n",
    "| (men_df['StateAbbr'] == 'IL') | (men_df['StateAbbr'] == 'MI')]\n",
    "\n",
    "# Isolating all other 45 states in separate dataframe\n",
    "other_states_df = men_df.loc[(men_df['StateAbbr'] != 'CA') & (men_df['StateAbbr'] != 'TX') & (men_df['StateAbbr'] != 'FL')\n",
    "& (men_df['StateAbbr'] != 'IL') & (men_df['StateAbbr'] != 'MI')]"
   ]
  },
  {
   "cell_type": "code",
   "execution_count": 13,
   "metadata": {},
   "outputs": [
    {
     "data": {
      "application/vnd.plotly.v1+json": {
       "config": {
        "plotlyServerURL": "https://plot.ly"
       },
       "data": [
        {
         "histfunc": "count",
         "name": "State Participants",
         "type": "histogram",
         "x": [
          "WA",
          "AZ",
          "AL",
          "AZ",
          "AL",
          "AL",
          "AZ",
          "AZ",
          "AR",
          "AR",
          "AZ",
          "AZ",
          "AZ",
          "AZ",
          "AR",
          "AR",
          "AR",
          "AL",
          "AL",
          "AL",
          "AZ",
          "AK",
          "AZ",
          "AZ",
          "AZ",
          "CO",
          "CO",
          "CO",
          "CO",
          "CO",
          "CO",
          "CO",
          "CT",
          "CO",
          "CT",
          "CT",
          "CT",
          "CT",
          "CO",
          "CO",
          "CO",
          "CT",
          "CO",
          "DE",
          "CT",
          "CO",
          "CT",
          "CO",
          "DC",
          "GA",
          "GA",
          "GA",
          "GA",
          "HI",
          "GA",
          "GA",
          "GA",
          "GA",
          "GA",
          "ID",
          "ID",
          "GA",
          "GA",
          "ID",
          "IN",
          "IN",
          "IN",
          "IN",
          "IN",
          "IN",
          "IN",
          "IN",
          "KS",
          "KS",
          "IA",
          "IA",
          "KS",
          "KS",
          "KS",
          "KS",
          "IN",
          "IA",
          "IN",
          "IN",
          "IA",
          "IA",
          "IA",
          "LA",
          "LA",
          "KY",
          "LA",
          "LA",
          "LA",
          "KY",
          "MA",
          "MD",
          "LA",
          "MA",
          "ME",
          "MA",
          "MA",
          "MA",
          "MA",
          "MA",
          "MA",
          "MA",
          "MA",
          "MA",
          "MA",
          "MA",
          "MN",
          "MN",
          "MN",
          "MN",
          "MO",
          "MN",
          "MN",
          "MS",
          "MN",
          "MO",
          "MO",
          "MO",
          "MS",
          "MO",
          "MO",
          "NE",
          "MO",
          "NV",
          "NE",
          "NV",
          "MO",
          "MT",
          "MT",
          "NJ",
          "NJ",
          "NJ",
          "NJ",
          "NV",
          "NH",
          "NV",
          "NV",
          "NJ",
          "NJ",
          "NJ",
          "NJ",
          "NH",
          "NJ",
          "NM",
          "NM",
          "NY",
          "NM",
          "NY",
          "NY",
          "NY",
          "NM",
          "NC",
          "NY",
          "NC",
          "NY",
          "NY",
          "NC",
          "NC",
          "NY",
          "NY",
          "NC",
          "NC",
          "NC",
          "NC",
          "NC",
          "NC",
          "NC",
          "NC",
          "NC",
          "NC",
          "OH",
          "ND",
          "OH",
          "OH",
          "OH",
          "OH",
          "OK",
          "OK",
          "OH",
          "OK",
          "OK",
          "OH",
          "OH",
          "OK",
          "OH",
          "OR",
          "OR",
          "PA",
          "OR",
          "OR",
          "OK",
          "OR",
          "OR",
          "OR",
          "OR",
          "PA",
          "PA",
          "PA",
          "PA",
          "SC",
          "PA",
          "SD",
          "RI",
          "SC",
          "PA",
          "SC",
          "SC",
          "RI",
          "TN",
          "SD",
          "RI",
          "TN",
          "TN",
          "RI",
          "SC",
          "TN",
          "TN",
          "TN",
          "VA",
          "UT",
          "UT",
          "UT",
          "VA",
          "UT",
          "UT",
          "UT",
          "UT",
          "UT",
          "UT",
          "VA",
          "VA",
          "VA",
          "VT",
          "VA",
          "VA",
          "WA",
          "WA",
          "WA",
          "WA",
          "VA",
          "VA",
          "WA",
          "VA",
          "WA",
          "WA",
          "WA",
          "WA",
          "VA",
          "WA",
          "WI",
          "WI",
          "WA",
          "WI",
          "WA",
          "WI",
          "WV",
          "WA",
          "WI",
          "WI",
          "WY",
          "WI"
         ]
        },
        {
         "histfunc": "count",
         "marker": {
          "color": "#330C73"
         },
         "name": "Top 5 States represented",
         "type": "histogram",
         "x": [
          "CA",
          "CA",
          "CA",
          "CA",
          "CA",
          "CA",
          "CA",
          "CA",
          "CA",
          "CA",
          "CA",
          "CA",
          "CA",
          "CA",
          "CA",
          "CA",
          "CA",
          "CA",
          "CA",
          "CA",
          "CA",
          "CA",
          "CA",
          "CA",
          "CA",
          "CA",
          "CA",
          "CA",
          "CA",
          "CA",
          "CA",
          "CA",
          "CA",
          "CA",
          "CA",
          "CA",
          "CA",
          "CA",
          "CA",
          "CA",
          "CA",
          "CA",
          "CA",
          "CA",
          "CA",
          "CA",
          "CA",
          "CA",
          "CA",
          "CA",
          "CA",
          "CA",
          "CA",
          "CA",
          "CA",
          "CA",
          "CA",
          "CA",
          "CA",
          "CA",
          "CA",
          "CA",
          "CA",
          "CA",
          "CA",
          "CA",
          "CA",
          "CA",
          "CA",
          "CA",
          "CA",
          "CA",
          "CA",
          "CA",
          "CA",
          "CA",
          "CA",
          "CA",
          "CA",
          "CA",
          "CA",
          "CA",
          "CA",
          "CA",
          "CA",
          "CA",
          "CA",
          "CA",
          "CA",
          "CA",
          "CA",
          "CA",
          "CA",
          "CA",
          "CA",
          "CA",
          "CA",
          "CA",
          "CA",
          "CA",
          "CA",
          "CA",
          "CA",
          "CA",
          "CA",
          "CA",
          "CA",
          "CA",
          "CA",
          "CA",
          "CA",
          "CA",
          "CA",
          "CA",
          "CA",
          "CA",
          "CA",
          "CA",
          "CA",
          "CA",
          "CA",
          "FL",
          "FL",
          "FL",
          "FL",
          "FL",
          "FL",
          "FL",
          "FL",
          "FL",
          "FL",
          "FL",
          "FL",
          "FL",
          "FL",
          "FL",
          "FL",
          "FL",
          "FL",
          "FL",
          "FL",
          "FL",
          "FL",
          "FL",
          "FL",
          "FL",
          "FL",
          "FL",
          "FL",
          "FL",
          "FL",
          "FL",
          "FL",
          "FL",
          "IL",
          "IL",
          "IL",
          "IL",
          "IL",
          "IL",
          "IL",
          "IL",
          "IL",
          "IL",
          "IL",
          "IL",
          "IL",
          "IL",
          "IL",
          "IL",
          "IL",
          "IL",
          "MI",
          "MI",
          "MI",
          "MI",
          "MI",
          "MI",
          "MI",
          "MI",
          "MI",
          "MI",
          "MI",
          "MI",
          "MI",
          "MI",
          "MI",
          "MI",
          "TX",
          "TX",
          "TX",
          "TX",
          "TX",
          "TX",
          "TX",
          "TX",
          "TX",
          "TX",
          "TX",
          "TX",
          "TX",
          "TX",
          "TX",
          "TX",
          "TX",
          "TX",
          "TX",
          "TX",
          "TX",
          "TX",
          "TX",
          "TX",
          "TX",
          "TX",
          "TX",
          "TX",
          "TX",
          "TX",
          "TX",
          "TX",
          "TX",
          "TX",
          "TX",
          "TX",
          "TX",
          "TX",
          "TX",
          "TX",
          "TX",
          "TX",
          "TX",
          "TX",
          "TX",
          "TX",
          "TX"
         ]
        }
       ],
       "layout": {
        "template": {
         "data": {
          "bar": [
           {
            "error_x": {
             "color": "#2a3f5f"
            },
            "error_y": {
             "color": "#2a3f5f"
            },
            "marker": {
             "line": {
              "color": "#E5ECF6",
              "width": 0.5
             },
             "pattern": {
              "fillmode": "overlay",
              "size": 10,
              "solidity": 0.2
             }
            },
            "type": "bar"
           }
          ],
          "barpolar": [
           {
            "marker": {
             "line": {
              "color": "#E5ECF6",
              "width": 0.5
             },
             "pattern": {
              "fillmode": "overlay",
              "size": 10,
              "solidity": 0.2
             }
            },
            "type": "barpolar"
           }
          ],
          "carpet": [
           {
            "aaxis": {
             "endlinecolor": "#2a3f5f",
             "gridcolor": "white",
             "linecolor": "white",
             "minorgridcolor": "white",
             "startlinecolor": "#2a3f5f"
            },
            "baxis": {
             "endlinecolor": "#2a3f5f",
             "gridcolor": "white",
             "linecolor": "white",
             "minorgridcolor": "white",
             "startlinecolor": "#2a3f5f"
            },
            "type": "carpet"
           }
          ],
          "choropleth": [
           {
            "colorbar": {
             "outlinewidth": 0,
             "ticks": ""
            },
            "type": "choropleth"
           }
          ],
          "contour": [
           {
            "colorbar": {
             "outlinewidth": 0,
             "ticks": ""
            },
            "colorscale": [
             [
              0,
              "#0d0887"
             ],
             [
              0.1111111111111111,
              "#46039f"
             ],
             [
              0.2222222222222222,
              "#7201a8"
             ],
             [
              0.3333333333333333,
              "#9c179e"
             ],
             [
              0.4444444444444444,
              "#bd3786"
             ],
             [
              0.5555555555555556,
              "#d8576b"
             ],
             [
              0.6666666666666666,
              "#ed7953"
             ],
             [
              0.7777777777777778,
              "#fb9f3a"
             ],
             [
              0.8888888888888888,
              "#fdca26"
             ],
             [
              1,
              "#f0f921"
             ]
            ],
            "type": "contour"
           }
          ],
          "contourcarpet": [
           {
            "colorbar": {
             "outlinewidth": 0,
             "ticks": ""
            },
            "type": "contourcarpet"
           }
          ],
          "heatmap": [
           {
            "colorbar": {
             "outlinewidth": 0,
             "ticks": ""
            },
            "colorscale": [
             [
              0,
              "#0d0887"
             ],
             [
              0.1111111111111111,
              "#46039f"
             ],
             [
              0.2222222222222222,
              "#7201a8"
             ],
             [
              0.3333333333333333,
              "#9c179e"
             ],
             [
              0.4444444444444444,
              "#bd3786"
             ],
             [
              0.5555555555555556,
              "#d8576b"
             ],
             [
              0.6666666666666666,
              "#ed7953"
             ],
             [
              0.7777777777777778,
              "#fb9f3a"
             ],
             [
              0.8888888888888888,
              "#fdca26"
             ],
             [
              1,
              "#f0f921"
             ]
            ],
            "type": "heatmap"
           }
          ],
          "heatmapgl": [
           {
            "colorbar": {
             "outlinewidth": 0,
             "ticks": ""
            },
            "colorscale": [
             [
              0,
              "#0d0887"
             ],
             [
              0.1111111111111111,
              "#46039f"
             ],
             [
              0.2222222222222222,
              "#7201a8"
             ],
             [
              0.3333333333333333,
              "#9c179e"
             ],
             [
              0.4444444444444444,
              "#bd3786"
             ],
             [
              0.5555555555555556,
              "#d8576b"
             ],
             [
              0.6666666666666666,
              "#ed7953"
             ],
             [
              0.7777777777777778,
              "#fb9f3a"
             ],
             [
              0.8888888888888888,
              "#fdca26"
             ],
             [
              1,
              "#f0f921"
             ]
            ],
            "type": "heatmapgl"
           }
          ],
          "histogram": [
           {
            "marker": {
             "pattern": {
              "fillmode": "overlay",
              "size": 10,
              "solidity": 0.2
             }
            },
            "type": "histogram"
           }
          ],
          "histogram2d": [
           {
            "colorbar": {
             "outlinewidth": 0,
             "ticks": ""
            },
            "colorscale": [
             [
              0,
              "#0d0887"
             ],
             [
              0.1111111111111111,
              "#46039f"
             ],
             [
              0.2222222222222222,
              "#7201a8"
             ],
             [
              0.3333333333333333,
              "#9c179e"
             ],
             [
              0.4444444444444444,
              "#bd3786"
             ],
             [
              0.5555555555555556,
              "#d8576b"
             ],
             [
              0.6666666666666666,
              "#ed7953"
             ],
             [
              0.7777777777777778,
              "#fb9f3a"
             ],
             [
              0.8888888888888888,
              "#fdca26"
             ],
             [
              1,
              "#f0f921"
             ]
            ],
            "type": "histogram2d"
           }
          ],
          "histogram2dcontour": [
           {
            "colorbar": {
             "outlinewidth": 0,
             "ticks": ""
            },
            "colorscale": [
             [
              0,
              "#0d0887"
             ],
             [
              0.1111111111111111,
              "#46039f"
             ],
             [
              0.2222222222222222,
              "#7201a8"
             ],
             [
              0.3333333333333333,
              "#9c179e"
             ],
             [
              0.4444444444444444,
              "#bd3786"
             ],
             [
              0.5555555555555556,
              "#d8576b"
             ],
             [
              0.6666666666666666,
              "#ed7953"
             ],
             [
              0.7777777777777778,
              "#fb9f3a"
             ],
             [
              0.8888888888888888,
              "#fdca26"
             ],
             [
              1,
              "#f0f921"
             ]
            ],
            "type": "histogram2dcontour"
           }
          ],
          "mesh3d": [
           {
            "colorbar": {
             "outlinewidth": 0,
             "ticks": ""
            },
            "type": "mesh3d"
           }
          ],
          "parcoords": [
           {
            "line": {
             "colorbar": {
              "outlinewidth": 0,
              "ticks": ""
             }
            },
            "type": "parcoords"
           }
          ],
          "pie": [
           {
            "automargin": true,
            "type": "pie"
           }
          ],
          "scatter": [
           {
            "marker": {
             "colorbar": {
              "outlinewidth": 0,
              "ticks": ""
             }
            },
            "type": "scatter"
           }
          ],
          "scatter3d": [
           {
            "line": {
             "colorbar": {
              "outlinewidth": 0,
              "ticks": ""
             }
            },
            "marker": {
             "colorbar": {
              "outlinewidth": 0,
              "ticks": ""
             }
            },
            "type": "scatter3d"
           }
          ],
          "scattercarpet": [
           {
            "marker": {
             "colorbar": {
              "outlinewidth": 0,
              "ticks": ""
             }
            },
            "type": "scattercarpet"
           }
          ],
          "scattergeo": [
           {
            "marker": {
             "colorbar": {
              "outlinewidth": 0,
              "ticks": ""
             }
            },
            "type": "scattergeo"
           }
          ],
          "scattergl": [
           {
            "marker": {
             "colorbar": {
              "outlinewidth": 0,
              "ticks": ""
             }
            },
            "type": "scattergl"
           }
          ],
          "scattermapbox": [
           {
            "marker": {
             "colorbar": {
              "outlinewidth": 0,
              "ticks": ""
             }
            },
            "type": "scattermapbox"
           }
          ],
          "scatterpolar": [
           {
            "marker": {
             "colorbar": {
              "outlinewidth": 0,
              "ticks": ""
             }
            },
            "type": "scatterpolar"
           }
          ],
          "scatterpolargl": [
           {
            "marker": {
             "colorbar": {
              "outlinewidth": 0,
              "ticks": ""
             }
            },
            "type": "scatterpolargl"
           }
          ],
          "scatterternary": [
           {
            "marker": {
             "colorbar": {
              "outlinewidth": 0,
              "ticks": ""
             }
            },
            "type": "scatterternary"
           }
          ],
          "surface": [
           {
            "colorbar": {
             "outlinewidth": 0,
             "ticks": ""
            },
            "colorscale": [
             [
              0,
              "#0d0887"
             ],
             [
              0.1111111111111111,
              "#46039f"
             ],
             [
              0.2222222222222222,
              "#7201a8"
             ],
             [
              0.3333333333333333,
              "#9c179e"
             ],
             [
              0.4444444444444444,
              "#bd3786"
             ],
             [
              0.5555555555555556,
              "#d8576b"
             ],
             [
              0.6666666666666666,
              "#ed7953"
             ],
             [
              0.7777777777777778,
              "#fb9f3a"
             ],
             [
              0.8888888888888888,
              "#fdca26"
             ],
             [
              1,
              "#f0f921"
             ]
            ],
            "type": "surface"
           }
          ],
          "table": [
           {
            "cells": {
             "fill": {
              "color": "#EBF0F8"
             },
             "line": {
              "color": "white"
             }
            },
            "header": {
             "fill": {
              "color": "#C8D4E3"
             },
             "line": {
              "color": "white"
             }
            },
            "type": "table"
           }
          ]
         },
         "layout": {
          "annotationdefaults": {
           "arrowcolor": "#2a3f5f",
           "arrowhead": 0,
           "arrowwidth": 1
          },
          "autotypenumbers": "strict",
          "coloraxis": {
           "colorbar": {
            "outlinewidth": 0,
            "ticks": ""
           }
          },
          "colorscale": {
           "diverging": [
            [
             0,
             "#8e0152"
            ],
            [
             0.1,
             "#c51b7d"
            ],
            [
             0.2,
             "#de77ae"
            ],
            [
             0.3,
             "#f1b6da"
            ],
            [
             0.4,
             "#fde0ef"
            ],
            [
             0.5,
             "#f7f7f7"
            ],
            [
             0.6,
             "#e6f5d0"
            ],
            [
             0.7,
             "#b8e186"
            ],
            [
             0.8,
             "#7fbc41"
            ],
            [
             0.9,
             "#4d9221"
            ],
            [
             1,
             "#276419"
            ]
           ],
           "sequential": [
            [
             0,
             "#0d0887"
            ],
            [
             0.1111111111111111,
             "#46039f"
            ],
            [
             0.2222222222222222,
             "#7201a8"
            ],
            [
             0.3333333333333333,
             "#9c179e"
            ],
            [
             0.4444444444444444,
             "#bd3786"
            ],
            [
             0.5555555555555556,
             "#d8576b"
            ],
            [
             0.6666666666666666,
             "#ed7953"
            ],
            [
             0.7777777777777778,
             "#fb9f3a"
            ],
            [
             0.8888888888888888,
             "#fdca26"
            ],
            [
             1,
             "#f0f921"
            ]
           ],
           "sequentialminus": [
            [
             0,
             "#0d0887"
            ],
            [
             0.1111111111111111,
             "#46039f"
            ],
            [
             0.2222222222222222,
             "#7201a8"
            ],
            [
             0.3333333333333333,
             "#9c179e"
            ],
            [
             0.4444444444444444,
             "#bd3786"
            ],
            [
             0.5555555555555556,
             "#d8576b"
            ],
            [
             0.6666666666666666,
             "#ed7953"
            ],
            [
             0.7777777777777778,
             "#fb9f3a"
            ],
            [
             0.8888888888888888,
             "#fdca26"
            ],
            [
             1,
             "#f0f921"
            ]
           ]
          },
          "colorway": [
           "#636efa",
           "#EF553B",
           "#00cc96",
           "#ab63fa",
           "#FFA15A",
           "#19d3f3",
           "#FF6692",
           "#B6E880",
           "#FF97FF",
           "#FECB52"
          ],
          "font": {
           "color": "#2a3f5f"
          },
          "geo": {
           "bgcolor": "white",
           "lakecolor": "white",
           "landcolor": "#E5ECF6",
           "showlakes": true,
           "showland": true,
           "subunitcolor": "white"
          },
          "hoverlabel": {
           "align": "left"
          },
          "hovermode": "closest",
          "mapbox": {
           "style": "light"
          },
          "paper_bgcolor": "white",
          "plot_bgcolor": "#E5ECF6",
          "polar": {
           "angularaxis": {
            "gridcolor": "white",
            "linecolor": "white",
            "ticks": ""
           },
           "bgcolor": "#E5ECF6",
           "radialaxis": {
            "gridcolor": "white",
            "linecolor": "white",
            "ticks": ""
           }
          },
          "scene": {
           "xaxis": {
            "backgroundcolor": "#E5ECF6",
            "gridcolor": "white",
            "gridwidth": 2,
            "linecolor": "white",
            "showbackground": true,
            "ticks": "",
            "zerolinecolor": "white"
           },
           "yaxis": {
            "backgroundcolor": "#E5ECF6",
            "gridcolor": "white",
            "gridwidth": 2,
            "linecolor": "white",
            "showbackground": true,
            "ticks": "",
            "zerolinecolor": "white"
           },
           "zaxis": {
            "backgroundcolor": "#E5ECF6",
            "gridcolor": "white",
            "gridwidth": 2,
            "linecolor": "white",
            "showbackground": true,
            "ticks": "",
            "zerolinecolor": "white"
           }
          },
          "shapedefaults": {
           "line": {
            "color": "#2a3f5f"
           }
          },
          "ternary": {
           "aaxis": {
            "gridcolor": "white",
            "linecolor": "white",
            "ticks": ""
           },
           "baxis": {
            "gridcolor": "white",
            "linecolor": "white",
            "ticks": ""
           },
           "bgcolor": "#E5ECF6",
           "caxis": {
            "gridcolor": "white",
            "linecolor": "white",
            "ticks": ""
           }
          },
          "title": {
           "x": 0.05
          },
          "xaxis": {
           "automargin": true,
           "gridcolor": "white",
           "linecolor": "white",
           "ticks": "",
           "title": {
            "standoff": 15
           },
           "zerolinecolor": "white",
           "zerolinewidth": 2
          },
          "yaxis": {
           "automargin": true,
           "gridcolor": "white",
           "linecolor": "white",
           "ticks": "",
           "title": {
            "standoff": 15
           },
           "zerolinecolor": "white",
           "zerolinewidth": 2
          }
         }
        },
        "title": {
         "text": "Cities Count of Survey"
        },
        "xaxis": {
         "title": {
          "text": "State Abbreviation"
         }
        },
        "yaxis": {
         "title": {
          "text": "Count"
         }
        }
       }
      }
     },
     "metadata": {},
     "output_type": "display_data"
    }
   ],
   "source": [
    "# Creating separate data for the histogram counts\n",
    "x = other_states_df['StateAbbr']\n",
    "y = top_5_states['StateAbbr']\n",
    "\n",
    "# Creating graph object\n",
    "fig = go.Figure()\n",
    "fig.add_trace(go.Histogram(histfunc='count', x=x, name='State Participants'))\n",
    "fig.add_trace(go.Histogram(histfunc='count', x=y, name='Top 5 States represented', marker_color='#330C73'))\n",
    "fig.update_layout(title_text='Cities Count of Survey', xaxis_title_text='State Abbreviation', yaxis_title_text='Count')\n",
    "fig.show()"
   ]
  },
  {
   "cell_type": "code",
   "execution_count": 21,
   "metadata": {},
   "outputs": [
    {
     "data": {
      "application/vnd.plotly.v1+json": {
       "config": {
        "plotlyServerURL": "https://plot.ly"
       },
       "data": [
        {
         "geo": "geo",
         "hovertemplate": "top5state=no<br>lats=%{lat}<br>longs=%{lon}<extra></extra>",
         "lat": [
          46.5925792092,
          33.310149392,
          32.3472645333,
          33.3858367405,
          33.2336083951,
          33.3767602729,
          33.7847206422,
          32.1567244483,
          35.3491692636,
          36.1869932598,
          33.3882640307,
          32.5986027117,
          33.6872493651,
          33.6803835177,
          35.8208121538,
          36.0712117312,
          34.7253957894,
          34.6989692671,
          30.6776248648,
          33.5275663773,
          33.28318981,
          61.149868731,
          33.4022837359,
          33.5796123089,
          33.5724138695,
          39.7620283743,
          40.0275510494,
          39.592872073,
          39.8308263293,
          38.8672748077,
          39.7091594781,
          40.5487758924,
          41.1928054233,
          39.8838511475,
          41.3113869392,
          41.4015898606,
          41.1049145013,
          41.1175631682,
          38.2733957251,
          39.9193994188,
          40.4165693758,
          41.7660706419,
          40.4141369521,
          39.7412748227,
          41.5582443266,
          40.1695164708,
          41.675922654,
          39.6976734462,
          38.9099241426,
          33.7626524683,
          33.9508170683,
          31.5776036766,
          32.8320417692,
          21.4588039305,
          32.5099614852,
          34.0391384583,
          33.3644561527,
          34.0332991998,
          33.9366669867,
          43.5984343897,
          43.6185195383,
          32.5985113609,
          32.0283615157,
          43.5829315681,
          39.1637458221,
          41.0884920417,
          39.9587635263,
          39.9658404613,
          41.5904779239,
          37.9867158026,
          41.6171442828,
          39.7771221075,
          37.690561478,
          38.9599302924,
          41.5741349525,
          41.5557926876,
          38.884693021,
          39.1234621409,
          38.8872922575,
          39.0359549911,
          41.6769914549,
          42.4963149039,
          40.1987098324,
          40.3994285285,
          41.6558950332,
          41.966729258,
          42.4919736932,
          30.2030679966,
          30.4510891679,
          38.0423254022,
          30.2120582815,
          30.0106937201,
          30.0687009935,
          38.1777689918,
          42.082071372,
          39.3084523991,
          32.4671618864,
          41.7139907598,
          43.6779836271,
          42.3758188051,
          42.3155796777,
          42.3316567616,
          42.3905738858,
          42.6388727331,
          42.7002772201,
          41.6712667258,
          42.2705425446,
          42.1154977999,
          42.4783322881,
          42.2492981918,
          44.8305852429,
          46.7854703427,
          44.9635407967,
          45.1112033916,
          38.9170508128,
          44.0150574384,
          45.022462874,
          30.427377008,
          44.9477402558,
          38.7852244161,
          39.7598312179,
          39.1239413971,
          32.31627222,
          38.9481109651,
          39.0870794771,
          40.8096195695,
          37.1942661484,
          36.0122394916,
          41.2642309111,
          36.2274148438,
          38.6358122615,
          46.8694402455,
          45.7893102609,
          40.7260693449,
          40.6664447729,
          40.8631217425,
          40.8574581109,
          36.2891993562,
          42.7491554459,
          39.573373276,
          39.5540171998,
          39.9361910066,
          40.7674606884,
          40.7188130852,
          40.2237289981,
          42.9844541713,
          40.9146874977,
          35.6662719601,
          35.1055025771,
          40.9136008569,
          35.287307935,
          42.6663969604,
          42.9014518233,
          40.9321713141,
          32.326638797,
          35.8322080933,
          40.694960689,
          35.2078721969,
          42.8025204414,
          43.0409202097,
          35.7814978722,
          35.5708251391,
          40.9465025597,
          43.1679802918,
          36.0960480415,
          35.3939316958,
          34.2102758569,
          35.5959211876,
          35.9881243803,
          35.2472984431,
          34.7331103037,
          35.9809147402,
          36.1029453039,
          35.0851309527,
          39.1411747124,
          46.8652457832,
          39.9859500484,
          40.8080192662,
          41.4765345821,
          41.0801444942,
          34.6170564899,
          35.6689350516,
          41.3842399838,
          36.0366324911,
          35.467564288,
          41.0993286607,
          41.6637399604,
          35.2335032647,
          39.779768039,
          44.923273154,
          45.4795765674,
          40.596099618,
          45.537180654,
          45.5024256798,
          36.1284213425,
          45.529027994,
          42.3371987584,
          44.0559363346,
          44.0561827184,
          40.0093147808,
          40.4396297486,
          40.6266402578,
          42.1164698754,
          32.9100915071,
          41.4043729362,
          44.0705009564,
          41.8744534517,
          34.9403611496,
          40.3399678686,
          32.8136961892,
          32.8538274584,
          41.7658017135,
          35.9690594531,
          43.5388067537,
          41.823480533,
          35.0662472165,
          36.569683159,
          41.7064727301,
          34.0366069566,
          35.1046295042,
          36.1712229904,
          35.850778195,
          37.1051141309,
          40.7778489465,
          40.5702254423,
          41.2281567535,
          36.8932863006,
          40.2457185288,
          40.6887696962,
          40.6022598635,
          40.2987127625,
          41.077181614,
          37.0787444634,
          37.4004163016,
          36.6777521118,
          36.8451450228,
          44.4876245694,
          38.8187351557,
          37.0533009025,
          48.7535370315,
          47.4760546752,
          47.622154338,
          47.9497966189,
          37.2782181855,
          36.7534593339,
          47.3090846316,
          37.5293933083,
          47.5962437606,
          46.198438428,
          47.3038544325,
          47.6736243259,
          36.6930367981,
          47.3849636272,
          44.5149847816,
          44.2776987457,
          47.662556574,
          43.0809865694,
          47.2425411445,
          43.0641258925,
          38.3484079736,
          45.6357172365,
          42.585570271,
          43.0093332215,
          41.1460804265,
          42.7274599494
         ],
         "legendgroup": "no",
         "lon": [
          -120.547807614,
          -111.746237467,
          -86.2677059552,
          -112.323626619,
          -87.5268004073,
          -86.8051937568,
          -112.298680584,
          -110.877085494,
          -94.3696317306,
          -94.1536274531,
          -111.931802302,
          -114.54836837,
          -111.865085877,
          -112.452218439,
          -90.6794991686,
          -94.1659600436,
          -92.3583751863,
          -86.6387042882,
          -88.1184482714,
          -86.7988174678,
          -111.852210033,
          -149.111113424,
          -111.718721181,
          -112.225306421,
          -112.088995222,
          -104.876365322,
          -105.25151776,
          -104.867986891,
          -105.146327974,
          -104.760664479,
          -104.726526621,
          -105.065904872,
          -73.196054694,
          -105.062645316,
          -72.9247595793,
          -73.470938682,
          -73.5589363142,
          -73.4224513123,
          -104.612001218,
          -104.944956758,
          -105.061758435,
          -72.6834012389,
          -104.771170982,
          -75.5418960925,
          -73.036129832,
          -105.10195106,
          -72.7861630705,
          -105.116965444,
          -77.0147205666,
          -84.4231419055,
          -83.3689417445,
          -84.1763240815,
          -83.6495823768,
          -157.973296737,
          -84.8770410586,
          -84.3512225277,
          -82.0708396775,
          -84.2027195506,
          -84.3703197084,
          -116.230885189,
          -116.39758487,
          -83.6530271267,
          -81.1783435493,
          -116.564145085,
          -86.5257124351,
          -85.1435898792,
          -85.969310702,
          -86.1461278461,
          -87.3472907397,
          -87.538270731,
          -87.4909551115,
          -86.145782152,
          -97.3429366807,
          -95.2628259088,
          -93.6165066086,
          -90.6051730163,
          -94.8192070197,
          -94.7441921112,
          -94.6872267067,
          -95.6954155341,
          -86.2690372417,
          -96.3913834837,
          -85.3942940148,
          -86.8617007404,
          -91.5308854927,
          -91.6781679349,
          -92.3521759342,
          -93.2148796496,
          -91.1263551997,
          -84.4587259608,
          -92.0317532321,
          -90.2550320135,
          -89.9316317895,
          -85.6664099974,
          -71.0241656338,
          -76.6160492311,
          -93.7962236108,
          -71.0996396919,
          -70.2752544531,
          -71.1183992378,
          -71.0916505804,
          -71.2084466944,
          -71.1017450879,
          -71.321714396,
          -71.1626790341,
          -70.9441204537,
          -71.8079404584,
          -72.5395254143,
          -70.9662372538,
          -71.0218764062,
          -93.3150995817,
          -92.1342013763,
          -93.2678345304,
          -93.3505067942,
          -94.3814865856,
          -92.4775005494,
          -93.4616016242,
          -89.0701908439,
          -93.1039958305,
          -90.7176856736,
          -94.8209246813,
          -94.5541236795,
          -90.2124528561,
          -92.3260129764,
          -94.3502748237,
          -96.6806742049,
          -93.2914273656,
          -115.037392161,
          -96.0415076441,
          -115.262670095,
          -90.2451186799,
          -114.009863843,
          -108.54882784,
          -74.1752997118,
          -74.1938679138,
          -74.1575145342,
          -74.1281123174,
          -115.088496088,
          -71.4909587631,
          -119.713134168,
          -119.852733516,
          -75.1072961899,
          -74.032293507,
          -74.0687740635,
          -74.7639943311,
          -71.4445313287,
          -74.1624181271,
          -105.972662995,
          -106.647447696,
          -73.8291001676,
          -106.697981552,
          -73.7986826267,
          -78.8475237264,
          -73.7843883178,
          -106.789465579,
          -78.6440243809,
          -73.9313850409,
          -80.8300754645,
          -73.9275333869,
          -76.1437679213,
          -78.8152191642,
          -82.5537350816,
          -73.8636959965,
          -77.6162348882,
          -79.8276833061,
          -80.6352429349,
          -77.8872842368,
          -77.3766133673,
          -79.9932956384,
          -81.1836588468,
          -77.3951822819,
          -78.9059161097,
          -80.2609889241,
          -78.9791676456,
          -84.5060004524,
          -96.8289882328,
          -82.9851738516,
          -81.3676594998,
          -81.6805494865,
          -81.5219213688,
          -98.4203934803,
          -97.4159205309,
          -81.728599153,
          -95.7809572414,
          -97.5137615524,
          -80.6463187081,
          -83.5823818449,
          -97.3470413838,
          -84.1997930517,
          -123.0248671,
          -122.814973469,
          -75.4755373968,
          -122.650032751,
          -122.441469029,
          -95.9036195464,
          -122.937442209,
          -122.853625909,
          -123.117327584,
          -121.308690416,
          -75.1333888571,
          -79.9762614995,
          -75.3679048175,
          -80.0730358517,
          -80.0738525014,
          -75.6649126898,
          -103.218361421,
          -71.3743580803,
          -81.0249178286,
          -75.9266128837,
          -79.967381899,
          -79.8230343029,
          -71.4861485002,
          -83.9495877264,
          -96.7313495858,
          -71.4218129335,
          -85.2466771892,
          -87.3432371614,
          -71.4345615049,
          -80.9037852694,
          -89.978906085,
          -86.7845944773,
          -86.408628238,
          -76.5182644502,
          -111.931220784,
          -111.852431062,
          -111.967450557,
          -76.2567157761,
          -111.645715857,
          -112.011667394,
          -112.000961848,
          -111.699188517,
          -111.961589302,
          -113.579352503,
          -79.1911081,
          -76.3024325925,
          -76.3552763467,
          -73.2314828365,
          -77.0867762661,
          -76.3665945624,
          -122.468092906,
          -122.191153327,
          -122.323532482,
          -122.160703911,
          -79.9581615989,
          -76.0589579522,
          -122.335755583,
          -77.475568168,
          -122.153569982,
          -119.173245847,
          -122.210810557,
          -117.415973291,
          -76.6414278469,
          -122.217890194,
          -87.9896195955,
          -88.3897664444,
          -117.234571922,
          -89.3915106344,
          -122.45447391,
          -87.9672412429,
          -81.632165003,
          -122.598539476,
          -87.8735745085,
          -88.2457679157,
          -104.789064332,
          -87.813453024
         ],
         "marker": {
          "color": "#636efa",
          "symbol": "circle"
         },
         "mode": "markers",
         "name": "no",
         "showlegend": true,
         "type": "scattergeo"
        },
        {
         "geo": "geo",
         "hovertemplate": "top5state=yes<br>lats=%{lat}<br>longs=%{lon}<extra></extra>",
         "lat": [
          37.7650849031,
          34.0839734383,
          33.8389076996,
          37.9777042922,
          33.950774546,
          34.5315984948,
          33.6667651353,
          37.6861552276,
          37.9721810307,
          33.892965693,
          33.937867256,
          33.8374083001,
          39.7568503668,
          33.8880417923,
          32.6282964262,
          33.983588126,
          33.1248051026,
          37.8725678765,
          34.082871519,
          38.6947788342,
          36.8289400179,
          35.3513302855,
          33.8623571787,
          34.1879799605,
          33.8572126844,
          37.6329591551,
          36.7826786711,
          34.0974227833,
          38.4159992006,
          33.7786940635,
          37.5278685405,
          33.914667701,
          38.2558446343,
          34.181889373,
          32.8016581921,
          38.6750494328,
          34.073919653,
          33.8840378013,
          33.1346952955,
          33.7352277311,
          34.3973476773,
          34.6934347017,
          33.6952749077,
          37.6865101361,
          33.6634128948,
          33.8470531941,
          33.6780108904,
          33.7298067837,
          33.8060144825,
          33.9565748018,
          34.1182277898,
          33.5719743356,
          37.3999252379,
          33.9239616867,
          33.6095976891,
          37.7961925102,
          33.6150103607,
          37.6615478221,
          37.433869763,
          33.9068808228,
          38.2980424649,
          37.3055863217,
          33.6909533045,
          33.9244314112,
          34.5944899803,
          33.8575280159,
          33.8046419567,
          37.9479710365,
          34.1128158089,
          34.1597634806,
          34.0511315317,
          34.0392649464,
          34.1245895555,
          37.6656092171,
          40.5697591271,
          33.7897346094,
          34.1959237731,
          37.5009145276,
          37.790878035,
          33.2247457474,
          34.0585026366,
          34.1392322844,
          34.2743610206,
          38.7657516182,
          32.8355639418,
          38.5666321567,
          36.6889174321,
          33.9381251685,
          37.3003963176,
          37.5518226893,
          33.134965986,
          37.7623705462,
          37.7559136611,
          33.7366948419,
          37.7074299262,
          37.9766322679,
          34.0231891612,
          33.7308520326,
          37.6028390812,
          38.4464423102,
          37.3834416566,
          34.9333735757,
          33.8345985464,
          34.4119039185,
          34.1178445701,
          37.7243277375,
          37.5052158271,
          34.4285733874,
          38.3597235063,
          37.3646197504,
          33.9447322664,
          34.1917745655,
          33.5029980884,
          34.2662462857,
          38.1135329247,
          34.0554415174,
          33.1895481978,
          36.3270623157,
          33.7521523769,
          34.5277691103,
          33.9678255596,
          26.2701700158,
          26.6448544993,
          26.1418205174,
          26.5279818052,
          28.905060048,
          29.6817027431,
          25.869626948,
          26.3749012715,
          26.3049966413,
          26.0287025703,
          27.9805997919,
          26.0789340778,
          25.9432633871,
          30.3319820139,
          26.1605584187,
          25.9773288233,
          25.782295897,
          29.5405590976,
          27.9090907734,
          28.1158805782,
          25.8167101614,
          28.0558482664,
          27.9838255249,
          28.4800646771,
          26.2428335699,
          27.996198041,
          26.1259853923,
          27.2808680308,
          30.4548951211,
          26.1546878303,
          27.792894971,
          26.7478714655,
          26.0127387534,
          40.1151051361,
          42.095623342,
          41.6911653908,
          41.8372950615,
          40.4756778366,
          41.7637750837,
          42.0385402472,
          42.0463099649,
          40.7515684146,
          41.844539143,
          39.8555822645,
          42.1180663695,
          41.5206390037,
          41.7482001145,
          42.3702955582,
          42.0305488755,
          42.2633180015,
          39.7716473322,
          42.3847015631,
          42.2756833567,
          42.3126884626,
          42.8909745661,
          42.4859956992,
          42.580985283,
          43.0236339386,
          42.5817340358,
          42.6645256768,
          42.4934233034,
          42.2748756474,
          42.4765016267,
          42.3971592737,
          42.7090711751,
          42.3192220455,
          42.9614815414,
          33.1087043234,
          32.699836862,
          32.4546510898,
          35.2003835544,
          30.3068610342,
          29.7571153043,
          32.7939804066,
          27.7291588337,
          25.9981977861,
          32.988438459,
          30.5867615801,
          30.084416647,
          30.6665687582,
          32.780192804,
          33.2156160443,
          33.1507545152,
          32.9100799867,
          26.3155843974,
          31.8481123506,
          29.7806691396,
          32.6867650238,
          29.5584850577,
          33.1988886952,
          29.6589511488,
          33.5666251178,
          26.2033406464,
          31.879456461,
          26.2186289942,
          29.563674661,
          33.0451992429,
          32.8583808131,
          31.0757648143,
          32.5192857856,
          32.0285948356,
          29.4872995808,
          27.5482572475,
          32.7641310166,
          32.3154021183,
          32.9716582389,
          26.168815399,
          31.440468746,
          31.5597607137,
          29.5974680902,
          33.0502149278,
          29.4721475333,
          33.9072739838,
          30.5239578235
         ],
         "legendgroup": "yes",
         "lon": [
          -122.266489842,
          -118.135514119,
          -117.857613481,
          -121.796606971,
          -117.725326968,
          -117.211012664,
          -117.91350475,
          -122.468298024,
          -122.001588036,
          -118.227506568,
          -118.131150116,
          -118.255936422,
          -121.815983972,
          -118.127100236,
          -117.010042407,
          -117.665296584,
          -117.282903303,
          -122.274907975,
          -117.972100918,
          -121.287991502,
          -119.68665285,
          -119.029786003,
          -117.564224471,
          -118.323429032,
          -118.004517591,
          -122.077051051,
          -119.794126569,
          -117.459241285,
          -121.384137762,
          -117.960111162,
          -121.984121512,
          -118.347667728,
          -122.039303253,
          -118.24676666,
          -116.960483614,
          -121.147605753,
          -118.029071951,
          -117.927850895,
          -117.072122618,
          -116.994605005,
          -117.314392219,
          -118.175306356,
          -118.001810806,
          -121.764357841,
          -117.670683341,
          -118.122204765,
          -117.773633283,
          -116.237258141,
          -118.160894146,
          -118.344444926,
          -118.408500088,
          -117.190921143,
          -122.079544343,
          -118.201648375,
          -117.655029608,
          -121.231230612,
          -117.867364631,
          -120.988548061,
          -121.892083025,
          -118.082915204,
          -122.301093331,
          -120.477710571,
          -117.18487699,
          -117.204501895,
          -118.105772328,
          -118.376567893,
          -117.8231855,
          -122.336803759,
          -117.388535978,
          -118.138921644,
          -117.170935294,
          -117.606427103,
          -117.56617587,
          -121.880775002,
          -122.365026322,
          -117.223291831,
          -119.18187657,
          -122.224767617,
          -122.214859257,
          -117.308200285,
          -117.762551658,
          -117.295272732,
          -119.231436551,
          -121.302847708,
          -117.119792061,
          -121.468299801,
          -121.631811961,
          -117.394845824,
          -121.847228423,
          -122.312390346,
          -117.174363098,
          -121.938150371,
          -122.440987876,
          -117.881890237,
          -122.159061655,
          -121.311121669,
          -118.481563937,
          -117.810730968,
          -122.018966106,
          -122.706005935,
          -122.025624324,
          -120.443326954,
          -118.341641983,
          -118.503504698,
          -117.660290062,
          -121.444621463,
          -120.858762412,
          -119.720187334,
          -121.96903046,
          -121.967932117,
          -118.192550525,
          -118.874888411,
          -117.12239028,
          -118.748980462,
          -122.235518478,
          -117.91128206,
          -117.238607217,
          -119.325273214,
          -117.993760054,
          -117.353855136,
          -118.018796341,
          -80.2592221493,
          -81.9931108298,
          -80.1471225502,
          -80.0814660417,
          -81.2134269839,
          -82.345278266,
          -80.3045294666,
          -80.1078208861,
          -80.1277706584,
          -80.1683976059,
          -82.7544099135,
          -80.2869750311,
          -80.2425332162,
          -81.6752266207,
          -80.2241278263,
          -80.3357316003,
          -80.2215647762,
          -81.2508206143,
          -82.7714203383,
          -80.6508814613,
          -80.1341952652,
          -81.9539536462,
          -80.6666722846,
          -81.3452411179,
          -80.131245161,
          -82.4450349799,
          -80.2616762465,
          -80.3832154574,
          -84.2526459938,
          -80.299841102,
          -82.6650743239,
          -80.1337397544,
          -80.3384522664,
          -88.2729845986,
          -87.9825627457,
          -88.1011218035,
          -87.6862308732,
          -88.9700813515,
          -88.2900949057,
          -88.3224947104,
          -87.6940348773,
          -89.615255458,
          -87.7592873023,
          -88.9336983421,
          -88.042989882,
          -88.1507097756,
          -88.1657705099,
          -87.8712595095,
          -88.0838663543,
          -89.0625958362,
          -89.6540780049,
          -83.1053178776,
          -83.7311374448,
          -83.2129368006,
          -85.7067229249,
          -83.3771159714,
          -83.0303680858,
          -83.6920640313,
          -83.1457545154,
          -83.1563037157,
          -83.0270075248,
          -85.588188576,
          -83.2605284738,
          -83.3733073683,
          -84.5584470022,
          -83.3805461719,
          -85.6556858473,
          -96.6735373763,
          -97.125089612,
          -99.7383043723,
          -101.828292514,
          -97.7554771245,
          -94.9676276217,
          -96.7656929463,
          -97.4019095379,
          -97.4566343763,
          -96.900137433,
          -96.2957958614,
          -94.1441072222,
          -96.3663819223,
          -97.3470323225,
          -97.1412438684,
          -96.8201336312,
          -96.6304258603,
          -98.1637130371,
          -106.432021874,
          -95.3860033966,
          -97.0209311916,
          -95.3208389111,
          -96.6677029773,
          -95.1509173148,
          -101.886335663,
          -98.322770513,
          -102.344465435,
          -98.2451704536,
          -95.5382066661,
          -96.9829273031,
          -96.9703058323,
          -97.7285651299,
          -94.762197598,
          -102.109700973,
          -95.1089858945,
          -99.4867797312,
          -96.5927445114,
          -95.3050093799,
          -96.7093052991,
          -98.1904720704,
          -100.452243142,
          -97.1883333282,
          -95.627455775,
          -96.7486409797,
          -98.5246763525,
          -98.5292981697,
          -97.6669801882
         ],
         "marker": {
          "color": "#EF553B",
          "symbol": "circle"
         },
         "mode": "markers",
         "name": "yes",
         "showlegend": true,
         "type": "scattergeo"
        }
       ],
       "layout": {
        "geo": {
         "center": {},
         "domain": {
          "x": [
           0,
           1
          ],
          "y": [
           0,
           1
          ]
         },
         "scope": "usa"
        },
        "height": 400,
        "legend": {
         "title": {
          "text": "top5state"
         },
         "tracegroupgap": 0
        },
        "margin": {
         "t": 60
        },
        "showlegend": false,
        "template": {
         "data": {
          "bar": [
           {
            "error_x": {
             "color": "#2a3f5f"
            },
            "error_y": {
             "color": "#2a3f5f"
            },
            "marker": {
             "line": {
              "color": "#E5ECF6",
              "width": 0.5
             },
             "pattern": {
              "fillmode": "overlay",
              "size": 10,
              "solidity": 0.2
             }
            },
            "type": "bar"
           }
          ],
          "barpolar": [
           {
            "marker": {
             "line": {
              "color": "#E5ECF6",
              "width": 0.5
             },
             "pattern": {
              "fillmode": "overlay",
              "size": 10,
              "solidity": 0.2
             }
            },
            "type": "barpolar"
           }
          ],
          "carpet": [
           {
            "aaxis": {
             "endlinecolor": "#2a3f5f",
             "gridcolor": "white",
             "linecolor": "white",
             "minorgridcolor": "white",
             "startlinecolor": "#2a3f5f"
            },
            "baxis": {
             "endlinecolor": "#2a3f5f",
             "gridcolor": "white",
             "linecolor": "white",
             "minorgridcolor": "white",
             "startlinecolor": "#2a3f5f"
            },
            "type": "carpet"
           }
          ],
          "choropleth": [
           {
            "colorbar": {
             "outlinewidth": 0,
             "ticks": ""
            },
            "type": "choropleth"
           }
          ],
          "contour": [
           {
            "colorbar": {
             "outlinewidth": 0,
             "ticks": ""
            },
            "colorscale": [
             [
              0,
              "#0d0887"
             ],
             [
              0.1111111111111111,
              "#46039f"
             ],
             [
              0.2222222222222222,
              "#7201a8"
             ],
             [
              0.3333333333333333,
              "#9c179e"
             ],
             [
              0.4444444444444444,
              "#bd3786"
             ],
             [
              0.5555555555555556,
              "#d8576b"
             ],
             [
              0.6666666666666666,
              "#ed7953"
             ],
             [
              0.7777777777777778,
              "#fb9f3a"
             ],
             [
              0.8888888888888888,
              "#fdca26"
             ],
             [
              1,
              "#f0f921"
             ]
            ],
            "type": "contour"
           }
          ],
          "contourcarpet": [
           {
            "colorbar": {
             "outlinewidth": 0,
             "ticks": ""
            },
            "type": "contourcarpet"
           }
          ],
          "heatmap": [
           {
            "colorbar": {
             "outlinewidth": 0,
             "ticks": ""
            },
            "colorscale": [
             [
              0,
              "#0d0887"
             ],
             [
              0.1111111111111111,
              "#46039f"
             ],
             [
              0.2222222222222222,
              "#7201a8"
             ],
             [
              0.3333333333333333,
              "#9c179e"
             ],
             [
              0.4444444444444444,
              "#bd3786"
             ],
             [
              0.5555555555555556,
              "#d8576b"
             ],
             [
              0.6666666666666666,
              "#ed7953"
             ],
             [
              0.7777777777777778,
              "#fb9f3a"
             ],
             [
              0.8888888888888888,
              "#fdca26"
             ],
             [
              1,
              "#f0f921"
             ]
            ],
            "type": "heatmap"
           }
          ],
          "heatmapgl": [
           {
            "colorbar": {
             "outlinewidth": 0,
             "ticks": ""
            },
            "colorscale": [
             [
              0,
              "#0d0887"
             ],
             [
              0.1111111111111111,
              "#46039f"
             ],
             [
              0.2222222222222222,
              "#7201a8"
             ],
             [
              0.3333333333333333,
              "#9c179e"
             ],
             [
              0.4444444444444444,
              "#bd3786"
             ],
             [
              0.5555555555555556,
              "#d8576b"
             ],
             [
              0.6666666666666666,
              "#ed7953"
             ],
             [
              0.7777777777777778,
              "#fb9f3a"
             ],
             [
              0.8888888888888888,
              "#fdca26"
             ],
             [
              1,
              "#f0f921"
             ]
            ],
            "type": "heatmapgl"
           }
          ],
          "histogram": [
           {
            "marker": {
             "pattern": {
              "fillmode": "overlay",
              "size": 10,
              "solidity": 0.2
             }
            },
            "type": "histogram"
           }
          ],
          "histogram2d": [
           {
            "colorbar": {
             "outlinewidth": 0,
             "ticks": ""
            },
            "colorscale": [
             [
              0,
              "#0d0887"
             ],
             [
              0.1111111111111111,
              "#46039f"
             ],
             [
              0.2222222222222222,
              "#7201a8"
             ],
             [
              0.3333333333333333,
              "#9c179e"
             ],
             [
              0.4444444444444444,
              "#bd3786"
             ],
             [
              0.5555555555555556,
              "#d8576b"
             ],
             [
              0.6666666666666666,
              "#ed7953"
             ],
             [
              0.7777777777777778,
              "#fb9f3a"
             ],
             [
              0.8888888888888888,
              "#fdca26"
             ],
             [
              1,
              "#f0f921"
             ]
            ],
            "type": "histogram2d"
           }
          ],
          "histogram2dcontour": [
           {
            "colorbar": {
             "outlinewidth": 0,
             "ticks": ""
            },
            "colorscale": [
             [
              0,
              "#0d0887"
             ],
             [
              0.1111111111111111,
              "#46039f"
             ],
             [
              0.2222222222222222,
              "#7201a8"
             ],
             [
              0.3333333333333333,
              "#9c179e"
             ],
             [
              0.4444444444444444,
              "#bd3786"
             ],
             [
              0.5555555555555556,
              "#d8576b"
             ],
             [
              0.6666666666666666,
              "#ed7953"
             ],
             [
              0.7777777777777778,
              "#fb9f3a"
             ],
             [
              0.8888888888888888,
              "#fdca26"
             ],
             [
              1,
              "#f0f921"
             ]
            ],
            "type": "histogram2dcontour"
           }
          ],
          "mesh3d": [
           {
            "colorbar": {
             "outlinewidth": 0,
             "ticks": ""
            },
            "type": "mesh3d"
           }
          ],
          "parcoords": [
           {
            "line": {
             "colorbar": {
              "outlinewidth": 0,
              "ticks": ""
             }
            },
            "type": "parcoords"
           }
          ],
          "pie": [
           {
            "automargin": true,
            "type": "pie"
           }
          ],
          "scatter": [
           {
            "marker": {
             "colorbar": {
              "outlinewidth": 0,
              "ticks": ""
             }
            },
            "type": "scatter"
           }
          ],
          "scatter3d": [
           {
            "line": {
             "colorbar": {
              "outlinewidth": 0,
              "ticks": ""
             }
            },
            "marker": {
             "colorbar": {
              "outlinewidth": 0,
              "ticks": ""
             }
            },
            "type": "scatter3d"
           }
          ],
          "scattercarpet": [
           {
            "marker": {
             "colorbar": {
              "outlinewidth": 0,
              "ticks": ""
             }
            },
            "type": "scattercarpet"
           }
          ],
          "scattergeo": [
           {
            "marker": {
             "colorbar": {
              "outlinewidth": 0,
              "ticks": ""
             }
            },
            "type": "scattergeo"
           }
          ],
          "scattergl": [
           {
            "marker": {
             "colorbar": {
              "outlinewidth": 0,
              "ticks": ""
             }
            },
            "type": "scattergl"
           }
          ],
          "scattermapbox": [
           {
            "marker": {
             "colorbar": {
              "outlinewidth": 0,
              "ticks": ""
             }
            },
            "type": "scattermapbox"
           }
          ],
          "scatterpolar": [
           {
            "marker": {
             "colorbar": {
              "outlinewidth": 0,
              "ticks": ""
             }
            },
            "type": "scatterpolar"
           }
          ],
          "scatterpolargl": [
           {
            "marker": {
             "colorbar": {
              "outlinewidth": 0,
              "ticks": ""
             }
            },
            "type": "scatterpolargl"
           }
          ],
          "scatterternary": [
           {
            "marker": {
             "colorbar": {
              "outlinewidth": 0,
              "ticks": ""
             }
            },
            "type": "scatterternary"
           }
          ],
          "surface": [
           {
            "colorbar": {
             "outlinewidth": 0,
             "ticks": ""
            },
            "colorscale": [
             [
              0,
              "#0d0887"
             ],
             [
              0.1111111111111111,
              "#46039f"
             ],
             [
              0.2222222222222222,
              "#7201a8"
             ],
             [
              0.3333333333333333,
              "#9c179e"
             ],
             [
              0.4444444444444444,
              "#bd3786"
             ],
             [
              0.5555555555555556,
              "#d8576b"
             ],
             [
              0.6666666666666666,
              "#ed7953"
             ],
             [
              0.7777777777777778,
              "#fb9f3a"
             ],
             [
              0.8888888888888888,
              "#fdca26"
             ],
             [
              1,
              "#f0f921"
             ]
            ],
            "type": "surface"
           }
          ],
          "table": [
           {
            "cells": {
             "fill": {
              "color": "#EBF0F8"
             },
             "line": {
              "color": "white"
             }
            },
            "header": {
             "fill": {
              "color": "#C8D4E3"
             },
             "line": {
              "color": "white"
             }
            },
            "type": "table"
           }
          ]
         },
         "layout": {
          "annotationdefaults": {
           "arrowcolor": "#2a3f5f",
           "arrowhead": 0,
           "arrowwidth": 1
          },
          "autotypenumbers": "strict",
          "coloraxis": {
           "colorbar": {
            "outlinewidth": 0,
            "ticks": ""
           }
          },
          "colorscale": {
           "diverging": [
            [
             0,
             "#8e0152"
            ],
            [
             0.1,
             "#c51b7d"
            ],
            [
             0.2,
             "#de77ae"
            ],
            [
             0.3,
             "#f1b6da"
            ],
            [
             0.4,
             "#fde0ef"
            ],
            [
             0.5,
             "#f7f7f7"
            ],
            [
             0.6,
             "#e6f5d0"
            ],
            [
             0.7,
             "#b8e186"
            ],
            [
             0.8,
             "#7fbc41"
            ],
            [
             0.9,
             "#4d9221"
            ],
            [
             1,
             "#276419"
            ]
           ],
           "sequential": [
            [
             0,
             "#0d0887"
            ],
            [
             0.1111111111111111,
             "#46039f"
            ],
            [
             0.2222222222222222,
             "#7201a8"
            ],
            [
             0.3333333333333333,
             "#9c179e"
            ],
            [
             0.4444444444444444,
             "#bd3786"
            ],
            [
             0.5555555555555556,
             "#d8576b"
            ],
            [
             0.6666666666666666,
             "#ed7953"
            ],
            [
             0.7777777777777778,
             "#fb9f3a"
            ],
            [
             0.8888888888888888,
             "#fdca26"
            ],
            [
             1,
             "#f0f921"
            ]
           ],
           "sequentialminus": [
            [
             0,
             "#0d0887"
            ],
            [
             0.1111111111111111,
             "#46039f"
            ],
            [
             0.2222222222222222,
             "#7201a8"
            ],
            [
             0.3333333333333333,
             "#9c179e"
            ],
            [
             0.4444444444444444,
             "#bd3786"
            ],
            [
             0.5555555555555556,
             "#d8576b"
            ],
            [
             0.6666666666666666,
             "#ed7953"
            ],
            [
             0.7777777777777778,
             "#fb9f3a"
            ],
            [
             0.8888888888888888,
             "#fdca26"
            ],
            [
             1,
             "#f0f921"
            ]
           ]
          },
          "colorway": [
           "#636efa",
           "#EF553B",
           "#00cc96",
           "#ab63fa",
           "#FFA15A",
           "#19d3f3",
           "#FF6692",
           "#B6E880",
           "#FF97FF",
           "#FECB52"
          ],
          "font": {
           "color": "#2a3f5f"
          },
          "geo": {
           "bgcolor": "white",
           "lakecolor": "white",
           "landcolor": "#E5ECF6",
           "showlakes": true,
           "showland": true,
           "subunitcolor": "white"
          },
          "hoverlabel": {
           "align": "left"
          },
          "hovermode": "closest",
          "mapbox": {
           "style": "light"
          },
          "paper_bgcolor": "white",
          "plot_bgcolor": "#E5ECF6",
          "polar": {
           "angularaxis": {
            "gridcolor": "white",
            "linecolor": "white",
            "ticks": ""
           },
           "bgcolor": "#E5ECF6",
           "radialaxis": {
            "gridcolor": "white",
            "linecolor": "white",
            "ticks": ""
           }
          },
          "scene": {
           "xaxis": {
            "backgroundcolor": "#E5ECF6",
            "gridcolor": "white",
            "gridwidth": 2,
            "linecolor": "white",
            "showbackground": true,
            "ticks": "",
            "zerolinecolor": "white"
           },
           "yaxis": {
            "backgroundcolor": "#E5ECF6",
            "gridcolor": "white",
            "gridwidth": 2,
            "linecolor": "white",
            "showbackground": true,
            "ticks": "",
            "zerolinecolor": "white"
           },
           "zaxis": {
            "backgroundcolor": "#E5ECF6",
            "gridcolor": "white",
            "gridwidth": 2,
            "linecolor": "white",
            "showbackground": true,
            "ticks": "",
            "zerolinecolor": "white"
           }
          },
          "shapedefaults": {
           "line": {
            "color": "#2a3f5f"
           }
          },
          "ternary": {
           "aaxis": {
            "gridcolor": "white",
            "linecolor": "white",
            "ticks": ""
           },
           "baxis": {
            "gridcolor": "white",
            "linecolor": "white",
            "ticks": ""
           },
           "bgcolor": "#E5ECF6",
           "caxis": {
            "gridcolor": "white",
            "linecolor": "white",
            "ticks": ""
           }
          },
          "title": {
           "x": 0.05
          },
          "xaxis": {
           "automargin": true,
           "gridcolor": "white",
           "linecolor": "white",
           "ticks": "",
           "title": {
            "standoff": 15
           },
           "zerolinecolor": "white",
           "zerolinewidth": 2
          },
          "yaxis": {
           "automargin": true,
           "gridcolor": "white",
           "linecolor": "white",
           "ticks": "",
           "title": {
            "standoff": 15
           },
           "zerolinecolor": "white",
           "zerolinewidth": 2
          }
         }
        },
        "title": {
         "text": "PLACES survey locations"
        },
        "width": 800
       }
      }
     },
     "metadata": {},
     "output_type": "display_data"
    }
   ],
   "source": [
    "\n",
    "geometry = [Point(xy) for xy in zip(lats, longs)]\n",
    "gdf = GeoDataFrame(prevent_df, geometry=geometry)\n",
    "\n",
    "world = gpd.read_file(gpd.datasets.get_path('naturalearth_lowres'))\n",
    "usa = world.loc[world['name'] == 'United States of America']\n",
    "\n",
    "fig = px.scatter_geo(men_df, lat=men_df['lats'], lon=men_df['longs'], width=800, height=400, color=men_df['top5state'])\n",
    "fig.update_layout(title = 'PLACES survey locations', geo_scope='usa', showlegend=False)\n",
    "fig.show()"
   ]
  },
  {
   "cell_type": "code",
   "execution_count": 15,
   "metadata": {},
   "outputs": [
    {
     "data": {
      "application/vnd.plotly.v1+json": {
       "config": {
        "plotlyServerURL": "https://plot.ly"
       },
       "data": [
        {
         "geo": "geo",
         "hovertemplate": "lat=%{lat}<br>lon=%{lon}<extra></extra>",
         "lat": [
          37.7650849031,
          34.0839734383,
          33.8389076996,
          37.9777042922,
          33.950774546,
          34.5315984948,
          33.6667651353,
          37.6861552276,
          37.9721810307,
          33.892965693,
          33.937867256,
          33.8374083001,
          39.7568503668,
          33.8880417923,
          32.6282964262,
          33.983588126,
          33.1248051026,
          37.8725678765,
          34.082871519,
          38.6947788342,
          36.8289400179,
          35.3513302855,
          33.8623571787,
          34.1879799605,
          33.8572126844,
          37.6329591551,
          36.7826786711,
          34.0974227833,
          38.4159992006,
          33.7786940635,
          37.5278685405,
          33.914667701,
          38.2558446343,
          34.181889373,
          32.8016581921,
          38.6750494328,
          34.073919653,
          33.8840378013,
          33.1346952955,
          33.7352277311,
          34.3973476773,
          34.6934347017,
          33.6952749077,
          37.6865101361,
          33.6634128948,
          33.8470531941,
          33.6780108904,
          33.7298067837,
          33.8060144825,
          33.9565748018,
          34.1182277898,
          33.5719743356,
          37.3999252379,
          33.9239616867,
          33.6095976891,
          37.7961925102,
          33.6150103607,
          37.6615478221,
          37.433869763,
          33.9068808228,
          38.2980424649,
          37.3055863217,
          33.6909533045,
          33.9244314112,
          34.5944899803,
          33.8575280159,
          33.8046419567,
          37.9479710365,
          34.1128158089,
          34.1597634806,
          34.0511315317,
          34.0392649464,
          34.1245895555,
          37.6656092171,
          40.5697591271,
          33.7897346094,
          34.1959237731,
          37.5009145276,
          37.790878035,
          33.2247457474,
          34.0585026366,
          34.1392322844,
          34.2743610206,
          38.7657516182,
          32.8355639418,
          38.5666321567,
          36.6889174321,
          33.9381251685,
          37.3003963176,
          37.5518226893,
          33.134965986,
          37.7623705462,
          37.7559136611,
          33.7366948419,
          37.7074299262,
          37.9766322679,
          34.0231891612,
          33.7308520326,
          37.6028390812,
          38.4464423102,
          37.3834416566,
          34.9333735757,
          33.8345985464,
          34.4119039185,
          34.1178445701,
          37.7243277375,
          37.5052158271,
          34.4285733874,
          38.3597235063,
          37.3646197504,
          33.9447322664,
          34.1917745655,
          33.5029980884,
          34.2662462857,
          38.1135329247,
          34.0554415174,
          33.1895481978,
          36.3270623157,
          33.7521523769,
          34.5277691103,
          33.9678255596,
          26.2701700158,
          26.6448544993,
          26.1418205174,
          26.5279818052,
          28.905060048,
          29.6817027431,
          25.869626948,
          26.3749012715,
          26.3049966413,
          26.0287025703,
          27.9805997919,
          26.0789340778,
          25.9432633871,
          30.3319820139,
          26.1605584187,
          25.9773288233,
          25.782295897,
          29.5405590976,
          27.9090907734,
          28.1158805782,
          25.8167101614,
          28.0558482664,
          27.9838255249,
          28.4800646771,
          26.2428335699,
          27.996198041,
          26.1259853923,
          27.2808680308,
          30.4548951211,
          26.1546878303,
          27.792894971,
          26.7478714655,
          26.0127387534,
          40.1151051361,
          42.095623342,
          41.6911653908,
          41.8372950615,
          40.4756778366,
          41.7637750837,
          42.0385402472,
          42.0463099649,
          40.7515684146,
          41.844539143,
          39.8555822645,
          42.1180663695,
          41.5206390037,
          41.7482001145,
          42.3702955582,
          42.0305488755,
          42.2633180015,
          39.7716473322,
          42.3847015631,
          42.2756833567,
          42.3126884626,
          42.8909745661,
          42.4859956992,
          42.580985283,
          43.0236339386,
          42.5817340358,
          42.6645256768,
          42.4934233034,
          42.2748756474,
          42.4765016267,
          42.3971592737,
          42.7090711751,
          42.3192220455,
          42.9614815414,
          33.1087043234,
          32.699836862,
          32.4546510898,
          35.2003835544,
          30.3068610342,
          29.7571153043,
          32.7939804066,
          27.7291588337,
          25.9981977861,
          32.988438459,
          30.5867615801,
          30.084416647,
          30.6665687582,
          32.780192804,
          33.2156160443,
          33.1507545152,
          32.9100799867,
          26.3155843974,
          31.8481123506,
          29.7806691396,
          32.6867650238,
          29.5584850577,
          33.1988886952,
          29.6589511488,
          33.5666251178,
          26.2033406464,
          31.879456461,
          26.2186289942,
          29.563674661,
          33.0451992429,
          32.8583808131,
          31.0757648143,
          32.5192857856,
          32.0285948356,
          29.4872995808,
          27.5482572475,
          32.7641310166,
          32.3154021183,
          32.9716582389,
          26.168815399,
          31.440468746,
          31.5597607137,
          29.5974680902,
          33.0502149278,
          29.4721475333,
          33.9072739838,
          30.5239578235
         ],
         "legendgroup": "",
         "lon": [
          -122.266489842,
          -118.135514119,
          -117.857613481,
          -121.796606971,
          -117.725326968,
          -117.211012664,
          -117.91350475,
          -122.468298024,
          -122.001588036,
          -118.227506568,
          -118.131150116,
          -118.255936422,
          -121.815983972,
          -118.127100236,
          -117.010042407,
          -117.665296584,
          -117.282903303,
          -122.274907975,
          -117.972100918,
          -121.287991502,
          -119.68665285,
          -119.029786003,
          -117.564224471,
          -118.323429032,
          -118.004517591,
          -122.077051051,
          -119.794126569,
          -117.459241285,
          -121.384137762,
          -117.960111162,
          -121.984121512,
          -118.347667728,
          -122.039303253,
          -118.24676666,
          -116.960483614,
          -121.147605753,
          -118.029071951,
          -117.927850895,
          -117.072122618,
          -116.994605005,
          -117.314392219,
          -118.175306356,
          -118.001810806,
          -121.764357841,
          -117.670683341,
          -118.122204765,
          -117.773633283,
          -116.237258141,
          -118.160894146,
          -118.344444926,
          -118.408500088,
          -117.190921143,
          -122.079544343,
          -118.201648375,
          -117.655029608,
          -121.231230612,
          -117.867364631,
          -120.988548061,
          -121.892083025,
          -118.082915204,
          -122.301093331,
          -120.477710571,
          -117.18487699,
          -117.204501895,
          -118.105772328,
          -118.376567893,
          -117.8231855,
          -122.336803759,
          -117.388535978,
          -118.138921644,
          -117.170935294,
          -117.606427103,
          -117.56617587,
          -121.880775002,
          -122.365026322,
          -117.223291831,
          -119.18187657,
          -122.224767617,
          -122.214859257,
          -117.308200285,
          -117.762551658,
          -117.295272732,
          -119.231436551,
          -121.302847708,
          -117.119792061,
          -121.468299801,
          -121.631811961,
          -117.394845824,
          -121.847228423,
          -122.312390346,
          -117.174363098,
          -121.938150371,
          -122.440987876,
          -117.881890237,
          -122.159061655,
          -121.311121669,
          -118.481563937,
          -117.810730968,
          -122.018966106,
          -122.706005935,
          -122.025624324,
          -120.443326954,
          -118.341641983,
          -118.503504698,
          -117.660290062,
          -121.444621463,
          -120.858762412,
          -119.720187334,
          -121.96903046,
          -121.967932117,
          -118.192550525,
          -118.874888411,
          -117.12239028,
          -118.748980462,
          -122.235518478,
          -117.91128206,
          -117.238607217,
          -119.325273214,
          -117.993760054,
          -117.353855136,
          -118.018796341,
          -80.2592221493,
          -81.9931108298,
          -80.1471225502,
          -80.0814660417,
          -81.2134269839,
          -82.345278266,
          -80.3045294666,
          -80.1078208861,
          -80.1277706584,
          -80.1683976059,
          -82.7544099135,
          -80.2869750311,
          -80.2425332162,
          -81.6752266207,
          -80.2241278263,
          -80.3357316003,
          -80.2215647762,
          -81.2508206143,
          -82.7714203383,
          -80.6508814613,
          -80.1341952652,
          -81.9539536462,
          -80.6666722846,
          -81.3452411179,
          -80.131245161,
          -82.4450349799,
          -80.2616762465,
          -80.3832154574,
          -84.2526459938,
          -80.299841102,
          -82.6650743239,
          -80.1337397544,
          -80.3384522664,
          -88.2729845986,
          -87.9825627457,
          -88.1011218035,
          -87.6862308732,
          -88.9700813515,
          -88.2900949057,
          -88.3224947104,
          -87.6940348773,
          -89.615255458,
          -87.7592873023,
          -88.9336983421,
          -88.042989882,
          -88.1507097756,
          -88.1657705099,
          -87.8712595095,
          -88.0838663543,
          -89.0625958362,
          -89.6540780049,
          -83.1053178776,
          -83.7311374448,
          -83.2129368006,
          -85.7067229249,
          -83.3771159714,
          -83.0303680858,
          -83.6920640313,
          -83.1457545154,
          -83.1563037157,
          -83.0270075248,
          -85.588188576,
          -83.2605284738,
          -83.3733073683,
          -84.5584470022,
          -83.3805461719,
          -85.6556858473,
          -96.6735373763,
          -97.125089612,
          -99.7383043723,
          -101.828292514,
          -97.7554771245,
          -94.9676276217,
          -96.7656929463,
          -97.4019095379,
          -97.4566343763,
          -96.900137433,
          -96.2957958614,
          -94.1441072222,
          -96.3663819223,
          -97.3470323225,
          -97.1412438684,
          -96.8201336312,
          -96.6304258603,
          -98.1637130371,
          -106.432021874,
          -95.3860033966,
          -97.0209311916,
          -95.3208389111,
          -96.6677029773,
          -95.1509173148,
          -101.886335663,
          -98.322770513,
          -102.344465435,
          -98.2451704536,
          -95.5382066661,
          -96.9829273031,
          -96.9703058323,
          -97.7285651299,
          -94.762197598,
          -102.109700973,
          -95.1089858945,
          -99.4867797312,
          -96.5927445114,
          -95.3050093799,
          -96.7093052991,
          -98.1904720704,
          -100.452243142,
          -97.1883333282,
          -95.627455775,
          -96.7486409797,
          -98.5246763525,
          -98.5292981697,
          -97.6669801882
         ],
         "marker": {
          "color": "red",
          "symbol": "circle"
         },
         "mode": "markers",
         "name": "",
         "showlegend": false,
         "type": "scattergeo"
        }
       ],
       "layout": {
        "geo": {
         "center": {},
         "domain": {
          "x": [
           0,
           1
          ],
          "y": [
           0,
           1
          ]
         },
         "scope": "usa"
        },
        "height": 400,
        "legend": {
         "tracegroupgap": 0
        },
        "margin": {
         "t": 60
        },
        "template": {
         "data": {
          "bar": [
           {
            "error_x": {
             "color": "#2a3f5f"
            },
            "error_y": {
             "color": "#2a3f5f"
            },
            "marker": {
             "line": {
              "color": "#E5ECF6",
              "width": 0.5
             },
             "pattern": {
              "fillmode": "overlay",
              "size": 10,
              "solidity": 0.2
             }
            },
            "type": "bar"
           }
          ],
          "barpolar": [
           {
            "marker": {
             "line": {
              "color": "#E5ECF6",
              "width": 0.5
             },
             "pattern": {
              "fillmode": "overlay",
              "size": 10,
              "solidity": 0.2
             }
            },
            "type": "barpolar"
           }
          ],
          "carpet": [
           {
            "aaxis": {
             "endlinecolor": "#2a3f5f",
             "gridcolor": "white",
             "linecolor": "white",
             "minorgridcolor": "white",
             "startlinecolor": "#2a3f5f"
            },
            "baxis": {
             "endlinecolor": "#2a3f5f",
             "gridcolor": "white",
             "linecolor": "white",
             "minorgridcolor": "white",
             "startlinecolor": "#2a3f5f"
            },
            "type": "carpet"
           }
          ],
          "choropleth": [
           {
            "colorbar": {
             "outlinewidth": 0,
             "ticks": ""
            },
            "type": "choropleth"
           }
          ],
          "contour": [
           {
            "colorbar": {
             "outlinewidth": 0,
             "ticks": ""
            },
            "colorscale": [
             [
              0,
              "#0d0887"
             ],
             [
              0.1111111111111111,
              "#46039f"
             ],
             [
              0.2222222222222222,
              "#7201a8"
             ],
             [
              0.3333333333333333,
              "#9c179e"
             ],
             [
              0.4444444444444444,
              "#bd3786"
             ],
             [
              0.5555555555555556,
              "#d8576b"
             ],
             [
              0.6666666666666666,
              "#ed7953"
             ],
             [
              0.7777777777777778,
              "#fb9f3a"
             ],
             [
              0.8888888888888888,
              "#fdca26"
             ],
             [
              1,
              "#f0f921"
             ]
            ],
            "type": "contour"
           }
          ],
          "contourcarpet": [
           {
            "colorbar": {
             "outlinewidth": 0,
             "ticks": ""
            },
            "type": "contourcarpet"
           }
          ],
          "heatmap": [
           {
            "colorbar": {
             "outlinewidth": 0,
             "ticks": ""
            },
            "colorscale": [
             [
              0,
              "#0d0887"
             ],
             [
              0.1111111111111111,
              "#46039f"
             ],
             [
              0.2222222222222222,
              "#7201a8"
             ],
             [
              0.3333333333333333,
              "#9c179e"
             ],
             [
              0.4444444444444444,
              "#bd3786"
             ],
             [
              0.5555555555555556,
              "#d8576b"
             ],
             [
              0.6666666666666666,
              "#ed7953"
             ],
             [
              0.7777777777777778,
              "#fb9f3a"
             ],
             [
              0.8888888888888888,
              "#fdca26"
             ],
             [
              1,
              "#f0f921"
             ]
            ],
            "type": "heatmap"
           }
          ],
          "heatmapgl": [
           {
            "colorbar": {
             "outlinewidth": 0,
             "ticks": ""
            },
            "colorscale": [
             [
              0,
              "#0d0887"
             ],
             [
              0.1111111111111111,
              "#46039f"
             ],
             [
              0.2222222222222222,
              "#7201a8"
             ],
             [
              0.3333333333333333,
              "#9c179e"
             ],
             [
              0.4444444444444444,
              "#bd3786"
             ],
             [
              0.5555555555555556,
              "#d8576b"
             ],
             [
              0.6666666666666666,
              "#ed7953"
             ],
             [
              0.7777777777777778,
              "#fb9f3a"
             ],
             [
              0.8888888888888888,
              "#fdca26"
             ],
             [
              1,
              "#f0f921"
             ]
            ],
            "type": "heatmapgl"
           }
          ],
          "histogram": [
           {
            "marker": {
             "pattern": {
              "fillmode": "overlay",
              "size": 10,
              "solidity": 0.2
             }
            },
            "type": "histogram"
           }
          ],
          "histogram2d": [
           {
            "colorbar": {
             "outlinewidth": 0,
             "ticks": ""
            },
            "colorscale": [
             [
              0,
              "#0d0887"
             ],
             [
              0.1111111111111111,
              "#46039f"
             ],
             [
              0.2222222222222222,
              "#7201a8"
             ],
             [
              0.3333333333333333,
              "#9c179e"
             ],
             [
              0.4444444444444444,
              "#bd3786"
             ],
             [
              0.5555555555555556,
              "#d8576b"
             ],
             [
              0.6666666666666666,
              "#ed7953"
             ],
             [
              0.7777777777777778,
              "#fb9f3a"
             ],
             [
              0.8888888888888888,
              "#fdca26"
             ],
             [
              1,
              "#f0f921"
             ]
            ],
            "type": "histogram2d"
           }
          ],
          "histogram2dcontour": [
           {
            "colorbar": {
             "outlinewidth": 0,
             "ticks": ""
            },
            "colorscale": [
             [
              0,
              "#0d0887"
             ],
             [
              0.1111111111111111,
              "#46039f"
             ],
             [
              0.2222222222222222,
              "#7201a8"
             ],
             [
              0.3333333333333333,
              "#9c179e"
             ],
             [
              0.4444444444444444,
              "#bd3786"
             ],
             [
              0.5555555555555556,
              "#d8576b"
             ],
             [
              0.6666666666666666,
              "#ed7953"
             ],
             [
              0.7777777777777778,
              "#fb9f3a"
             ],
             [
              0.8888888888888888,
              "#fdca26"
             ],
             [
              1,
              "#f0f921"
             ]
            ],
            "type": "histogram2dcontour"
           }
          ],
          "mesh3d": [
           {
            "colorbar": {
             "outlinewidth": 0,
             "ticks": ""
            },
            "type": "mesh3d"
           }
          ],
          "parcoords": [
           {
            "line": {
             "colorbar": {
              "outlinewidth": 0,
              "ticks": ""
             }
            },
            "type": "parcoords"
           }
          ],
          "pie": [
           {
            "automargin": true,
            "type": "pie"
           }
          ],
          "scatter": [
           {
            "marker": {
             "colorbar": {
              "outlinewidth": 0,
              "ticks": ""
             }
            },
            "type": "scatter"
           }
          ],
          "scatter3d": [
           {
            "line": {
             "colorbar": {
              "outlinewidth": 0,
              "ticks": ""
             }
            },
            "marker": {
             "colorbar": {
              "outlinewidth": 0,
              "ticks": ""
             }
            },
            "type": "scatter3d"
           }
          ],
          "scattercarpet": [
           {
            "marker": {
             "colorbar": {
              "outlinewidth": 0,
              "ticks": ""
             }
            },
            "type": "scattercarpet"
           }
          ],
          "scattergeo": [
           {
            "marker": {
             "colorbar": {
              "outlinewidth": 0,
              "ticks": ""
             }
            },
            "type": "scattergeo"
           }
          ],
          "scattergl": [
           {
            "marker": {
             "colorbar": {
              "outlinewidth": 0,
              "ticks": ""
             }
            },
            "type": "scattergl"
           }
          ],
          "scattermapbox": [
           {
            "marker": {
             "colorbar": {
              "outlinewidth": 0,
              "ticks": ""
             }
            },
            "type": "scattermapbox"
           }
          ],
          "scatterpolar": [
           {
            "marker": {
             "colorbar": {
              "outlinewidth": 0,
              "ticks": ""
             }
            },
            "type": "scatterpolar"
           }
          ],
          "scatterpolargl": [
           {
            "marker": {
             "colorbar": {
              "outlinewidth": 0,
              "ticks": ""
             }
            },
            "type": "scatterpolargl"
           }
          ],
          "scatterternary": [
           {
            "marker": {
             "colorbar": {
              "outlinewidth": 0,
              "ticks": ""
             }
            },
            "type": "scatterternary"
           }
          ],
          "surface": [
           {
            "colorbar": {
             "outlinewidth": 0,
             "ticks": ""
            },
            "colorscale": [
             [
              0,
              "#0d0887"
             ],
             [
              0.1111111111111111,
              "#46039f"
             ],
             [
              0.2222222222222222,
              "#7201a8"
             ],
             [
              0.3333333333333333,
              "#9c179e"
             ],
             [
              0.4444444444444444,
              "#bd3786"
             ],
             [
              0.5555555555555556,
              "#d8576b"
             ],
             [
              0.6666666666666666,
              "#ed7953"
             ],
             [
              0.7777777777777778,
              "#fb9f3a"
             ],
             [
              0.8888888888888888,
              "#fdca26"
             ],
             [
              1,
              "#f0f921"
             ]
            ],
            "type": "surface"
           }
          ],
          "table": [
           {
            "cells": {
             "fill": {
              "color": "#EBF0F8"
             },
             "line": {
              "color": "white"
             }
            },
            "header": {
             "fill": {
              "color": "#C8D4E3"
             },
             "line": {
              "color": "white"
             }
            },
            "type": "table"
           }
          ]
         },
         "layout": {
          "annotationdefaults": {
           "arrowcolor": "#2a3f5f",
           "arrowhead": 0,
           "arrowwidth": 1
          },
          "autotypenumbers": "strict",
          "coloraxis": {
           "colorbar": {
            "outlinewidth": 0,
            "ticks": ""
           }
          },
          "colorscale": {
           "diverging": [
            [
             0,
             "#8e0152"
            ],
            [
             0.1,
             "#c51b7d"
            ],
            [
             0.2,
             "#de77ae"
            ],
            [
             0.3,
             "#f1b6da"
            ],
            [
             0.4,
             "#fde0ef"
            ],
            [
             0.5,
             "#f7f7f7"
            ],
            [
             0.6,
             "#e6f5d0"
            ],
            [
             0.7,
             "#b8e186"
            ],
            [
             0.8,
             "#7fbc41"
            ],
            [
             0.9,
             "#4d9221"
            ],
            [
             1,
             "#276419"
            ]
           ],
           "sequential": [
            [
             0,
             "#0d0887"
            ],
            [
             0.1111111111111111,
             "#46039f"
            ],
            [
             0.2222222222222222,
             "#7201a8"
            ],
            [
             0.3333333333333333,
             "#9c179e"
            ],
            [
             0.4444444444444444,
             "#bd3786"
            ],
            [
             0.5555555555555556,
             "#d8576b"
            ],
            [
             0.6666666666666666,
             "#ed7953"
            ],
            [
             0.7777777777777778,
             "#fb9f3a"
            ],
            [
             0.8888888888888888,
             "#fdca26"
            ],
            [
             1,
             "#f0f921"
            ]
           ],
           "sequentialminus": [
            [
             0,
             "#0d0887"
            ],
            [
             0.1111111111111111,
             "#46039f"
            ],
            [
             0.2222222222222222,
             "#7201a8"
            ],
            [
             0.3333333333333333,
             "#9c179e"
            ],
            [
             0.4444444444444444,
             "#bd3786"
            ],
            [
             0.5555555555555556,
             "#d8576b"
            ],
            [
             0.6666666666666666,
             "#ed7953"
            ],
            [
             0.7777777777777778,
             "#fb9f3a"
            ],
            [
             0.8888888888888888,
             "#fdca26"
            ],
            [
             1,
             "#f0f921"
            ]
           ]
          },
          "colorway": [
           "#636efa",
           "#EF553B",
           "#00cc96",
           "#ab63fa",
           "#FFA15A",
           "#19d3f3",
           "#FF6692",
           "#B6E880",
           "#FF97FF",
           "#FECB52"
          ],
          "font": {
           "color": "#2a3f5f"
          },
          "geo": {
           "bgcolor": "white",
           "lakecolor": "white",
           "landcolor": "#E5ECF6",
           "showlakes": true,
           "showland": true,
           "subunitcolor": "white"
          },
          "hoverlabel": {
           "align": "left"
          },
          "hovermode": "closest",
          "mapbox": {
           "style": "light"
          },
          "paper_bgcolor": "white",
          "plot_bgcolor": "#E5ECF6",
          "polar": {
           "angularaxis": {
            "gridcolor": "white",
            "linecolor": "white",
            "ticks": ""
           },
           "bgcolor": "#E5ECF6",
           "radialaxis": {
            "gridcolor": "white",
            "linecolor": "white",
            "ticks": ""
           }
          },
          "scene": {
           "xaxis": {
            "backgroundcolor": "#E5ECF6",
            "gridcolor": "white",
            "gridwidth": 2,
            "linecolor": "white",
            "showbackground": true,
            "ticks": "",
            "zerolinecolor": "white"
           },
           "yaxis": {
            "backgroundcolor": "#E5ECF6",
            "gridcolor": "white",
            "gridwidth": 2,
            "linecolor": "white",
            "showbackground": true,
            "ticks": "",
            "zerolinecolor": "white"
           },
           "zaxis": {
            "backgroundcolor": "#E5ECF6",
            "gridcolor": "white",
            "gridwidth": 2,
            "linecolor": "white",
            "showbackground": true,
            "ticks": "",
            "zerolinecolor": "white"
           }
          },
          "shapedefaults": {
           "line": {
            "color": "#2a3f5f"
           }
          },
          "ternary": {
           "aaxis": {
            "gridcolor": "white",
            "linecolor": "white",
            "ticks": ""
           },
           "baxis": {
            "gridcolor": "white",
            "linecolor": "white",
            "ticks": ""
           },
           "bgcolor": "#E5ECF6",
           "caxis": {
            "gridcolor": "white",
            "linecolor": "white",
            "ticks": ""
           }
          },
          "title": {
           "x": 0.05
          },
          "xaxis": {
           "automargin": true,
           "gridcolor": "white",
           "linecolor": "white",
           "ticks": "",
           "title": {
            "standoff": 15
           },
           "zerolinecolor": "white",
           "zerolinewidth": 2
          },
          "yaxis": {
           "automargin": true,
           "gridcolor": "white",
           "linecolor": "white",
           "ticks": "",
           "title": {
            "standoff": 15
           },
           "zerolinecolor": "white",
           "zerolinewidth": 2
          }
         }
        },
        "title": {
         "text": "PLACES survey locations of the top 5 most surveyed states"
        },
        "width": 800
       }
      }
     },
     "metadata": {},
     "output_type": "display_data"
    }
   ],
   "source": [
    "\n",
    "# geometry = [Point(xy) for xy in zip(lats, longs)]\n",
    "# gdf = GeoDataFrame(prevent_df, geometry=geometry)\n",
    "\n",
    "# world = gpd.read_file(gpd.datasets.get_path('naturalearth_lowres'))\n",
    "# usa = world.loc[world['name'] == 'United States of America']\n",
    "\n",
    "# fig = px.scatter_geo(prevent_df, lat=top_5_states['lats'], lon=top_5_states['longs'], width =800, height=400)\n",
    "# fig.update_traces(marker=dict(color='red'))\n",
    "# fig.update_layout(title = 'PLACES survey locations of the top 5 most surveyed states', geo_scope='usa')\n",
    "# fig.show()"
   ]
  },
  {
   "cell_type": "code",
   "execution_count": 16,
   "metadata": {},
   "outputs": [
    {
     "data": {
      "text/html": [
       "<div>\n",
       "<style scoped>\n",
       "    .dataframe tbody tr th:only-of-type {\n",
       "        vertical-align: middle;\n",
       "    }\n",
       "\n",
       "    .dataframe tbody tr th {\n",
       "        vertical-align: top;\n",
       "    }\n",
       "\n",
       "    .dataframe thead th {\n",
       "        text-align: right;\n",
       "    }\n",
       "</style>\n",
       "<table border=\"1\" class=\"dataframe\">\n",
       "  <thead>\n",
       "    <tr style=\"text-align: right;\">\n",
       "      <th></th>\n",
       "      <th>Year</th>\n",
       "      <th>UniqueID</th>\n",
       "      <th>DataValue</th>\n",
       "      <th>LowConfidenceLimit</th>\n",
       "      <th>HighConfidenceLimit</th>\n",
       "      <th>PopulationCount</th>\n",
       "      <th>CityFIPS</th>\n",
       "      <th>lats</th>\n",
       "      <th>longs</th>\n",
       "    </tr>\n",
       "  </thead>\n",
       "  <tbody>\n",
       "    <tr>\n",
       "      <th>count</th>\n",
       "      <td>1000.0</td>\n",
       "      <td>1.000000e+03</td>\n",
       "      <td>1000.000000</td>\n",
       "      <td>1000.00000</td>\n",
       "      <td>1000.000000</td>\n",
       "      <td>1.000000e+03</td>\n",
       "      <td>1.000000e+03</td>\n",
       "      <td>1000.000000</td>\n",
       "      <td>1000.000000</td>\n",
       "    </tr>\n",
       "    <tr>\n",
       "      <th>mean</th>\n",
       "      <td>2016.0</td>\n",
       "      <td>2.438986e+06</td>\n",
       "      <td>32.559500</td>\n",
       "      <td>31.46880</td>\n",
       "      <td>33.654300</td>\n",
       "      <td>2.060416e+05</td>\n",
       "      <td>2.438986e+06</td>\n",
       "      <td>36.970325</td>\n",
       "      <td>-97.988528</td>\n",
       "    </tr>\n",
       "    <tr>\n",
       "      <th>std</th>\n",
       "      <td>0.0</td>\n",
       "      <td>1.719433e+06</td>\n",
       "      <td>5.522466</td>\n",
       "      <td>5.37843</td>\n",
       "      <td>5.684762</td>\n",
       "      <td>4.572520e+05</td>\n",
       "      <td>1.719433e+06</td>\n",
       "      <td>5.256474</td>\n",
       "      <td>17.470177</td>\n",
       "    </tr>\n",
       "    <tr>\n",
       "      <th>min</th>\n",
       "      <td>2016.0</td>\n",
       "      <td>1.500300e+04</td>\n",
       "      <td>17.300000</td>\n",
       "      <td>16.30000</td>\n",
       "      <td>17.900000</td>\n",
       "      <td>4.241700e+04</td>\n",
       "      <td>1.500300e+04</td>\n",
       "      <td>21.458804</td>\n",
       "      <td>-157.973297</td>\n",
       "    </tr>\n",
       "    <tr>\n",
       "      <th>25%</th>\n",
       "      <td>2016.0</td>\n",
       "      <td>6.700735e+05</td>\n",
       "      <td>29.100000</td>\n",
       "      <td>28.10000</td>\n",
       "      <td>29.900000</td>\n",
       "      <td>8.159000e+04</td>\n",
       "      <td>6.700735e+05</td>\n",
       "      <td>33.675199</td>\n",
       "      <td>-117.390113</td>\n",
       "    </tr>\n",
       "    <tr>\n",
       "      <th>50%</th>\n",
       "      <td>2016.0</td>\n",
       "      <td>1.955965e+06</td>\n",
       "      <td>32.450000</td>\n",
       "      <td>31.30000</td>\n",
       "      <td>33.500000</td>\n",
       "      <td>1.061060e+05</td>\n",
       "      <td>1.955965e+06</td>\n",
       "      <td>37.149690</td>\n",
       "      <td>-95.312924</td>\n",
       "    </tr>\n",
       "    <tr>\n",
       "      <th>75%</th>\n",
       "      <td>2016.0</td>\n",
       "      <td>4.053125e+06</td>\n",
       "      <td>36.100000</td>\n",
       "      <td>34.90000</td>\n",
       "      <td>37.300000</td>\n",
       "      <td>1.811278e+05</td>\n",
       "      <td>4.053125e+06</td>\n",
       "      <td>41.100725</td>\n",
       "      <td>-82.732076</td>\n",
       "    </tr>\n",
       "    <tr>\n",
       "      <th>max</th>\n",
       "      <td>2016.0</td>\n",
       "      <td>5.613900e+06</td>\n",
       "      <td>53.000000</td>\n",
       "      <td>50.70000</td>\n",
       "      <td>55.300000</td>\n",
       "      <td>8.175133e+06</td>\n",
       "      <td>5.613900e+06</td>\n",
       "      <td>61.149869</td>\n",
       "      <td>-70.275254</td>\n",
       "    </tr>\n",
       "  </tbody>\n",
       "</table>\n",
       "</div>"
      ],
      "text/plain": [
       "         Year      UniqueID    DataValue  LowConfidenceLimit  \\\n",
       "count  1000.0  1.000000e+03  1000.000000          1000.00000   \n",
       "mean   2016.0  2.438986e+06    32.559500            31.46880   \n",
       "std       0.0  1.719433e+06     5.522466             5.37843   \n",
       "min    2016.0  1.500300e+04    17.300000            16.30000   \n",
       "25%    2016.0  6.700735e+05    29.100000            28.10000   \n",
       "50%    2016.0  1.955965e+06    32.450000            31.30000   \n",
       "75%    2016.0  4.053125e+06    36.100000            34.90000   \n",
       "max    2016.0  5.613900e+06    53.000000            50.70000   \n",
       "\n",
       "       HighConfidenceLimit  PopulationCount      CityFIPS         lats  \\\n",
       "count          1000.000000     1.000000e+03  1.000000e+03  1000.000000   \n",
       "mean             33.654300     2.060416e+05  2.438986e+06    36.970325   \n",
       "std               5.684762     4.572520e+05  1.719433e+06     5.256474   \n",
       "min              17.900000     4.241700e+04  1.500300e+04    21.458804   \n",
       "25%              29.900000     8.159000e+04  6.700735e+05    33.675199   \n",
       "50%              33.500000     1.061060e+05  1.955965e+06    37.149690   \n",
       "75%              37.300000     1.811278e+05  4.053125e+06    41.100725   \n",
       "max              55.300000     8.175133e+06  5.613900e+06    61.149869   \n",
       "\n",
       "             longs  \n",
       "count  1000.000000  \n",
       "mean    -97.988528  \n",
       "std      17.470177  \n",
       "min    -157.973297  \n",
       "25%    -117.390113  \n",
       "50%     -95.312924  \n",
       "75%     -82.732076  \n",
       "max     -70.275254  "
      ]
     },
     "execution_count": 16,
     "metadata": {},
     "output_type": "execute_result"
    }
   ],
   "source": [
    "prevent_df.describe()"
   ]
  },
  {
   "cell_type": "code",
   "execution_count": 24,
   "metadata": {},
   "outputs": [],
   "source": [
    "# Cross tabulation of the Data by State and the Population Count of each survey location\n",
    "new_df = pd.crosstab(index=[men_df['StateAbbr'], pd.cut(men_df['PopulationCount'], [0, 50000, 100000, 250000, 500000, 1000000])], columns=men_df['PopulationCount'], margins=True, margins_name='Counts')"
   ]
  },
  {
   "cell_type": "code",
   "execution_count": 25,
   "metadata": {},
   "outputs": [
    {
     "data": {
      "text/html": [
       "<div>\n",
       "<style scoped>\n",
       "    .dataframe tbody tr th:only-of-type {\n",
       "        vertical-align: middle;\n",
       "    }\n",
       "\n",
       "    .dataframe tbody tr th {\n",
       "        vertical-align: top;\n",
       "    }\n",
       "\n",
       "    .dataframe thead th {\n",
       "        text-align: right;\n",
       "    }\n",
       "</style>\n",
       "<table border=\"1\" class=\"dataframe\">\n",
       "  <thead>\n",
       "    <tr style=\"text-align: right;\">\n",
       "      <th>PopulationCount</th>\n",
       "      <th>42417</th>\n",
       "      <th>51400</th>\n",
       "      <th>59466</th>\n",
       "      <th>66135</th>\n",
       "      <th>66154</th>\n",
       "      <th>66194</th>\n",
       "      <th>66455</th>\n",
       "      <th>66588</th>\n",
       "      <th>66702</th>\n",
       "      <th>66748</th>\n",
       "      <th>...</th>\n",
       "      <th>731424</th>\n",
       "      <th>741206</th>\n",
       "      <th>787033</th>\n",
       "      <th>790390</th>\n",
       "      <th>805235</th>\n",
       "      <th>820445</th>\n",
       "      <th>821784</th>\n",
       "      <th>945942</th>\n",
       "      <th>953207</th>\n",
       "      <th>Counts</th>\n",
       "    </tr>\n",
       "    <tr>\n",
       "      <th>PopulationCount</th>\n",
       "      <th></th>\n",
       "      <th></th>\n",
       "      <th></th>\n",
       "      <th></th>\n",
       "      <th></th>\n",
       "      <th></th>\n",
       "      <th></th>\n",
       "      <th></th>\n",
       "      <th></th>\n",
       "      <th></th>\n",
       "      <th></th>\n",
       "      <th></th>\n",
       "      <th></th>\n",
       "      <th></th>\n",
       "      <th></th>\n",
       "      <th></th>\n",
       "      <th></th>\n",
       "      <th></th>\n",
       "      <th></th>\n",
       "      <th></th>\n",
       "      <th></th>\n",
       "    </tr>\n",
       "  </thead>\n",
       "  <tbody>\n",
       "    <tr>\n",
       "      <th>(50000, 100000]</th>\n",
       "      <td>0</td>\n",
       "      <td>0</td>\n",
       "      <td>0</td>\n",
       "      <td>0</td>\n",
       "      <td>0</td>\n",
       "      <td>0</td>\n",
       "      <td>0</td>\n",
       "      <td>0</td>\n",
       "      <td>0</td>\n",
       "      <td>0</td>\n",
       "      <td>...</td>\n",
       "      <td>0</td>\n",
       "      <td>0</td>\n",
       "      <td>0</td>\n",
       "      <td>0</td>\n",
       "      <td>0</td>\n",
       "      <td>0</td>\n",
       "      <td>0</td>\n",
       "      <td>0</td>\n",
       "      <td>0</td>\n",
       "      <td>18</td>\n",
       "    </tr>\n",
       "    <tr>\n",
       "      <th>(100000, 250000]</th>\n",
       "      <td>0</td>\n",
       "      <td>0</td>\n",
       "      <td>0</td>\n",
       "      <td>0</td>\n",
       "      <td>0</td>\n",
       "      <td>0</td>\n",
       "      <td>0</td>\n",
       "      <td>0</td>\n",
       "      <td>0</td>\n",
       "      <td>0</td>\n",
       "      <td>...</td>\n",
       "      <td>0</td>\n",
       "      <td>0</td>\n",
       "      <td>0</td>\n",
       "      <td>0</td>\n",
       "      <td>0</td>\n",
       "      <td>0</td>\n",
       "      <td>0</td>\n",
       "      <td>0</td>\n",
       "      <td>0</td>\n",
       "      <td>20</td>\n",
       "    </tr>\n",
       "    <tr>\n",
       "      <th>(250000, 500000]</th>\n",
       "      <td>0</td>\n",
       "      <td>0</td>\n",
       "      <td>0</td>\n",
       "      <td>0</td>\n",
       "      <td>0</td>\n",
       "      <td>0</td>\n",
       "      <td>0</td>\n",
       "      <td>0</td>\n",
       "      <td>0</td>\n",
       "      <td>0</td>\n",
       "      <td>...</td>\n",
       "      <td>0</td>\n",
       "      <td>0</td>\n",
       "      <td>0</td>\n",
       "      <td>0</td>\n",
       "      <td>0</td>\n",
       "      <td>0</td>\n",
       "      <td>0</td>\n",
       "      <td>0</td>\n",
       "      <td>0</td>\n",
       "      <td>3</td>\n",
       "    </tr>\n",
       "    <tr>\n",
       "      <th>(500000, 1000000]</th>\n",
       "      <td>0</td>\n",
       "      <td>0</td>\n",
       "      <td>0</td>\n",
       "      <td>0</td>\n",
       "      <td>0</td>\n",
       "      <td>0</td>\n",
       "      <td>0</td>\n",
       "      <td>0</td>\n",
       "      <td>0</td>\n",
       "      <td>0</td>\n",
       "      <td>...</td>\n",
       "      <td>0</td>\n",
       "      <td>1</td>\n",
       "      <td>0</td>\n",
       "      <td>1</td>\n",
       "      <td>0</td>\n",
       "      <td>0</td>\n",
       "      <td>0</td>\n",
       "      <td>0</td>\n",
       "      <td>0</td>\n",
       "      <td>3</td>\n",
       "    </tr>\n",
       "  </tbody>\n",
       "</table>\n",
       "<p>4 rows × 489 columns</p>\n",
       "</div>"
      ],
      "text/plain": [
       "PopulationCount    42417  51400  59466  66135  66154  66194  66455  66588  \\\n",
       "PopulationCount                                                             \n",
       "(50000, 100000]        0      0      0      0      0      0      0      0   \n",
       "(100000, 250000]       0      0      0      0      0      0      0      0   \n",
       "(250000, 500000]       0      0      0      0      0      0      0      0   \n",
       "(500000, 1000000]      0      0      0      0      0      0      0      0   \n",
       "\n",
       "PopulationCount    66702  66748  ...  731424  741206  787033  790390  805235  \\\n",
       "PopulationCount                  ...                                           \n",
       "(50000, 100000]        0      0  ...       0       0       0       0       0   \n",
       "(100000, 250000]       0      0  ...       0       0       0       0       0   \n",
       "(250000, 500000]       0      0  ...       0       0       0       0       0   \n",
       "(500000, 1000000]      0      0  ...       0       1       0       1       0   \n",
       "\n",
       "PopulationCount    820445  821784  945942  953207  Counts  \n",
       "PopulationCount                                            \n",
       "(50000, 100000]         0       0       0       0      18  \n",
       "(100000, 250000]        0       0       0       0      20  \n",
       "(250000, 500000]        0       0       0       0       3  \n",
       "(500000, 1000000]       0       0       0       0       3  \n",
       "\n",
       "[4 rows x 489 columns]"
      ]
     },
     "execution_count": 25,
     "metadata": {},
     "output_type": "execute_result"
    }
   ],
   "source": [
    "# Find a state's location site's population by state abbreviation\n",
    "new_df.loc['TX'].sort_values('PopulationCount')"
   ]
  },
  {
   "cell_type": "code",
   "execution_count": 26,
   "metadata": {},
   "outputs": [
    {
     "data": {
      "text/html": [
       "<div>\n",
       "<style scoped>\n",
       "    .dataframe tbody tr th:only-of-type {\n",
       "        vertical-align: middle;\n",
       "    }\n",
       "\n",
       "    .dataframe tbody tr th {\n",
       "        vertical-align: top;\n",
       "    }\n",
       "\n",
       "    .dataframe thead th {\n",
       "        text-align: right;\n",
       "    }\n",
       "</style>\n",
       "<table border=\"1\" class=\"dataframe\">\n",
       "  <thead>\n",
       "    <tr style=\"text-align: right;\">\n",
       "      <th>PopulationCount</th>\n",
       "      <th>42417</th>\n",
       "      <th>51400</th>\n",
       "      <th>59466</th>\n",
       "      <th>66135</th>\n",
       "      <th>66154</th>\n",
       "      <th>66194</th>\n",
       "      <th>66455</th>\n",
       "      <th>66588</th>\n",
       "      <th>66702</th>\n",
       "      <th>66748</th>\n",
       "      <th>...</th>\n",
       "      <th>731424</th>\n",
       "      <th>741206</th>\n",
       "      <th>787033</th>\n",
       "      <th>790390</th>\n",
       "      <th>805235</th>\n",
       "      <th>820445</th>\n",
       "      <th>821784</th>\n",
       "      <th>945942</th>\n",
       "      <th>953207</th>\n",
       "      <th>Counts</th>\n",
       "    </tr>\n",
       "    <tr>\n",
       "      <th>PopulationCount</th>\n",
       "      <th></th>\n",
       "      <th></th>\n",
       "      <th></th>\n",
       "      <th></th>\n",
       "      <th></th>\n",
       "      <th></th>\n",
       "      <th></th>\n",
       "      <th></th>\n",
       "      <th></th>\n",
       "      <th></th>\n",
       "      <th></th>\n",
       "      <th></th>\n",
       "      <th></th>\n",
       "      <th></th>\n",
       "      <th></th>\n",
       "      <th></th>\n",
       "      <th></th>\n",
       "      <th></th>\n",
       "      <th></th>\n",
       "      <th></th>\n",
       "      <th></th>\n",
       "    </tr>\n",
       "  </thead>\n",
       "  <tbody>\n",
       "    <tr>\n",
       "      <th>(50000, 100000]</th>\n",
       "      <td>0</td>\n",
       "      <td>0</td>\n",
       "      <td>0</td>\n",
       "      <td>0</td>\n",
       "      <td>0</td>\n",
       "      <td>0</td>\n",
       "      <td>0</td>\n",
       "      <td>0</td>\n",
       "      <td>0</td>\n",
       "      <td>1</td>\n",
       "      <td>...</td>\n",
       "      <td>0</td>\n",
       "      <td>0</td>\n",
       "      <td>0</td>\n",
       "      <td>0</td>\n",
       "      <td>0</td>\n",
       "      <td>0</td>\n",
       "      <td>0</td>\n",
       "      <td>0</td>\n",
       "      <td>0</td>\n",
       "      <td>55</td>\n",
       "    </tr>\n",
       "    <tr>\n",
       "      <th>(100000, 250000]</th>\n",
       "      <td>0</td>\n",
       "      <td>0</td>\n",
       "      <td>0</td>\n",
       "      <td>0</td>\n",
       "      <td>0</td>\n",
       "      <td>0</td>\n",
       "      <td>0</td>\n",
       "      <td>0</td>\n",
       "      <td>0</td>\n",
       "      <td>0</td>\n",
       "      <td>...</td>\n",
       "      <td>0</td>\n",
       "      <td>0</td>\n",
       "      <td>0</td>\n",
       "      <td>0</td>\n",
       "      <td>0</td>\n",
       "      <td>0</td>\n",
       "      <td>0</td>\n",
       "      <td>0</td>\n",
       "      <td>0</td>\n",
       "      <td>53</td>\n",
       "    </tr>\n",
       "    <tr>\n",
       "      <th>(250000, 500000]</th>\n",
       "      <td>0</td>\n",
       "      <td>0</td>\n",
       "      <td>0</td>\n",
       "      <td>0</td>\n",
       "      <td>0</td>\n",
       "      <td>0</td>\n",
       "      <td>0</td>\n",
       "      <td>0</td>\n",
       "      <td>0</td>\n",
       "      <td>0</td>\n",
       "      <td>...</td>\n",
       "      <td>0</td>\n",
       "      <td>0</td>\n",
       "      <td>0</td>\n",
       "      <td>0</td>\n",
       "      <td>0</td>\n",
       "      <td>0</td>\n",
       "      <td>0</td>\n",
       "      <td>0</td>\n",
       "      <td>0</td>\n",
       "      <td>9</td>\n",
       "    </tr>\n",
       "    <tr>\n",
       "      <th>(500000, 1000000]</th>\n",
       "      <td>0</td>\n",
       "      <td>0</td>\n",
       "      <td>0</td>\n",
       "      <td>0</td>\n",
       "      <td>0</td>\n",
       "      <td>0</td>\n",
       "      <td>0</td>\n",
       "      <td>0</td>\n",
       "      <td>0</td>\n",
       "      <td>0</td>\n",
       "      <td>...</td>\n",
       "      <td>0</td>\n",
       "      <td>0</td>\n",
       "      <td>0</td>\n",
       "      <td>0</td>\n",
       "      <td>1</td>\n",
       "      <td>0</td>\n",
       "      <td>0</td>\n",
       "      <td>1</td>\n",
       "      <td>0</td>\n",
       "      <td>2</td>\n",
       "    </tr>\n",
       "  </tbody>\n",
       "</table>\n",
       "<p>4 rows × 489 columns</p>\n",
       "</div>"
      ],
      "text/plain": [
       "PopulationCount    42417  51400  59466  66135  66154  66194  66455  66588  \\\n",
       "PopulationCount                                                             \n",
       "(50000, 100000]        0      0      0      0      0      0      0      0   \n",
       "(100000, 250000]       0      0      0      0      0      0      0      0   \n",
       "(250000, 500000]       0      0      0      0      0      0      0      0   \n",
       "(500000, 1000000]      0      0      0      0      0      0      0      0   \n",
       "\n",
       "PopulationCount    66702  66748  ...  731424  741206  787033  790390  805235  \\\n",
       "PopulationCount                  ...                                           \n",
       "(50000, 100000]        0      1  ...       0       0       0       0       0   \n",
       "(100000, 250000]       0      0  ...       0       0       0       0       0   \n",
       "(250000, 500000]       0      0  ...       0       0       0       0       0   \n",
       "(500000, 1000000]      0      0  ...       0       0       0       0       1   \n",
       "\n",
       "PopulationCount    820445  821784  945942  953207  Counts  \n",
       "PopulationCount                                            \n",
       "(50000, 100000]         0       0       0       0      55  \n",
       "(100000, 250000]        0       0       0       0      53  \n",
       "(250000, 500000]        0       0       0       0       9  \n",
       "(500000, 1000000]       0       0       1       0       2  \n",
       "\n",
       "[4 rows x 489 columns]"
      ]
     },
     "execution_count": 26,
     "metadata": {},
     "output_type": "execute_result"
    }
   ],
   "source": [
    "new_df.loc['CA'].sort_values('PopulationCount')"
   ]
  },
  {
   "cell_type": "code",
   "execution_count": 27,
   "metadata": {},
   "outputs": [
    {
     "data": {
      "text/html": [
       "<div>\n",
       "<style scoped>\n",
       "    .dataframe tbody tr th:only-of-type {\n",
       "        vertical-align: middle;\n",
       "    }\n",
       "\n",
       "    .dataframe tbody tr th {\n",
       "        vertical-align: top;\n",
       "    }\n",
       "\n",
       "    .dataframe thead th {\n",
       "        text-align: right;\n",
       "    }\n",
       "</style>\n",
       "<table border=\"1\" class=\"dataframe\">\n",
       "  <thead>\n",
       "    <tr style=\"text-align: right;\">\n",
       "      <th>PopulationCount</th>\n",
       "      <th>42417</th>\n",
       "      <th>51400</th>\n",
       "      <th>59466</th>\n",
       "      <th>66135</th>\n",
       "      <th>66154</th>\n",
       "      <th>66194</th>\n",
       "      <th>66455</th>\n",
       "      <th>66588</th>\n",
       "      <th>66702</th>\n",
       "      <th>66748</th>\n",
       "      <th>...</th>\n",
       "      <th>731424</th>\n",
       "      <th>741206</th>\n",
       "      <th>787033</th>\n",
       "      <th>790390</th>\n",
       "      <th>805235</th>\n",
       "      <th>820445</th>\n",
       "      <th>821784</th>\n",
       "      <th>945942</th>\n",
       "      <th>953207</th>\n",
       "      <th>Counts</th>\n",
       "    </tr>\n",
       "    <tr>\n",
       "      <th>PopulationCount</th>\n",
       "      <th></th>\n",
       "      <th></th>\n",
       "      <th></th>\n",
       "      <th></th>\n",
       "      <th></th>\n",
       "      <th></th>\n",
       "      <th></th>\n",
       "      <th></th>\n",
       "      <th></th>\n",
       "      <th></th>\n",
       "      <th></th>\n",
       "      <th></th>\n",
       "      <th></th>\n",
       "      <th></th>\n",
       "      <th></th>\n",
       "      <th></th>\n",
       "      <th></th>\n",
       "      <th></th>\n",
       "      <th></th>\n",
       "      <th></th>\n",
       "      <th></th>\n",
       "    </tr>\n",
       "  </thead>\n",
       "  <tbody>\n",
       "    <tr>\n",
       "      <th>(50000, 100000]</th>\n",
       "      <td>0</td>\n",
       "      <td>0</td>\n",
       "      <td>0</td>\n",
       "      <td>0</td>\n",
       "      <td>0</td>\n",
       "      <td>0</td>\n",
       "      <td>0</td>\n",
       "      <td>0</td>\n",
       "      <td>0</td>\n",
       "      <td>0</td>\n",
       "      <td>...</td>\n",
       "      <td>0</td>\n",
       "      <td>0</td>\n",
       "      <td>0</td>\n",
       "      <td>0</td>\n",
       "      <td>0</td>\n",
       "      <td>0</td>\n",
       "      <td>0</td>\n",
       "      <td>0</td>\n",
       "      <td>0</td>\n",
       "      <td>15</td>\n",
       "    </tr>\n",
       "    <tr>\n",
       "      <th>(100000, 250000]</th>\n",
       "      <td>0</td>\n",
       "      <td>0</td>\n",
       "      <td>0</td>\n",
       "      <td>0</td>\n",
       "      <td>0</td>\n",
       "      <td>0</td>\n",
       "      <td>0</td>\n",
       "      <td>0</td>\n",
       "      <td>0</td>\n",
       "      <td>0</td>\n",
       "      <td>...</td>\n",
       "      <td>0</td>\n",
       "      <td>0</td>\n",
       "      <td>0</td>\n",
       "      <td>0</td>\n",
       "      <td>0</td>\n",
       "      <td>0</td>\n",
       "      <td>0</td>\n",
       "      <td>0</td>\n",
       "      <td>0</td>\n",
       "      <td>15</td>\n",
       "    </tr>\n",
       "    <tr>\n",
       "      <th>(250000, 500000]</th>\n",
       "      <td>0</td>\n",
       "      <td>0</td>\n",
       "      <td>0</td>\n",
       "      <td>0</td>\n",
       "      <td>0</td>\n",
       "      <td>0</td>\n",
       "      <td>0</td>\n",
       "      <td>0</td>\n",
       "      <td>0</td>\n",
       "      <td>0</td>\n",
       "      <td>...</td>\n",
       "      <td>0</td>\n",
       "      <td>0</td>\n",
       "      <td>0</td>\n",
       "      <td>0</td>\n",
       "      <td>0</td>\n",
       "      <td>0</td>\n",
       "      <td>0</td>\n",
       "      <td>0</td>\n",
       "      <td>0</td>\n",
       "      <td>2</td>\n",
       "    </tr>\n",
       "    <tr>\n",
       "      <th>(500000, 1000000]</th>\n",
       "      <td>0</td>\n",
       "      <td>0</td>\n",
       "      <td>0</td>\n",
       "      <td>0</td>\n",
       "      <td>0</td>\n",
       "      <td>0</td>\n",
       "      <td>0</td>\n",
       "      <td>0</td>\n",
       "      <td>0</td>\n",
       "      <td>0</td>\n",
       "      <td>...</td>\n",
       "      <td>0</td>\n",
       "      <td>0</td>\n",
       "      <td>0</td>\n",
       "      <td>0</td>\n",
       "      <td>0</td>\n",
       "      <td>0</td>\n",
       "      <td>1</td>\n",
       "      <td>0</td>\n",
       "      <td>0</td>\n",
       "      <td>1</td>\n",
       "    </tr>\n",
       "  </tbody>\n",
       "</table>\n",
       "<p>4 rows × 489 columns</p>\n",
       "</div>"
      ],
      "text/plain": [
       "PopulationCount    42417  51400  59466  66135  66154  66194  66455  66588  \\\n",
       "PopulationCount                                                             \n",
       "(50000, 100000]        0      0      0      0      0      0      0      0   \n",
       "(100000, 250000]       0      0      0      0      0      0      0      0   \n",
       "(250000, 500000]       0      0      0      0      0      0      0      0   \n",
       "(500000, 1000000]      0      0      0      0      0      0      0      0   \n",
       "\n",
       "PopulationCount    66702  66748  ...  731424  741206  787033  790390  805235  \\\n",
       "PopulationCount                  ...                                           \n",
       "(50000, 100000]        0      0  ...       0       0       0       0       0   \n",
       "(100000, 250000]       0      0  ...       0       0       0       0       0   \n",
       "(250000, 500000]       0      0  ...       0       0       0       0       0   \n",
       "(500000, 1000000]      0      0  ...       0       0       0       0       0   \n",
       "\n",
       "PopulationCount    820445  821784  945942  953207  Counts  \n",
       "PopulationCount                                            \n",
       "(50000, 100000]         0       0       0       0      15  \n",
       "(100000, 250000]        0       0       0       0      15  \n",
       "(250000, 500000]        0       0       0       0       2  \n",
       "(500000, 1000000]       0       1       0       0       1  \n",
       "\n",
       "[4 rows x 489 columns]"
      ]
     },
     "execution_count": 27,
     "metadata": {},
     "output_type": "execute_result"
    }
   ],
   "source": [
    "new_df.loc['FL'].sort_values('PopulationCount')"
   ]
  },
  {
   "cell_type": "code",
   "execution_count": null,
   "metadata": {},
   "outputs": [],
   "source": []
  }
 ],
 "metadata": {
  "interpreter": {
   "hash": "2bc16b4903e932b9a4b407adb96c7bd2d38ca3cbca67dd2cd7f7c504edfaa5a5"
  },
  "kernelspec": {
   "display_name": "Python 3.9.9 64-bit ('paionenv': pyenv)",
   "language": "python",
   "name": "python3"
  },
  "language_info": {
   "codemirror_mode": {
    "name": "ipython",
    "version": 3
   },
   "file_extension": ".py",
   "mimetype": "text/x-python",
   "name": "python",
   "nbconvert_exporter": "python",
   "pygments_lexer": "ipython3",
   "version": "3.9.9"
  },
  "orig_nbformat": 4
 },
 "nbformat": 4,
 "nbformat_minor": 2
}
