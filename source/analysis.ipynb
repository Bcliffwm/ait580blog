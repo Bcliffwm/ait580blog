{
 "cells": [
  {
   "cell_type": "markdown",
   "metadata": {},
   "source": [
    "# About the data  \n",
    "##### The dataset loaded into this notebook is a .csv file obtained from the CDC's preventative measures site.  \n",
    "##### The sample subject of this dataset is U.S. citizens who are 65 years or older. The sample is subdivided by gender, State and city.\n",
    "##### The target or signal of this dataset is the percentage of citizens (broken down by gender and location) who are reported to have taken preventative measures such as immunizations and select cancer screenings against common illnesses.\n",
    "##### [Bethlehem insert commentary here about what trends we want to see]  \n",
    "\n",
    "# Purpose of this notebook:\n",
    "##### Create a clean .csv file to work from for further analysis\n",
    "##### Perform preliminary analysis as well as diagnostics of the data\n",
    "##### Create visualizations from this notebook for upload onto our blog site"
   ]
  },
  {
   "cell_type": "markdown",
   "metadata": {},
   "source": [
    "# Reading and cleaning the dataset"
   ]
  },
  {
   "cell_type": "code",
   "execution_count": 1,
   "metadata": {},
   "outputs": [],
   "source": [
    "# Importing powerful data manipulation library\n",
    "import pandas as pd"
   ]
  },
  {
   "cell_type": "code",
   "execution_count": 5,
   "metadata": {},
   "outputs": [],
   "source": [
    "# Reading in prevention data\n",
    "prevent_df = pd.read_csv('../data/preventativedata.csv')\n",
    "\n",
    "# Removing with little to no information\n",
    "prevent_df = prevent_df.drop(columns=['Data_Value_Unit', 'Data_Value_Footnote_Symbol', 'Data_Value_Footnote', 'TractFIPS', 'CategoryID', 'StateDesc', 'Data_Value_Type', 'DataSource',\n",
    "'DataValueTypeID', 'Category'])"
   ]
  },
  {
   "cell_type": "code",
   "execution_count": 6,
   "metadata": {},
   "outputs": [
    {
     "data": {
      "text/plain": [
       "Index(['Year', 'StateAbbr', 'CityName', 'GeographicLevel', 'UniqueID',\n",
       "       'Measure', 'DataValue', 'LowConfidenceLimit', 'HighConfidenceLimit',\n",
       "       'PopulationCount', 'GeoLocation', 'MeasureId', 'CityFIPS',\n",
       "       'ShortQuestionText'],\n",
       "      dtype='object')"
      ]
     },
     "execution_count": 6,
     "metadata": {},
     "output_type": "execute_result"
    }
   ],
   "source": [
    "# Removing undescores\n",
    "prevent_df.columns = prevent_df.columns.str.replace('_', '')\n",
    "prevent_df.columns"
   ]
  },
  {
   "cell_type": "code",
   "execution_count": 7,
   "metadata": {},
   "outputs": [
    {
     "data": {
      "text/html": [
       "<div>\n",
       "<style scoped>\n",
       "    .dataframe tbody tr th:only-of-type {\n",
       "        vertical-align: middle;\n",
       "    }\n",
       "\n",
       "    .dataframe tbody tr th {\n",
       "        vertical-align: top;\n",
       "    }\n",
       "\n",
       "    .dataframe thead th {\n",
       "        text-align: right;\n",
       "    }\n",
       "</style>\n",
       "<table border=\"1\" class=\"dataframe\">\n",
       "  <thead>\n",
       "    <tr style=\"text-align: right;\">\n",
       "      <th></th>\n",
       "      <th>Year</th>\n",
       "      <th>StateAbbr</th>\n",
       "      <th>CityName</th>\n",
       "      <th>GeographicLevel</th>\n",
       "      <th>UniqueID</th>\n",
       "      <th>Measure</th>\n",
       "      <th>DataValue</th>\n",
       "      <th>LowConfidenceLimit</th>\n",
       "      <th>HighConfidenceLimit</th>\n",
       "      <th>PopulationCount</th>\n",
       "      <th>GeoLocation</th>\n",
       "      <th>MeasureId</th>\n",
       "      <th>CityFIPS</th>\n",
       "      <th>ShortQuestionText</th>\n",
       "    </tr>\n",
       "  </thead>\n",
       "  <tbody>\n",
       "    <tr>\n",
       "      <th>0</th>\n",
       "      <td>2016</td>\n",
       "      <td>HI</td>\n",
       "      <td>Honolulu</td>\n",
       "      <td>City</td>\n",
       "      <td>15003</td>\n",
       "      <td>Older adult men aged &gt;=65 Years who are up to ...</td>\n",
       "      <td>31.4</td>\n",
       "      <td>31.1</td>\n",
       "      <td>31.7</td>\n",
       "      <td>953,207</td>\n",
       "      <td>(21.4588039305, -157.973296737)</td>\n",
       "      <td>COREM</td>\n",
       "      <td>15003</td>\n",
       "      <td>Core preventive services for older men</td>\n",
       "    </tr>\n",
       "    <tr>\n",
       "      <th>1</th>\n",
       "      <td>2016</td>\n",
       "      <td>HI</td>\n",
       "      <td>Honolulu</td>\n",
       "      <td>City</td>\n",
       "      <td>15003</td>\n",
       "      <td>Older adult women aged &gt;=65 Years who are up t...</td>\n",
       "      <td>30.4</td>\n",
       "      <td>30.1</td>\n",
       "      <td>30.7</td>\n",
       "      <td>953,207</td>\n",
       "      <td>(21.4588039305, -157.973296737)</td>\n",
       "      <td>COREW</td>\n",
       "      <td>15003</td>\n",
       "      <td>Core preventive services for older women</td>\n",
       "    </tr>\n",
       "    <tr>\n",
       "      <th>2</th>\n",
       "      <td>2016</td>\n",
       "      <td>AL</td>\n",
       "      <td>Birmingham</td>\n",
       "      <td>City</td>\n",
       "      <td>107000</td>\n",
       "      <td>Older adult men aged &gt;=65 Years who are up to ...</td>\n",
       "      <td>32.9</td>\n",
       "      <td>32.2</td>\n",
       "      <td>33.7</td>\n",
       "      <td>212,237</td>\n",
       "      <td>(33.5275663773, -86.7988174678)</td>\n",
       "      <td>COREM</td>\n",
       "      <td>107000</td>\n",
       "      <td>Core preventive services for older men</td>\n",
       "    </tr>\n",
       "    <tr>\n",
       "      <th>3</th>\n",
       "      <td>2016</td>\n",
       "      <td>AL</td>\n",
       "      <td>Birmingham</td>\n",
       "      <td>City</td>\n",
       "      <td>107000</td>\n",
       "      <td>Older adult women aged &gt;=65 Years who are up t...</td>\n",
       "      <td>26.0</td>\n",
       "      <td>25.4</td>\n",
       "      <td>26.6</td>\n",
       "      <td>212,237</td>\n",
       "      <td>(33.5275663773, -86.7988174678)</td>\n",
       "      <td>COREW</td>\n",
       "      <td>107000</td>\n",
       "      <td>Core preventive services for older women</td>\n",
       "    </tr>\n",
       "    <tr>\n",
       "      <th>4</th>\n",
       "      <td>2016</td>\n",
       "      <td>AL</td>\n",
       "      <td>Hoover</td>\n",
       "      <td>City</td>\n",
       "      <td>135896</td>\n",
       "      <td>Older adult women aged &gt;=65 Years who are up t...</td>\n",
       "      <td>38.6</td>\n",
       "      <td>37.1</td>\n",
       "      <td>40.0</td>\n",
       "      <td>81,619</td>\n",
       "      <td>(33.3767602729, -86.8051937568)</td>\n",
       "      <td>COREW</td>\n",
       "      <td>135896</td>\n",
       "      <td>Core preventive services for older women</td>\n",
       "    </tr>\n",
       "  </tbody>\n",
       "</table>\n",
       "</div>"
      ],
      "text/plain": [
       "   Year StateAbbr    CityName GeographicLevel  UniqueID  \\\n",
       "0  2016        HI    Honolulu            City     15003   \n",
       "1  2016        HI    Honolulu            City     15003   \n",
       "2  2016        AL  Birmingham            City    107000   \n",
       "3  2016        AL  Birmingham            City    107000   \n",
       "4  2016        AL      Hoover            City    135896   \n",
       "\n",
       "                                             Measure  DataValue  \\\n",
       "0  Older adult men aged >=65 Years who are up to ...       31.4   \n",
       "1  Older adult women aged >=65 Years who are up t...       30.4   \n",
       "2  Older adult men aged >=65 Years who are up to ...       32.9   \n",
       "3  Older adult women aged >=65 Years who are up t...       26.0   \n",
       "4  Older adult women aged >=65 Years who are up t...       38.6   \n",
       "\n",
       "   LowConfidenceLimit  HighConfidenceLimit PopulationCount  \\\n",
       "0                31.1                 31.7         953,207   \n",
       "1                30.1                 30.7         953,207   \n",
       "2                32.2                 33.7         212,237   \n",
       "3                25.4                 26.6         212,237   \n",
       "4                37.1                 40.0          81,619   \n",
       "\n",
       "                       GeoLocation MeasureId  CityFIPS  \\\n",
       "0  (21.4588039305, -157.973296737)     COREM     15003   \n",
       "1  (21.4588039305, -157.973296737)     COREW     15003   \n",
       "2  (33.5275663773, -86.7988174678)     COREM    107000   \n",
       "3  (33.5275663773, -86.7988174678)     COREW    107000   \n",
       "4  (33.3767602729, -86.8051937568)     COREW    135896   \n",
       "\n",
       "                          ShortQuestionText  \n",
       "0    Core preventive services for older men  \n",
       "1  Core preventive services for older women  \n",
       "2    Core preventive services for older men  \n",
       "3  Core preventive services for older women  \n",
       "4  Core preventive services for older women  "
      ]
     },
     "execution_count": 7,
     "metadata": {},
     "output_type": "execute_result"
    }
   ],
   "source": [
    "# Sorting values by unique ID; creating new index and dropping the old one\n",
    "prevent_df.sort_values(by=['UniqueID'], ascending=True).reset_index().head(5).drop(columns=['index'])"
   ]
  },
  {
   "cell_type": "markdown",
   "metadata": {},
   "source": [
    "# Data Visualization and Analysis"
   ]
  },
  {
   "cell_type": "code",
   "execution_count": 8,
   "metadata": {},
   "outputs": [],
   "source": [
    "# Importing visualization tool\n",
    "import plotly"
   ]
  },
  {
   "cell_type": "code",
   "execution_count": null,
   "metadata": {},
   "outputs": [],
   "source": []
  }
 ],
 "metadata": {
  "interpreter": {
   "hash": "2bc16b4903e932b9a4b407adb96c7bd2d38ca3cbca67dd2cd7f7c504edfaa5a5"
  },
  "kernelspec": {
   "display_name": "Python 3.9.9 64-bit ('paionenv': pyenv)",
   "language": "python",
   "name": "python3"
  },
  "language_info": {
   "codemirror_mode": {
    "name": "ipython",
    "version": 3
   },
   "file_extension": ".py",
   "mimetype": "text/x-python",
   "name": "python",
   "nbconvert_exporter": "python",
   "pygments_lexer": "ipython3",
   "version": "3.9.9"
  },
  "orig_nbformat": 4
 },
 "nbformat": 4,
 "nbformat_minor": 2
}
