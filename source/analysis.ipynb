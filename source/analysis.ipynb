{
 "cells": [
  {
   "cell_type": "markdown",
   "metadata": {},
   "source": [
    "## Author: Ben Cliff"
   ]
  },
  {
   "cell_type": "markdown",
   "metadata": {},
   "source": [
    "# About the data  \n",
    "##### The dataset loaded into this notebook is a .csv file obtained from the CDC's preventative measures site.  \n",
    "##### The sample subject of this dataset is U.S. citizens who are 65 years or older. The sample is subdivided by gender, State and city.\n",
    "##### The target or signal of this dataset is the percentage of citizens (broken down by gender and location) who are reported to have taken preventative measures such as immunizations and select cancer screenings against common illnesses.\n",
    "##### [Bethlehem insert commentary here about what trends we want to see]  \n",
    "\n",
    "# Purpose of this notebook:\n",
    "##### Create a clean .csv file to work from for further analysis\n",
    "##### Perform preliminary analysis as well as diagnostics of the data\n",
    "##### Create visualizations from this notebook for upload onto our blog site"
   ]
  },
  {
   "cell_type": "markdown",
   "metadata": {},
   "source": [
    "# Reading and cleaning the dataset"
   ]
  },
  {
   "cell_type": "code",
   "execution_count": null,
   "metadata": {},
   "outputs": [],
   "source": [
    "# Importing powerful data manipulation library\n",
    "import pandas as pd\n",
    "import numpy as np\n",
    "import geopandas as gpd\n",
    "from geopandas import GeoDataFrame\n",
    "# import shapely\n",
    "from shapely.geometry import Point"
   ]
  },
  {
   "cell_type": "code",
   "execution_count": null,
   "metadata": {},
   "outputs": [],
   "source": [
    "# Reading in prevention data\n",
    "prevent_df = pd.read_csv('../data/preventativedata.csv')\n",
    "\n",
    "# Removing with little to no information\n",
    "prevent_df = prevent_df.drop(columns=['Data_Value_Unit', 'Data_Value_Footnote_Symbol', 'Data_Value_Footnote', 'TractFIPS', 'CategoryID', 'StateDesc', 'Data_Value_Type', 'DataSource',\n",
    "'DataValueTypeID', 'Category'])"
   ]
  },
  {
   "cell_type": "code",
   "execution_count": null,
   "metadata": {},
   "outputs": [],
   "source": [
    "# Removing undescores\n",
    "prevent_df.columns = prevent_df.columns.str.replace('_', '')\n",
    "# prevent_df.columns"
   ]
  },
  {
   "cell_type": "code",
   "execution_count": null,
   "metadata": {},
   "outputs": [],
   "source": [
    "# Sorting values by unique ID; creating new index and dropping the old one\n",
    "prevent_df.sort_values(by=['UniqueID'], ascending=True).reset_index().head(3).drop(columns=['index'])"
   ]
  },
  {
   "cell_type": "code",
   "execution_count": null,
   "metadata": {},
   "outputs": [],
   "source": [
    "temp_list = []\n",
    "\n",
    "longs = []\n",
    "\n",
    "prevent_df['GeoLocation'] = [x.replace('(', '') for x in prevent_df['GeoLocation']]\n",
    "prevent_df['GeoLocation'] = [x.replace(')', '') for x in prevent_df['GeoLocation']]\n",
    "prevent_df['GeoLocation'] = [x.split(',') for x in prevent_df['GeoLocation']]\n",
    "#prevent_df['GeoLocation'] = [float(x) for x in prevent_df['GeoLocation']]\n"
   ]
  },
  {
   "cell_type": "code",
   "execution_count": null,
   "metadata": {},
   "outputs": [],
   "source": [
    "lats = [float(x[0]) for x in prevent_df['GeoLocation']]\n",
    "longs = [float(x[1]) for x in prevent_df['GeoLocation']]"
   ]
  },
  {
   "cell_type": "code",
   "execution_count": null,
   "metadata": {},
   "outputs": [],
   "source": [
    "prevent_df['lats'] = lats\n",
    "prevent_df['longs'] = longs\n",
    "# prevent_df.head(5)"
   ]
  },
  {
   "cell_type": "markdown",
   "metadata": {},
   "source": [
    "# Data Visualization and Analysis"
   ]
  },
  {
   "cell_type": "code",
   "execution_count": null,
   "metadata": {},
   "outputs": [],
   "source": [
    "# Importing visualization tool\n",
    "import plotly.graph_objects as go\n",
    "import plotly.express as px"
   ]
  },
  {
   "cell_type": "code",
   "execution_count": null,
   "metadata": {},
   "outputs": [],
   "source": [
    "prevent_df['PopulationCount'] = [x.replace(',', '') for x in prevent_df['PopulationCount']]\n",
    "prevent_df['PopulationCount'] = prevent_df['PopulationCount'].astype(int)"
   ]
  },
  {
   "cell_type": "code",
   "execution_count": null,
   "metadata": {},
   "outputs": [],
   "source": [
    "# Adding new column to prevent_df: top 5 states for geospatial analysis\n",
    "temp_list = []\n",
    "for x in prevent_df['StateAbbr']:\n",
    "    if x == 'CA' or x == 'TX' or x == 'FL' or x == 'IL' or x == 'MI':\n",
    "        temp_list.append('yes')\n",
    "    else:\n",
    "        temp_list.append('no')"
   ]
  },
  {
   "cell_type": "code",
   "execution_count": null,
   "metadata": {},
   "outputs": [],
   "source": [
    "prevent_df['top5state'] = temp_list\n",
    "# prevent_df.head(10)"
   ]
  },
  {
   "cell_type": "code",
   "execution_count": null,
   "metadata": {},
   "outputs": [],
   "source": [
    "# Extracting only the male records of the dataset to get the unique counts of surveys by cities\n",
    "men_df = prevent_df.loc[prevent_df['MeasureId'] == 'COREM']\n",
    "women_df = prevent_df.loc[prevent_df['MeasureId'] == 'COREW']\n",
    "\n",
    "# Isolating the top 5 counts of cities in separate dataframe\n",
    "top_5_states = men_df.loc[(men_df['StateAbbr'] == 'CA') | (men_df['StateAbbr'] == 'TX') | (men_df['StateAbbr'] == 'FL')\n",
    "| (men_df['StateAbbr'] == 'IL') | (men_df['StateAbbr'] == 'MI')]\n",
    "\n",
    "# Isolating all other 45 states in separate dataframe\n",
    "other_states_df = men_df.loc[(men_df['StateAbbr'] != 'CA') & (men_df['StateAbbr'] != 'TX') & (men_df['StateAbbr'] != 'FL')\n",
    "& (men_df['StateAbbr'] != 'IL') & (men_df['StateAbbr'] != 'MI')]"
   ]
  },
  {
   "cell_type": "code",
   "execution_count": null,
   "metadata": {},
   "outputs": [],
   "source": [
    "# Creating separate data for the histogram counts\n",
    "x = other_states_df['StateAbbr']\n",
    "y = top_5_states['StateAbbr']\n",
    "\n",
    "# Creating graph object\n",
    "fig = go.Figure()\n",
    "fig.add_trace(go.Histogram(histfunc='count', x=x, name='State Participants'))\n",
    "fig.add_trace(go.Histogram(histfunc='count', x=y, name='Top 5 States represented', marker_color='#330C73'))\n",
    "fig.update_layout(title_text='Cities Count of Survey', xaxis_title_text='State Abbreviation', yaxis_title_text='Count')\n",
    "fig.show()"
   ]
  },
  {
   "cell_type": "code",
   "execution_count": null,
   "metadata": {},
   "outputs": [],
   "source": [
    "\n",
    "geometry = [Point(xy) for xy in zip(lats, longs)]\n",
    "gdf = GeoDataFrame(prevent_df, geometry=geometry)\n",
    "\n",
    "world = gpd.read_file(gpd.datasets.get_path('naturalearth_lowres'))\n",
    "usa = world.loc[world['name'] == 'United States of America']\n",
    "\n",
    "fig = px.scatter_geo(men_df, lat=men_df['lats'], lon=men_df['longs'], width=800, height=400, color=men_df['top5state'])\n",
    "fig.update_layout(title = 'PLACES survey locations', geo_scope='usa', showlegend=False)\n",
    "fig.show()"
   ]
  },
  {
   "cell_type": "code",
   "execution_count": null,
   "metadata": {},
   "outputs": [],
   "source": [
    "# Cross tabulation of the Data by State and the Population Count of each survey location\n",
    "new_df = pd.crosstab(index=[men_df['StateAbbr'], pd.cut(men_df['PopulationCount'], [0, 50000, 100000, 250000, 500000, 1000000])], columns=men_df['PopulationCount'], margins=True, margins_name='Counts')"
   ]
  },
  {
   "cell_type": "code",
   "execution_count": null,
   "metadata": {},
   "outputs": [],
   "source": [
    "# Find a state's location site's population by state abbreviation\n",
    "new_df.loc['TX'].sort_values('PopulationCount')"
   ]
  },
  {
   "cell_type": "code",
   "execution_count": null,
   "metadata": {},
   "outputs": [],
   "source": [
    "new_df.loc['CA'].sort_values('PopulationCount')"
   ]
  },
  {
   "cell_type": "markdown",
   "metadata": {},
   "source": [
    "## Working Hypothesis\n",
    "- Direction for analysis: Geospatial -> why are certain states recieving more attention than others?\n",
    "- Can we make comparison of the female and male participants of this study -> are more women taking the CDC preventative measures? Are they not? Are they the same?"
   ]
  },
  {
   "cell_type": "code",
   "execution_count": null,
   "metadata": {},
   "outputs": [],
   "source": [
    "agg_men = men_df.groupby('StateAbbr')\n",
    "agg_women = women_df.groupby('StateAbbr')"
   ]
  },
  {
   "cell_type": "code",
   "execution_count": null,
   "metadata": {},
   "outputs": [],
   "source": [
    "state_counts = men_df.groupby('StateAbbr').count().Year"
   ]
  },
  {
   "cell_type": "code",
   "execution_count": null,
   "metadata": {},
   "outputs": [],
   "source": [
    "state_counts.describe()"
   ]
  },
  {
   "cell_type": "markdown",
   "metadata": {},
   "source": [
    "# Hypothesis Testing"
   ]
  },
  {
   "cell_type": "code",
   "execution_count": null,
   "metadata": {},
   "outputs": [],
   "source": [
    "# Plot data for men, then women to see if t-test is appropriate for testing hypothesis\n",
    "fig = px.histogram(prevent_df, 'DataValue', color='MeasureId', marginal='box', barmode='overlay', width=1000, height=500)\n",
    "fig.update_layout(title='Overlaid Histogram of Prevention Rates by Sex', xaxis_title_text = 'Prevention Rates (%)')\n",
    "fig.show()"
   ]
  },
  {
   "cell_type": "markdown",
   "metadata": {},
   "source": [
    "The histogram above is more informative than expected prior to its creation. Ultimately, it shows that the data is normally distributed enough for a student t-test to test the null hypothesis that the male and female subgroups have identical average values. In this case, the averages of the rates that the groups succeed in satisfying the CDC's preventative measures requirements. Furthermore, the data shows that the male participants generally meet the CDC preventative measures guidelines than the female participants.\n",
    "\n",
    "COREW - Signifies females  \n",
    "COREM - Signifies males"
   ]
  },
  {
   "cell_type": "code",
   "execution_count": null,
   "metadata": {},
   "outputs": [],
   "source": [
    "# Grouped data by gender, then state\n",
    "# Taken arithmetic mean of the DataValue column\n",
    "# Looking at DataValue for man and women by state \n",
    "\n",
    "mean_for_men = agg_men.mean()['DataValue']\n",
    "mean_for_women = agg_women.mean()['DataValue']"
   ]
  },
  {
   "cell_type": "code",
   "execution_count": null,
   "metadata": {},
   "outputs": [],
   "source": [
    "# Importing statistics functions from scipy for the hypothesis testing\n",
    "from scipy.stats import ttest_ind\n",
    "from scipy.special import logsumexp"
   ]
  },
  {
   "cell_type": "code",
   "execution_count": null,
   "metadata": {},
   "outputs": [],
   "source": [
    "# Creating list objects out of series objects\n",
    "men_list = list(mean_for_men)\n",
    "women_list = list(mean_for_women)"
   ]
  },
  {
   "cell_type": "code",
   "execution_count": null,
   "metadata": {},
   "outputs": [],
   "source": [
    "# Creating function that iterates over each item of a list and inserts the log sum of exponential of item\n",
    "# Function returns the newly generated list\n",
    "def logsums(means):\n",
    "    a_list = []\n",
    "    for x in range(len(means)):\n",
    "        a_list.append(logsumexp(means[x]))\n",
    "    return a_list"
   ]
  },
  {
   "cell_type": "code",
   "execution_count": null,
   "metadata": {},
   "outputs": [],
   "source": [
    "logs_men = logsums(mean_for_men)\n",
    "logs_women = logsums(mean_for_women)"
   ]
  },
  {
   "cell_type": "code",
   "execution_count": null,
   "metadata": {},
   "outputs": [],
   "source": [
    "# Performing student t-test against the aggregated female and male groups' prevention rates\n",
    "t_stat, p = ttest_ind(logs_men, logs_women)\n",
    "print(f't={t_stat}, p={p}')"
   ]
  },
  {
   "cell_type": "markdown",
   "metadata": {},
   "source": [
    "The p-value for this student t-test < 0.05. Therefore, we fail to reject the null hypothesis that the averages of the rates of men and women satisfying the CDC's preventative measures guidelines are identical."
   ]
  },
  {
   "cell_type": "markdown",
   "metadata": {},
   "source": []
  }
 ],
 "metadata": {
  "interpreter": {
   "hash": "2bc16b4903e932b9a4b407adb96c7bd2d38ca3cbca67dd2cd7f7c504edfaa5a5"
  },
  "kernelspec": {
   "display_name": "Python 3.9.9 64-bit ('paionenv': pyenv)",
   "language": "python",
   "name": "python3"
  },
  "language_info": {
   "codemirror_mode": {
    "name": "ipython",
    "version": 3
   },
   "file_extension": ".py",
   "mimetype": "text/x-python",
   "name": "python",
   "nbconvert_exporter": "python",
   "pygments_lexer": "ipython3",
   "version": "3.9.9"
  },
  "orig_nbformat": 4
 },
 "nbformat": 4,
 "nbformat_minor": 2
}
