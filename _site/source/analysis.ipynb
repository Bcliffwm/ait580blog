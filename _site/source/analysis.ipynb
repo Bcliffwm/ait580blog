{
 "cells": [
  {
   "cell_type": "markdown",
   "metadata": {},
   "source": [
    "## Author: Ben Cliff"
   ]
  },
  {
   "cell_type": "markdown",
   "metadata": {},
   "source": [
    "# About the data  \n",
    "##### The dataset loaded into this notebook is a .csv file obtained from the CDC's preventative measures site.  \n",
    "##### The sample subject of this dataset is U.S. citizens who are 65 years or older. The sample is subdivided by gender, State and city.\n",
    "##### The target or signal of this dataset is the percentage of citizens (broken down by gender and location) who are reported to have taken preventative measures such as immunizations and select cancer screenings against common illnesses.\n",
    "##### [Bethlehem insert commentary here about what trends we want to see]  \n",
    "\n",
    "# Purpose of this notebook:\n",
    "##### Create a clean .csv file to work from for further analysis\n",
    "##### Perform preliminary analysis as well as diagnostics of the data\n",
    "##### Create visualizations from this notebook for upload onto our blog site"
   ]
  },
  {
   "cell_type": "markdown",
   "metadata": {},
   "source": [
    "# Reading and cleaning the dataset"
   ]
  },
  {
   "cell_type": "code",
   "execution_count": 1,
   "metadata": {},
   "outputs": [],
   "source": [
    "# Importing powerful data manipulation library\n",
    "import pandas as pd\n",
    "import numpy as np\n",
    "import geopandas as gpd\n",
    "from geopandas import GeoDataFrame\n",
    "# import shapely\n",
    "from shapely.geometry import Point"
   ]
  },
  {
   "cell_type": "code",
   "execution_count": 2,
   "metadata": {},
   "outputs": [],
   "source": [
    "# Reading in prevention data\n",
    "prevent_df = pd.read_csv('../data/preventativedata.csv')\n",
    "\n",
    "# Removing with little to no information\n",
    "prevent_df = prevent_df.drop(columns=['Data_Value_Unit', 'Data_Value_Footnote_Symbol', 'Data_Value_Footnote', 'TractFIPS', 'CategoryID', 'StateDesc', 'Data_Value_Type', 'DataSource',\n",
    "'DataValueTypeID', 'Category'])"
   ]
  },
  {
   "cell_type": "code",
   "execution_count": 3,
   "metadata": {},
   "outputs": [
    {
     "data": {
      "text/plain": [
       "Index(['Year', 'StateAbbr', 'CityName', 'GeographicLevel', 'UniqueID',\n",
       "       'Measure', 'DataValue', 'LowConfidenceLimit', 'HighConfidenceLimit',\n",
       "       'PopulationCount', 'GeoLocation', 'MeasureId', 'CityFIPS',\n",
       "       'ShortQuestionText'],\n",
       "      dtype='object')"
      ]
     },
     "execution_count": 3,
     "metadata": {},
     "output_type": "execute_result"
    }
   ],
   "source": [
    "# Removing undescores\n",
    "prevent_df.columns = prevent_df.columns.str.replace('_', '')\n",
    "prevent_df.columns"
   ]
  },
  {
   "cell_type": "code",
   "execution_count": 4,
   "metadata": {},
   "outputs": [
    {
     "data": {
      "text/html": [
       "<div>\n",
       "<style scoped>\n",
       "    .dataframe tbody tr th:only-of-type {\n",
       "        vertical-align: middle;\n",
       "    }\n",
       "\n",
       "    .dataframe tbody tr th {\n",
       "        vertical-align: top;\n",
       "    }\n",
       "\n",
       "    .dataframe thead th {\n",
       "        text-align: right;\n",
       "    }\n",
       "</style>\n",
       "<table border=\"1\" class=\"dataframe\">\n",
       "  <thead>\n",
       "    <tr style=\"text-align: right;\">\n",
       "      <th></th>\n",
       "      <th>Year</th>\n",
       "      <th>StateAbbr</th>\n",
       "      <th>CityName</th>\n",
       "      <th>GeographicLevel</th>\n",
       "      <th>UniqueID</th>\n",
       "      <th>Measure</th>\n",
       "      <th>DataValue</th>\n",
       "      <th>LowConfidenceLimit</th>\n",
       "      <th>HighConfidenceLimit</th>\n",
       "      <th>PopulationCount</th>\n",
       "      <th>GeoLocation</th>\n",
       "      <th>MeasureId</th>\n",
       "      <th>CityFIPS</th>\n",
       "      <th>ShortQuestionText</th>\n",
       "    </tr>\n",
       "  </thead>\n",
       "  <tbody>\n",
       "    <tr>\n",
       "      <th>0</th>\n",
       "      <td>2016</td>\n",
       "      <td>HI</td>\n",
       "      <td>Honolulu</td>\n",
       "      <td>City</td>\n",
       "      <td>15003</td>\n",
       "      <td>Older adult men aged &gt;=65 Years who are up to ...</td>\n",
       "      <td>31.4</td>\n",
       "      <td>31.1</td>\n",
       "      <td>31.7</td>\n",
       "      <td>953,207</td>\n",
       "      <td>(21.4588039305, -157.973296737)</td>\n",
       "      <td>COREM</td>\n",
       "      <td>15003</td>\n",
       "      <td>Core preventive services for older men</td>\n",
       "    </tr>\n",
       "    <tr>\n",
       "      <th>1</th>\n",
       "      <td>2016</td>\n",
       "      <td>HI</td>\n",
       "      <td>Honolulu</td>\n",
       "      <td>City</td>\n",
       "      <td>15003</td>\n",
       "      <td>Older adult women aged &gt;=65 Years who are up t...</td>\n",
       "      <td>30.4</td>\n",
       "      <td>30.1</td>\n",
       "      <td>30.7</td>\n",
       "      <td>953,207</td>\n",
       "      <td>(21.4588039305, -157.973296737)</td>\n",
       "      <td>COREW</td>\n",
       "      <td>15003</td>\n",
       "      <td>Core preventive services for older women</td>\n",
       "    </tr>\n",
       "    <tr>\n",
       "      <th>2</th>\n",
       "      <td>2016</td>\n",
       "      <td>AL</td>\n",
       "      <td>Birmingham</td>\n",
       "      <td>City</td>\n",
       "      <td>107000</td>\n",
       "      <td>Older adult men aged &gt;=65 Years who are up to ...</td>\n",
       "      <td>32.9</td>\n",
       "      <td>32.2</td>\n",
       "      <td>33.7</td>\n",
       "      <td>212,237</td>\n",
       "      <td>(33.5275663773, -86.7988174678)</td>\n",
       "      <td>COREM</td>\n",
       "      <td>107000</td>\n",
       "      <td>Core preventive services for older men</td>\n",
       "    </tr>\n",
       "  </tbody>\n",
       "</table>\n",
       "</div>"
      ],
      "text/plain": [
       "   Year StateAbbr    CityName GeographicLevel  UniqueID  \\\n",
       "0  2016        HI    Honolulu            City     15003   \n",
       "1  2016        HI    Honolulu            City     15003   \n",
       "2  2016        AL  Birmingham            City    107000   \n",
       "\n",
       "                                             Measure  DataValue  \\\n",
       "0  Older adult men aged >=65 Years who are up to ...       31.4   \n",
       "1  Older adult women aged >=65 Years who are up t...       30.4   \n",
       "2  Older adult men aged >=65 Years who are up to ...       32.9   \n",
       "\n",
       "   LowConfidenceLimit  HighConfidenceLimit PopulationCount  \\\n",
       "0                31.1                 31.7         953,207   \n",
       "1                30.1                 30.7         953,207   \n",
       "2                32.2                 33.7         212,237   \n",
       "\n",
       "                       GeoLocation MeasureId  CityFIPS  \\\n",
       "0  (21.4588039305, -157.973296737)     COREM     15003   \n",
       "1  (21.4588039305, -157.973296737)     COREW     15003   \n",
       "2  (33.5275663773, -86.7988174678)     COREM    107000   \n",
       "\n",
       "                          ShortQuestionText  \n",
       "0    Core preventive services for older men  \n",
       "1  Core preventive services for older women  \n",
       "2    Core preventive services for older men  "
      ]
     },
     "execution_count": 4,
     "metadata": {},
     "output_type": "execute_result"
    }
   ],
   "source": [
    "# Sorting values by unique ID; creating new index and dropping the old one\n",
    "prevent_df.sort_values(by=['UniqueID'], ascending=True).reset_index().head(3).drop(columns=['index'])"
   ]
  },
  {
   "cell_type": "code",
   "execution_count": 5,
   "metadata": {},
   "outputs": [],
   "source": [
    "temp_list = []\n",
    "\n",
    "longs = []\n",
    "\n",
    "prevent_df['GeoLocation'] = [x.replace('(', '') for x in prevent_df['GeoLocation']]\n",
    "prevent_df['GeoLocation'] = [x.replace(')', '') for x in prevent_df['GeoLocation']]\n",
    "prevent_df['GeoLocation'] = [x.split(',') for x in prevent_df['GeoLocation']]\n",
    "#prevent_df['GeoLocation'] = [float(x) for x in prevent_df['GeoLocation']]\n"
   ]
  },
  {
   "cell_type": "code",
   "execution_count": 6,
   "metadata": {},
   "outputs": [],
   "source": [
    "lats = [float(x[0]) for x in prevent_df['GeoLocation']]\n",
    "longs = [float(x[1]) for x in prevent_df['GeoLocation']]"
   ]
  },
  {
   "cell_type": "code",
   "execution_count": 7,
   "metadata": {},
   "outputs": [
    {
     "data": {
      "text/html": [
       "<div>\n",
       "<style scoped>\n",
       "    .dataframe tbody tr th:only-of-type {\n",
       "        vertical-align: middle;\n",
       "    }\n",
       "\n",
       "    .dataframe tbody tr th {\n",
       "        vertical-align: top;\n",
       "    }\n",
       "\n",
       "    .dataframe thead th {\n",
       "        text-align: right;\n",
       "    }\n",
       "</style>\n",
       "<table border=\"1\" class=\"dataframe\">\n",
       "  <thead>\n",
       "    <tr style=\"text-align: right;\">\n",
       "      <th></th>\n",
       "      <th>Year</th>\n",
       "      <th>StateAbbr</th>\n",
       "      <th>CityName</th>\n",
       "      <th>GeographicLevel</th>\n",
       "      <th>UniqueID</th>\n",
       "      <th>Measure</th>\n",
       "      <th>DataValue</th>\n",
       "      <th>LowConfidenceLimit</th>\n",
       "      <th>HighConfidenceLimit</th>\n",
       "      <th>PopulationCount</th>\n",
       "      <th>GeoLocation</th>\n",
       "      <th>MeasureId</th>\n",
       "      <th>CityFIPS</th>\n",
       "      <th>ShortQuestionText</th>\n",
       "      <th>lats</th>\n",
       "      <th>longs</th>\n",
       "    </tr>\n",
       "  </thead>\n",
       "  <tbody>\n",
       "    <tr>\n",
       "      <th>0</th>\n",
       "      <td>2016</td>\n",
       "      <td>WA</td>\n",
       "      <td>Yakima</td>\n",
       "      <td>City</td>\n",
       "      <td>5380010</td>\n",
       "      <td>Older adult men aged &gt;=65 Years who are up to ...</td>\n",
       "      <td>31.3</td>\n",
       "      <td>29.6</td>\n",
       "      <td>33.0</td>\n",
       "      <td>91,067</td>\n",
       "      <td>[46.5925792092,  -120.547807614]</td>\n",
       "      <td>COREM</td>\n",
       "      <td>5380010</td>\n",
       "      <td>Core preventive services for older men</td>\n",
       "      <td>46.592579</td>\n",
       "      <td>-120.547808</td>\n",
       "    </tr>\n",
       "    <tr>\n",
       "      <th>1</th>\n",
       "      <td>2016</td>\n",
       "      <td>AZ</td>\n",
       "      <td>Avondale</td>\n",
       "      <td>City</td>\n",
       "      <td>404720</td>\n",
       "      <td>Older adult women aged &gt;=65 Years who are up t...</td>\n",
       "      <td>27.5</td>\n",
       "      <td>26.6</td>\n",
       "      <td>28.3</td>\n",
       "      <td>76,238</td>\n",
       "      <td>[33.3858367405,  -112.323626619]</td>\n",
       "      <td>COREW</td>\n",
       "      <td>404720</td>\n",
       "      <td>Core preventive services for older women</td>\n",
       "      <td>33.385837</td>\n",
       "      <td>-112.323627</td>\n",
       "    </tr>\n",
       "    <tr>\n",
       "      <th>2</th>\n",
       "      <td>2016</td>\n",
       "      <td>AZ</td>\n",
       "      <td>Chandler</td>\n",
       "      <td>City</td>\n",
       "      <td>412000</td>\n",
       "      <td>Older adult women aged &gt;=65 Years who are up t...</td>\n",
       "      <td>34.5</td>\n",
       "      <td>33.7</td>\n",
       "      <td>35.3</td>\n",
       "      <td>236,123</td>\n",
       "      <td>[33.28318981,  -111.852210033]</td>\n",
       "      <td>COREW</td>\n",
       "      <td>412000</td>\n",
       "      <td>Core preventive services for older women</td>\n",
       "      <td>33.283190</td>\n",
       "      <td>-111.852210</td>\n",
       "    </tr>\n",
       "    <tr>\n",
       "      <th>3</th>\n",
       "      <td>2016</td>\n",
       "      <td>AZ</td>\n",
       "      <td>Gilbert</td>\n",
       "      <td>City</td>\n",
       "      <td>427400</td>\n",
       "      <td>Older adult men aged &gt;=65 Years who are up to ...</td>\n",
       "      <td>39.1</td>\n",
       "      <td>38.0</td>\n",
       "      <td>40.2</td>\n",
       "      <td>208,453</td>\n",
       "      <td>[33.310149392,  -111.746237467]</td>\n",
       "      <td>COREM</td>\n",
       "      <td>427400</td>\n",
       "      <td>Core preventive services for older men</td>\n",
       "      <td>33.310149</td>\n",
       "      <td>-111.746237</td>\n",
       "    </tr>\n",
       "    <tr>\n",
       "      <th>4</th>\n",
       "      <td>2016</td>\n",
       "      <td>AL</td>\n",
       "      <td>Montgomery</td>\n",
       "      <td>City</td>\n",
       "      <td>151000</td>\n",
       "      <td>Older adult men aged &gt;=65 Years who are up to ...</td>\n",
       "      <td>33.6</td>\n",
       "      <td>32.6</td>\n",
       "      <td>34.6</td>\n",
       "      <td>205,764</td>\n",
       "      <td>[32.3472645333,  -86.2677059552]</td>\n",
       "      <td>COREM</td>\n",
       "      <td>151000</td>\n",
       "      <td>Core preventive services for older men</td>\n",
       "      <td>32.347265</td>\n",
       "      <td>-86.267706</td>\n",
       "    </tr>\n",
       "  </tbody>\n",
       "</table>\n",
       "</div>"
      ],
      "text/plain": [
       "   Year StateAbbr    CityName GeographicLevel  UniqueID  \\\n",
       "0  2016        WA      Yakima            City   5380010   \n",
       "1  2016        AZ    Avondale            City    404720   \n",
       "2  2016        AZ    Chandler            City    412000   \n",
       "3  2016        AZ     Gilbert            City    427400   \n",
       "4  2016        AL  Montgomery            City    151000   \n",
       "\n",
       "                                             Measure  DataValue  \\\n",
       "0  Older adult men aged >=65 Years who are up to ...       31.3   \n",
       "1  Older adult women aged >=65 Years who are up t...       27.5   \n",
       "2  Older adult women aged >=65 Years who are up t...       34.5   \n",
       "3  Older adult men aged >=65 Years who are up to ...       39.1   \n",
       "4  Older adult men aged >=65 Years who are up to ...       33.6   \n",
       "\n",
       "   LowConfidenceLimit  HighConfidenceLimit PopulationCount  \\\n",
       "0                29.6                 33.0          91,067   \n",
       "1                26.6                 28.3          76,238   \n",
       "2                33.7                 35.3         236,123   \n",
       "3                38.0                 40.2         208,453   \n",
       "4                32.6                 34.6         205,764   \n",
       "\n",
       "                        GeoLocation MeasureId  CityFIPS  \\\n",
       "0  [46.5925792092,  -120.547807614]     COREM   5380010   \n",
       "1  [33.3858367405,  -112.323626619]     COREW    404720   \n",
       "2    [33.28318981,  -111.852210033]     COREW    412000   \n",
       "3   [33.310149392,  -111.746237467]     COREM    427400   \n",
       "4  [32.3472645333,  -86.2677059552]     COREM    151000   \n",
       "\n",
       "                          ShortQuestionText       lats       longs  \n",
       "0    Core preventive services for older men  46.592579 -120.547808  \n",
       "1  Core preventive services for older women  33.385837 -112.323627  \n",
       "2  Core preventive services for older women  33.283190 -111.852210  \n",
       "3    Core preventive services for older men  33.310149 -111.746237  \n",
       "4    Core preventive services for older men  32.347265  -86.267706  "
      ]
     },
     "execution_count": 7,
     "metadata": {},
     "output_type": "execute_result"
    }
   ],
   "source": [
    "prevent_df['lats'] = lats\n",
    "prevent_df['longs'] = longs\n",
    "prevent_df.head(5)"
   ]
  },
  {
   "cell_type": "markdown",
   "metadata": {},
   "source": [
    "# Data Visualization and Analysis"
   ]
  },
  {
   "cell_type": "code",
   "execution_count": 8,
   "metadata": {},
   "outputs": [],
   "source": [
    "# Importing visualization tool\n",
    "import plotly.graph_objects as go\n",
    "import plotly.express as px"
   ]
  },
  {
   "cell_type": "code",
   "execution_count": 10,
   "metadata": {},
   "outputs": [],
   "source": [
    "tmp_list = []\n",
    "for x in prevent_df['StateAbbr']:\n",
    "    if x == 'CA' or x == 'TX' or x == 'FL' or x == 'IL' or x == 'MI':\n",
    "        tmp_list.append('yes')\n",
    "    else:\n",
    "        tmp_list.append('no')\n",
    "prevent_df['topFiveState'] = tmp_list"
   ]
  },
  {
   "cell_type": "code",
   "execution_count": 12,
   "metadata": {},
   "outputs": [],
   "source": [
    "# Extracting only the male records of the dataset to get the unique counts of surveys by cities\n",
    "men_df = prevent_df.loc[prevent_df['MeasureId'] == 'COREM']\n",
    "\n",
    "# Isolating the top 5 counts of cities in separate dataframe\n",
    "top_5_states = men_df.loc[(men_df['StateAbbr'] == 'CA') | (men_df['StateAbbr'] == 'TX') | (men_df['StateAbbr'] == 'FL')\n",
    "| (men_df['StateAbbr'] == 'IL') | (men_df['StateAbbr'] == 'MI')]\n",
    "\n",
    "# Isolating all other 45 states in separate dataframe\n",
    "other_states_df = men_df.loc[(men_df['StateAbbr'] != 'CA') & (men_df['StateAbbr'] != 'TX') & (men_df['StateAbbr'] != 'FL')\n",
    "& (men_df['StateAbbr'] != 'IL') & (men_df['StateAbbr'] != 'MI')]"
   ]
  },
  {
   "cell_type": "code",
   "execution_count": 13,
   "metadata": {},
   "outputs": [
    {
     "data": {
      "application/vnd.plotly.v1+json": {
       "config": {
        "plotlyServerURL": "https://plot.ly"
       },
       "data": [
        {
         "histfunc": "count",
         "name": "State Participants",
         "type": "histogram",
         "x": [
          "WA",
          "AZ",
          "AL",
          "AZ",
          "AL",
          "AL",
          "AZ",
          "AZ",
          "AR",
          "AR",
          "AZ",
          "AZ",
          "AZ",
          "AZ",
          "AR",
          "AR",
          "AR",
          "AL",
          "AL",
          "AL",
          "AZ",
          "AK",
          "AZ",
          "AZ",
          "AZ",
          "CO",
          "CO",
          "CO",
          "CO",
          "CO",
          "CO",
          "CO",
          "CT",
          "CO",
          "CT",
          "CT",
          "CT",
          "CT",
          "CO",
          "CO",
          "CO",
          "CT",
          "CO",
          "DE",
          "CT",
          "CO",
          "CT",
          "CO",
          "DC",
          "GA",
          "GA",
          "GA",
          "GA",
          "HI",
          "GA",
          "GA",
          "GA",
          "GA",
          "GA",
          "ID",
          "ID",
          "GA",
          "GA",
          "ID",
          "IN",
          "IN",
          "IN",
          "IN",
          "IN",
          "IN",
          "IN",
          "IN",
          "KS",
          "KS",
          "IA",
          "IA",
          "KS",
          "KS",
          "KS",
          "KS",
          "IN",
          "IA",
          "IN",
          "IN",
          "IA",
          "IA",
          "IA",
          "LA",
          "LA",
          "KY",
          "LA",
          "LA",
          "LA",
          "KY",
          "MA",
          "MD",
          "LA",
          "MA",
          "ME",
          "MA",
          "MA",
          "MA",
          "MA",
          "MA",
          "MA",
          "MA",
          "MA",
          "MA",
          "MA",
          "MA",
          "MN",
          "MN",
          "MN",
          "MN",
          "MO",
          "MN",
          "MN",
          "MS",
          "MN",
          "MO",
          "MO",
          "MO",
          "MS",
          "MO",
          "MO",
          "NE",
          "MO",
          "NV",
          "NE",
          "NV",
          "MO",
          "MT",
          "MT",
          "NJ",
          "NJ",
          "NJ",
          "NJ",
          "NV",
          "NH",
          "NV",
          "NV",
          "NJ",
          "NJ",
          "NJ",
          "NJ",
          "NH",
          "NJ",
          "NM",
          "NM",
          "NY",
          "NM",
          "NY",
          "NY",
          "NY",
          "NM",
          "NC",
          "NY",
          "NC",
          "NY",
          "NY",
          "NC",
          "NC",
          "NY",
          "NY",
          "NC",
          "NC",
          "NC",
          "NC",
          "NC",
          "NC",
          "NC",
          "NC",
          "NC",
          "NC",
          "OH",
          "ND",
          "OH",
          "OH",
          "OH",
          "OH",
          "OK",
          "OK",
          "OH",
          "OK",
          "OK",
          "OH",
          "OH",
          "OK",
          "OH",
          "OR",
          "OR",
          "PA",
          "OR",
          "OR",
          "OK",
          "OR",
          "OR",
          "OR",
          "OR",
          "PA",
          "PA",
          "PA",
          "PA",
          "SC",
          "PA",
          "SD",
          "RI",
          "SC",
          "PA",
          "SC",
          "SC",
          "RI",
          "TN",
          "SD",
          "RI",
          "TN",
          "TN",
          "RI",
          "SC",
          "TN",
          "TN",
          "TN",
          "VA",
          "UT",
          "UT",
          "UT",
          "VA",
          "UT",
          "UT",
          "UT",
          "UT",
          "UT",
          "UT",
          "VA",
          "VA",
          "VA",
          "VT",
          "VA",
          "VA",
          "WA",
          "WA",
          "WA",
          "WA",
          "VA",
          "VA",
          "WA",
          "VA",
          "WA",
          "WA",
          "WA",
          "WA",
          "VA",
          "WA",
          "WI",
          "WI",
          "WA",
          "WI",
          "WA",
          "WI",
          "WV",
          "WA",
          "WI",
          "WI",
          "WY",
          "WI"
         ]
        },
        {
         "histfunc": "count",
         "marker": {
          "color": "#330C73"
         },
         "name": "Top 5 States represented",
         "type": "histogram",
         "x": [
          "CA",
          "CA",
          "CA",
          "CA",
          "CA",
          "CA",
          "CA",
          "CA",
          "CA",
          "CA",
          "CA",
          "CA",
          "CA",
          "CA",
          "CA",
          "CA",
          "CA",
          "CA",
          "CA",
          "CA",
          "CA",
          "CA",
          "CA",
          "CA",
          "CA",
          "CA",
          "CA",
          "CA",
          "CA",
          "CA",
          "CA",
          "CA",
          "CA",
          "CA",
          "CA",
          "CA",
          "CA",
          "CA",
          "CA",
          "CA",
          "CA",
          "CA",
          "CA",
          "CA",
          "CA",
          "CA",
          "CA",
          "CA",
          "CA",
          "CA",
          "CA",
          "CA",
          "CA",
          "CA",
          "CA",
          "CA",
          "CA",
          "CA",
          "CA",
          "CA",
          "CA",
          "CA",
          "CA",
          "CA",
          "CA",
          "CA",
          "CA",
          "CA",
          "CA",
          "CA",
          "CA",
          "CA",
          "CA",
          "CA",
          "CA",
          "CA",
          "CA",
          "CA",
          "CA",
          "CA",
          "CA",
          "CA",
          "CA",
          "CA",
          "CA",
          "CA",
          "CA",
          "CA",
          "CA",
          "CA",
          "CA",
          "CA",
          "CA",
          "CA",
          "CA",
          "CA",
          "CA",
          "CA",
          "CA",
          "CA",
          "CA",
          "CA",
          "CA",
          "CA",
          "CA",
          "CA",
          "CA",
          "CA",
          "CA",
          "CA",
          "CA",
          "CA",
          "CA",
          "CA",
          "CA",
          "CA",
          "CA",
          "CA",
          "CA",
          "CA",
          "CA",
          "FL",
          "FL",
          "FL",
          "FL",
          "FL",
          "FL",
          "FL",
          "FL",
          "FL",
          "FL",
          "FL",
          "FL",
          "FL",
          "FL",
          "FL",
          "FL",
          "FL",
          "FL",
          "FL",
          "FL",
          "FL",
          "FL",
          "FL",
          "FL",
          "FL",
          "FL",
          "FL",
          "FL",
          "FL",
          "FL",
          "FL",
          "FL",
          "FL",
          "IL",
          "IL",
          "IL",
          "IL",
          "IL",
          "IL",
          "IL",
          "IL",
          "IL",
          "IL",
          "IL",
          "IL",
          "IL",
          "IL",
          "IL",
          "IL",
          "IL",
          "IL",
          "MI",
          "MI",
          "MI",
          "MI",
          "MI",
          "MI",
          "MI",
          "MI",
          "MI",
          "MI",
          "MI",
          "MI",
          "MI",
          "MI",
          "MI",
          "MI",
          "TX",
          "TX",
          "TX",
          "TX",
          "TX",
          "TX",
          "TX",
          "TX",
          "TX",
          "TX",
          "TX",
          "TX",
          "TX",
          "TX",
          "TX",
          "TX",
          "TX",
          "TX",
          "TX",
          "TX",
          "TX",
          "TX",
          "TX",
          "TX",
          "TX",
          "TX",
          "TX",
          "TX",
          "TX",
          "TX",
          "TX",
          "TX",
          "TX",
          "TX",
          "TX",
          "TX",
          "TX",
          "TX",
          "TX",
          "TX",
          "TX",
          "TX",
          "TX",
          "TX",
          "TX",
          "TX",
          "TX"
         ]
        }
       ],
       "layout": {
        "template": {
         "data": {
          "bar": [
           {
            "error_x": {
             "color": "#2a3f5f"
            },
            "error_y": {
             "color": "#2a3f5f"
            },
            "marker": {
             "line": {
              "color": "#E5ECF6",
              "width": 0.5
             },
             "pattern": {
              "fillmode": "overlay",
              "size": 10,
              "solidity": 0.2
             }
            },
            "type": "bar"
           }
          ],
          "barpolar": [
           {
            "marker": {
             "line": {
              "color": "#E5ECF6",
              "width": 0.5
             },
             "pattern": {
              "fillmode": "overlay",
              "size": 10,
              "solidity": 0.2
             }
            },
            "type": "barpolar"
           }
          ],
          "carpet": [
           {
            "aaxis": {
             "endlinecolor": "#2a3f5f",
             "gridcolor": "white",
             "linecolor": "white",
             "minorgridcolor": "white",
             "startlinecolor": "#2a3f5f"
            },
            "baxis": {
             "endlinecolor": "#2a3f5f",
             "gridcolor": "white",
             "linecolor": "white",
             "minorgridcolor": "white",
             "startlinecolor": "#2a3f5f"
            },
            "type": "carpet"
           }
          ],
          "choropleth": [
           {
            "colorbar": {
             "outlinewidth": 0,
             "ticks": ""
            },
            "type": "choropleth"
           }
          ],
          "contour": [
           {
            "colorbar": {
             "outlinewidth": 0,
             "ticks": ""
            },
            "colorscale": [
             [
              0,
              "#0d0887"
             ],
             [
              0.1111111111111111,
              "#46039f"
             ],
             [
              0.2222222222222222,
              "#7201a8"
             ],
             [
              0.3333333333333333,
              "#9c179e"
             ],
             [
              0.4444444444444444,
              "#bd3786"
             ],
             [
              0.5555555555555556,
              "#d8576b"
             ],
             [
              0.6666666666666666,
              "#ed7953"
             ],
             [
              0.7777777777777778,
              "#fb9f3a"
             ],
             [
              0.8888888888888888,
              "#fdca26"
             ],
             [
              1,
              "#f0f921"
             ]
            ],
            "type": "contour"
           }
          ],
          "contourcarpet": [
           {
            "colorbar": {
             "outlinewidth": 0,
             "ticks": ""
            },
            "type": "contourcarpet"
           }
          ],
          "heatmap": [
           {
            "colorbar": {
             "outlinewidth": 0,
             "ticks": ""
            },
            "colorscale": [
             [
              0,
              "#0d0887"
             ],
             [
              0.1111111111111111,
              "#46039f"
             ],
             [
              0.2222222222222222,
              "#7201a8"
             ],
             [
              0.3333333333333333,
              "#9c179e"
             ],
             [
              0.4444444444444444,
              "#bd3786"
             ],
             [
              0.5555555555555556,
              "#d8576b"
             ],
             [
              0.6666666666666666,
              "#ed7953"
             ],
             [
              0.7777777777777778,
              "#fb9f3a"
             ],
             [
              0.8888888888888888,
              "#fdca26"
             ],
             [
              1,
              "#f0f921"
             ]
            ],
            "type": "heatmap"
           }
          ],
          "heatmapgl": [
           {
            "colorbar": {
             "outlinewidth": 0,
             "ticks": ""
            },
            "colorscale": [
             [
              0,
              "#0d0887"
             ],
             [
              0.1111111111111111,
              "#46039f"
             ],
             [
              0.2222222222222222,
              "#7201a8"
             ],
             [
              0.3333333333333333,
              "#9c179e"
             ],
             [
              0.4444444444444444,
              "#bd3786"
             ],
             [
              0.5555555555555556,
              "#d8576b"
             ],
             [
              0.6666666666666666,
              "#ed7953"
             ],
             [
              0.7777777777777778,
              "#fb9f3a"
             ],
             [
              0.8888888888888888,
              "#fdca26"
             ],
             [
              1,
              "#f0f921"
             ]
            ],
            "type": "heatmapgl"
           }
          ],
          "histogram": [
           {
            "marker": {
             "pattern": {
              "fillmode": "overlay",
              "size": 10,
              "solidity": 0.2
             }
            },
            "type": "histogram"
           }
          ],
          "histogram2d": [
           {
            "colorbar": {
             "outlinewidth": 0,
             "ticks": ""
            },
            "colorscale": [
             [
              0,
              "#0d0887"
             ],
             [
              0.1111111111111111,
              "#46039f"
             ],
             [
              0.2222222222222222,
              "#7201a8"
             ],
             [
              0.3333333333333333,
              "#9c179e"
             ],
             [
              0.4444444444444444,
              "#bd3786"
             ],
             [
              0.5555555555555556,
              "#d8576b"
             ],
             [
              0.6666666666666666,
              "#ed7953"
             ],
             [
              0.7777777777777778,
              "#fb9f3a"
             ],
             [
              0.8888888888888888,
              "#fdca26"
             ],
             [
              1,
              "#f0f921"
             ]
            ],
            "type": "histogram2d"
           }
          ],
          "histogram2dcontour": [
           {
            "colorbar": {
             "outlinewidth": 0,
             "ticks": ""
            },
            "colorscale": [
             [
              0,
              "#0d0887"
             ],
             [
              0.1111111111111111,
              "#46039f"
             ],
             [
              0.2222222222222222,
              "#7201a8"
             ],
             [
              0.3333333333333333,
              "#9c179e"
             ],
             [
              0.4444444444444444,
              "#bd3786"
             ],
             [
              0.5555555555555556,
              "#d8576b"
             ],
             [
              0.6666666666666666,
              "#ed7953"
             ],
             [
              0.7777777777777778,
              "#fb9f3a"
             ],
             [
              0.8888888888888888,
              "#fdca26"
             ],
             [
              1,
              "#f0f921"
             ]
            ],
            "type": "histogram2dcontour"
           }
          ],
          "mesh3d": [
           {
            "colorbar": {
             "outlinewidth": 0,
             "ticks": ""
            },
            "type": "mesh3d"
           }
          ],
          "parcoords": [
           {
            "line": {
             "colorbar": {
              "outlinewidth": 0,
              "ticks": ""
             }
            },
            "type": "parcoords"
           }
          ],
          "pie": [
           {
            "automargin": true,
            "type": "pie"
           }
          ],
          "scatter": [
           {
            "marker": {
             "colorbar": {
              "outlinewidth": 0,
              "ticks": ""
             }
            },
            "type": "scatter"
           }
          ],
          "scatter3d": [
           {
            "line": {
             "colorbar": {
              "outlinewidth": 0,
              "ticks": ""
             }
            },
            "marker": {
             "colorbar": {
              "outlinewidth": 0,
              "ticks": ""
             }
            },
            "type": "scatter3d"
           }
          ],
          "scattercarpet": [
           {
            "marker": {
             "colorbar": {
              "outlinewidth": 0,
              "ticks": ""
             }
            },
            "type": "scattercarpet"
           }
          ],
          "scattergeo": [
           {
            "marker": {
             "colorbar": {
              "outlinewidth": 0,
              "ticks": ""
             }
            },
            "type": "scattergeo"
           }
          ],
          "scattergl": [
           {
            "marker": {
             "colorbar": {
              "outlinewidth": 0,
              "ticks": ""
             }
            },
            "type": "scattergl"
           }
          ],
          "scattermapbox": [
           {
            "marker": {
             "colorbar": {
              "outlinewidth": 0,
              "ticks": ""
             }
            },
            "type": "scattermapbox"
           }
          ],
          "scatterpolar": [
           {
            "marker": {
             "colorbar": {
              "outlinewidth": 0,
              "ticks": ""
             }
            },
            "type": "scatterpolar"
           }
          ],
          "scatterpolargl": [
           {
            "marker": {
             "colorbar": {
              "outlinewidth": 0,
              "ticks": ""
             }
            },
            "type": "scatterpolargl"
           }
          ],
          "scatterternary": [
           {
            "marker": {
             "colorbar": {
              "outlinewidth": 0,
              "ticks": ""
             }
            },
            "type": "scatterternary"
           }
          ],
          "surface": [
           {
            "colorbar": {
             "outlinewidth": 0,
             "ticks": ""
            },
            "colorscale": [
             [
              0,
              "#0d0887"
             ],
             [
              0.1111111111111111,
              "#46039f"
             ],
             [
              0.2222222222222222,
              "#7201a8"
             ],
             [
              0.3333333333333333,
              "#9c179e"
             ],
             [
              0.4444444444444444,
              "#bd3786"
             ],
             [
              0.5555555555555556,
              "#d8576b"
             ],
             [
              0.6666666666666666,
              "#ed7953"
             ],
             [
              0.7777777777777778,
              "#fb9f3a"
             ],
             [
              0.8888888888888888,
              "#fdca26"
             ],
             [
              1,
              "#f0f921"
             ]
            ],
            "type": "surface"
           }
          ],
          "table": [
           {
            "cells": {
             "fill": {
              "color": "#EBF0F8"
             },
             "line": {
              "color": "white"
             }
            },
            "header": {
             "fill": {
              "color": "#C8D4E3"
             },
             "line": {
              "color": "white"
             }
            },
            "type": "table"
           }
          ]
         },
         "layout": {
          "annotationdefaults": {
           "arrowcolor": "#2a3f5f",
           "arrowhead": 0,
           "arrowwidth": 1
          },
          "autotypenumbers": "strict",
          "coloraxis": {
           "colorbar": {
            "outlinewidth": 0,
            "ticks": ""
           }
          },
          "colorscale": {
           "diverging": [
            [
             0,
             "#8e0152"
            ],
            [
             0.1,
             "#c51b7d"
            ],
            [
             0.2,
             "#de77ae"
            ],
            [
             0.3,
             "#f1b6da"
            ],
            [
             0.4,
             "#fde0ef"
            ],
            [
             0.5,
             "#f7f7f7"
            ],
            [
             0.6,
             "#e6f5d0"
            ],
            [
             0.7,
             "#b8e186"
            ],
            [
             0.8,
             "#7fbc41"
            ],
            [
             0.9,
             "#4d9221"
            ],
            [
             1,
             "#276419"
            ]
           ],
           "sequential": [
            [
             0,
             "#0d0887"
            ],
            [
             0.1111111111111111,
             "#46039f"
            ],
            [
             0.2222222222222222,
             "#7201a8"
            ],
            [
             0.3333333333333333,
             "#9c179e"
            ],
            [
             0.4444444444444444,
             "#bd3786"
            ],
            [
             0.5555555555555556,
             "#d8576b"
            ],
            [
             0.6666666666666666,
             "#ed7953"
            ],
            [
             0.7777777777777778,
             "#fb9f3a"
            ],
            [
             0.8888888888888888,
             "#fdca26"
            ],
            [
             1,
             "#f0f921"
            ]
           ],
           "sequentialminus": [
            [
             0,
             "#0d0887"
            ],
            [
             0.1111111111111111,
             "#46039f"
            ],
            [
             0.2222222222222222,
             "#7201a8"
            ],
            [
             0.3333333333333333,
             "#9c179e"
            ],
            [
             0.4444444444444444,
             "#bd3786"
            ],
            [
             0.5555555555555556,
             "#d8576b"
            ],
            [
             0.6666666666666666,
             "#ed7953"
            ],
            [
             0.7777777777777778,
             "#fb9f3a"
            ],
            [
             0.8888888888888888,
             "#fdca26"
            ],
            [
             1,
             "#f0f921"
            ]
           ]
          },
          "colorway": [
           "#636efa",
           "#EF553B",
           "#00cc96",
           "#ab63fa",
           "#FFA15A",
           "#19d3f3",
           "#FF6692",
           "#B6E880",
           "#FF97FF",
           "#FECB52"
          ],
          "font": {
           "color": "#2a3f5f"
          },
          "geo": {
           "bgcolor": "white",
           "lakecolor": "white",
           "landcolor": "#E5ECF6",
           "showlakes": true,
           "showland": true,
           "subunitcolor": "white"
          },
          "hoverlabel": {
           "align": "left"
          },
          "hovermode": "closest",
          "mapbox": {
           "style": "light"
          },
          "paper_bgcolor": "white",
          "plot_bgcolor": "#E5ECF6",
          "polar": {
           "angularaxis": {
            "gridcolor": "white",
            "linecolor": "white",
            "ticks": ""
           },
           "bgcolor": "#E5ECF6",
           "radialaxis": {
            "gridcolor": "white",
            "linecolor": "white",
            "ticks": ""
           }
          },
          "scene": {
           "xaxis": {
            "backgroundcolor": "#E5ECF6",
            "gridcolor": "white",
            "gridwidth": 2,
            "linecolor": "white",
            "showbackground": true,
            "ticks": "",
            "zerolinecolor": "white"
           },
           "yaxis": {
            "backgroundcolor": "#E5ECF6",
            "gridcolor": "white",
            "gridwidth": 2,
            "linecolor": "white",
            "showbackground": true,
            "ticks": "",
            "zerolinecolor": "white"
           },
           "zaxis": {
            "backgroundcolor": "#E5ECF6",
            "gridcolor": "white",
            "gridwidth": 2,
            "linecolor": "white",
            "showbackground": true,
            "ticks": "",
            "zerolinecolor": "white"
           }
          },
          "shapedefaults": {
           "line": {
            "color": "#2a3f5f"
           }
          },
          "ternary": {
           "aaxis": {
            "gridcolor": "white",
            "linecolor": "white",
            "ticks": ""
           },
           "baxis": {
            "gridcolor": "white",
            "linecolor": "white",
            "ticks": ""
           },
           "bgcolor": "#E5ECF6",
           "caxis": {
            "gridcolor": "white",
            "linecolor": "white",
            "ticks": ""
           }
          },
          "title": {
           "x": 0.05
          },
          "xaxis": {
           "automargin": true,
           "gridcolor": "white",
           "linecolor": "white",
           "ticks": "",
           "title": {
            "standoff": 15
           },
           "zerolinecolor": "white",
           "zerolinewidth": 2
          },
          "yaxis": {
           "automargin": true,
           "gridcolor": "white",
           "linecolor": "white",
           "ticks": "",
           "title": {
            "standoff": 15
           },
           "zerolinecolor": "white",
           "zerolinewidth": 2
          }
         }
        },
        "title": {
         "text": "Cities Count of Survey"
        },
        "xaxis": {
         "title": {
          "text": "State Abbreviation"
         }
        },
        "yaxis": {
         "title": {
          "text": "Count"
         }
        }
       }
      }
     },
     "metadata": {},
     "output_type": "display_data"
    }
   ],
   "source": [
    "# Creating separate data for the histogram counts\n",
    "x = other_states_df['StateAbbr']\n",
    "y = top_5_states['StateAbbr']\n",
    "\n",
    "# Creating graph object\n",
    "fig = go.Figure()\n",
    "fig.add_trace(go.Histogram(histfunc='count', x=x, name='State Participants'))\n",
    "fig.add_trace(go.Histogram(histfunc='count', x=y, name='Top 5 States represented', marker_color='#330C73'))\n",
    "fig.update_layout(title_text='Cities Count of Survey', xaxis_title_text='State Abbreviation', yaxis_title_text='Count')\n",
    "fig.show()"
   ]
  },
  {
   "cell_type": "code",
   "execution_count": 15,
   "metadata": {},
   "outputs": [
    {
     "data": {
      "application/vnd.plotly.v1+json": {
       "config": {
        "plotlyServerURL": "https://plot.ly"
       },
       "data": [
        {
         "geo": "geo",
         "hovertemplate": "topFiveState=no<br>lats=%{lat}<br>longs=%{lon}<extra></extra>",
         "lat": [
          46.5925792092,
          33.3858367405,
          33.28318981,
          33.310149392,
          32.3472645333,
          33.3858367405,
          33.2336083951,
          33.2336083951,
          34.6989692671,
          32.3472645333,
          33.3767602729,
          33.7847206422,
          34.7253957894,
          32.1567244483,
          35.3491692636,
          36.1869932598,
          33.3882640307,
          33.6803835177,
          32.5986027117,
          36.1869932598,
          33.6872493651,
          33.6803835177,
          33.6872493651,
          35.8208121538,
          36.0712117312,
          35.8208121538,
          35.3491692636,
          32.1567244483,
          32.5986027117,
          33.3882640307,
          36.0712117312,
          34.7253957894,
          34.6989692671,
          61.149868731,
          33.310149392,
          30.6776248648,
          33.5275663773,
          33.28318981,
          33.5275663773,
          61.149868731,
          33.3767602729,
          30.6776248648,
          33.5724138695,
          33.4022837359,
          33.5796123089,
          33.5724138695,
          33.5796123089,
          33.4022837359,
          33.7847206422,
          39.7620283743,
          40.0275510494,
          39.592872073,
          39.7091594781,
          39.8308263293,
          38.8672748077,
          39.592872073,
          39.7620283743,
          38.8672748077,
          39.7091594781,
          40.0275510494,
          39.8308263293,
          40.5487758924,
          40.4141369521,
          41.4015898606,
          41.1928054233,
          39.8838511475,
          41.3113869392,
          41.4015898606,
          41.1049145013,
          41.1175631682,
          38.2733957251,
          39.6976734462,
          41.7660706419,
          39.7412748227,
          41.5582443266,
          40.4165693758,
          39.8838511475,
          38.2733957251,
          39.9193994188,
          41.1049145013,
          40.4165693758,
          41.7660706419,
          40.4141369521,
          40.5487758924,
          39.7412748227,
          41.1175631682,
          41.1928054233,
          39.9193994188,
          41.3113869392,
          41.5582443266,
          40.1695164708,
          41.675922654,
          41.675922654,
          40.1695164708,
          39.6976734462,
          38.9099241426,
          38.9099241426,
          33.7626524683,
          33.9508170683,
          33.9508170683,
          31.5776036766,
          33.7626524683,
          31.5776036766,
          32.8320417692,
          21.4588039305,
          32.5099614852,
          34.0391384583,
          33.3644561527,
          33.3644561527,
          34.0332991998,
          32.8320417692,
          43.5829315681,
          33.9366669867,
          34.0332991998,
          32.0283615157,
          21.4588039305,
          43.5984343897,
          43.6185195383,
          43.6185195383,
          43.5984343897,
          32.5985113609,
          34.0391384583,
          32.5985113609,
          32.5099614852,
          32.0283615157,
          43.5829315681,
          33.9366669867,
          39.1637458221,
          41.6171442828,
          41.0884920417,
          41.0884920417,
          39.9587635263,
          39.9587635263,
          37.9867158026,
          39.7771221075,
          39.9658404613,
          41.5904779239,
          39.9658404613,
          41.5904779239,
          37.9867158026,
          41.6171442828,
          39.1637458221,
          39.7771221075,
          37.690561478,
          38.8872922575,
          40.3994285285,
          42.4919736932,
          38.9599302924,
          40.1987098324,
          41.6558950332,
          41.5741349525,
          41.966729258,
          41.5557926876,
          38.884693021,
          39.1234621409,
          38.884693021,
          38.8872922575,
          39.0359549911,
          41.6769914549,
          41.5557926876,
          42.4963149039,
          40.1987098324,
          40.3994285285,
          42.4963149039,
          41.6558950332,
          41.966729258,
          39.0359549911,
          38.9599302924,
          37.690561478,
          41.5741349525,
          41.6769914549,
          42.4919736932,
          39.1234621409,
          30.0687009935,
          30.2030679966,
          30.4510891679,
          30.2030679966,
          38.1777689918,
          38.0423254022,
          30.4510891679,
          38.0423254022,
          30.2120582815,
          30.2120582815,
          30.0106937201,
          30.0687009935,
          30.0106937201,
          38.1777689918,
          42.082071372,
          39.3084523991,
          42.3758188051,
          43.6779836271,
          32.4671618864,
          41.7139907598,
          41.7139907598,
          43.6779836271,
          39.3084523991,
          42.3758188051,
          42.082071372,
          42.3155796777,
          42.3155796777,
          32.4671618864,
          42.3316567616,
          41.6712667258,
          42.3316567616,
          42.3905738858,
          42.2492981918,
          42.6388727331,
          42.7002772201,
          41.6712667258,
          42.7002772201,
          42.2705425446,
          42.1154977999,
          42.4783322881,
          42.1154977999,
          42.4783322881,
          42.2492981918,
          42.3905738858,
          42.6388727331,
          42.2705425446,
          44.8305852429,
          46.7854703427,
          45.1112033916,
          44.8305852429,
          44.9635407967,
          46.7854703427,
          44.9635407967,
          45.1112033916,
          38.9170508128,
          39.1239413971,
          44.0150574384,
          38.9481109651,
          45.022462874,
          39.0870794771,
          32.31627222,
          30.427377008,
          44.9477402558,
          38.7852244161,
          39.7598312179,
          39.1239413971,
          45.022462874,
          32.31627222,
          30.427377008,
          38.9481109651,
          38.7852244161,
          44.9477402558,
          44.0150574384,
          39.7598312179,
          38.9170508128,
          39.0870794771,
          37.1942661484,
          45.7893102609,
          41.2642309111,
          40.8096195695,
          37.1942661484,
          36.0122394916,
          41.2642309111,
          36.2274148438,
          38.6358122615,
          36.0122394916,
          46.8694402455,
          38.6358122615,
          45.7893102609,
          46.8694402455,
          40.8096195695,
          36.2274148438,
          40.7260693449,
          40.8574581109,
          40.6664447729,
          40.2237289981,
          40.8631217425,
          42.9844541713,
          40.8574581109,
          36.2891993562,
          42.7491554459,
          40.7188130852,
          39.573373276,
          40.8631217425,
          40.7260693449,
          39.9361910066,
          39.5540171998,
          39.9361910066,
          40.7674606884,
          39.5540171998,
          42.7491554459,
          40.6664447729,
          40.7674606884,
          36.2891993562,
          39.573373276,
          40.7188130852,
          40.2237289981,
          40.9146874977,
          42.9844541713,
          40.9146874977,
          35.1055025771,
          42.9014518233,
          35.287307935,
          32.326638797,
          40.9321713141,
          35.6662719601,
          35.6662719601,
          35.1055025771,
          40.9136008569,
          35.287307935,
          42.6663969604,
          42.9014518233,
          40.9321713141,
          42.6663969604,
          32.326638797,
          40.9136008569,
          35.8322080933,
          40.694960689,
          40.694960689,
          35.5708251391,
          42.8025204414,
          35.2078721969,
          42.8025204414,
          43.1679802918,
          43.0409202097,
          35.2078721969,
          35.7814978722,
          35.5708251391,
          43.0409202097,
          40.9465025597,
          35.7814978722,
          40.9465025597,
          43.1679802918,
          34.2102758569,
          35.8322080933,
          35.3939316958,
          36.0960480415,
          35.0851309527,
          35.3939316958,
          34.2102758569,
          35.9881243803,
          35.5959211876,
          34.7331103037,
          35.9881243803,
          35.2472984431,
          35.2472984431,
          34.7331103037,
          35.5959211876,
          35.9809147402,
          36.1029453039,
          36.1029453039,
          36.0960480415,
          35.0851309527,
          35.9809147402,
          39.1411747124,
          46.8652457832,
          41.0801444942,
          39.9859500484,
          39.9859500484,
          40.8080192662,
          41.4765345821,
          39.1411747124,
          41.4765345821,
          40.8080192662,
          41.0801444942,
          46.8652457832,
          34.6170564899,
          35.6689350516,
          36.0366324911,
          41.3842399838,
          34.6170564899,
          35.2335032647,
          36.0366324911,
          35.467564288,
          41.0993286607,
          41.0993286607,
          35.6689350516,
          41.6637399604,
          39.779768039,
          41.6637399604,
          41.3842399838,
          35.467564288,
          35.2335032647,
          39.779768039,
          44.0561827184,
          44.923273154,
          45.4795765674,
          36.1284213425,
          44.0559363346,
          40.596099618,
          40.596099618,
          42.3371987584,
          45.537180654,
          45.5024256798,
          45.5024256798,
          45.529027994,
          45.537180654,
          44.923273154,
          36.1284213425,
          45.529027994,
          45.4795765674,
          42.3371987584,
          44.0559363346,
          44.0561827184,
          40.6266402578,
          40.0093147808,
          40.4396297486,
          40.4396297486,
          40.6266402578,
          40.0093147808,
          42.1164698754,
          42.1164698754,
          32.9100915071,
          41.4043729362,
          41.823480533,
          44.0705009564,
          41.4043729362,
          41.7064727301,
          35.0662472165,
          43.5388067537,
          35.9690594531,
          41.8744534517,
          34.9403611496,
          40.3399678686,
          36.569683159,
          44.0705009564,
          32.8136961892,
          32.8538274584,
          34.0366069566,
          32.8538274584,
          41.8744534517,
          32.9100915071,
          41.7658017135,
          35.9690594531,
          41.7658017135,
          43.5388067537,
          34.9403611496,
          41.823480533,
          35.0662472165,
          36.569683159,
          32.8136961892,
          41.7064727301,
          40.3399678686,
          34.0366069566,
          35.850778195,
          35.1046295042,
          36.1712229904,
          35.1046295042,
          36.1712229904,
          35.850778195,
          37.1051141309,
          40.7778489465,
          40.5702254423,
          38.8187351557,
          41.2281567535,
          36.6777521118,
          36.8932863006,
          40.2457185288,
          40.6887696962,
          36.8451450228,
          40.2987127625,
          40.6022598635,
          40.2457185288,
          40.6022598635,
          40.2987127625,
          41.077181614,
          37.0787444634,
          40.5702254423,
          44.4876245694,
          37.4004163016,
          40.7778489465,
          37.4004163016,
          40.6887696962,
          41.2281567535,
          41.077181614,
          37.0787444634,
          36.6777521118,
          37.1051141309,
          36.8932863006,
          36.8451450228,
          44.4876245694,
          37.0533009025,
          38.8187351557,
          37.0533009025,
          48.7535370315,
          47.4760546752,
          48.7535370315,
          47.622154338,
          47.9497966189,
          37.2782181855,
          46.198438428,
          37.2782181855,
          47.3038544325,
          37.5293933083,
          36.6930367981,
          36.7534593339,
          36.7534593339,
          47.3090846316,
          37.5293933083,
          47.6736243259,
          47.5962437606,
          46.198438428,
          47.3038544325,
          47.622154338,
          47.6736243259,
          36.6930367981,
          47.3090846316,
          47.5962437606,
          47.3849636272,
          47.3849636272,
          47.4760546752,
          47.9497966189,
          44.5149847816,
          47.662556574,
          44.5149847816,
          44.2776987457,
          47.662556574,
          43.0809865694,
          47.2425411445,
          43.0809865694,
          42.585570271,
          47.2425411445,
          45.6357172365,
          43.0641258925,
          38.3484079736,
          43.0641258925,
          38.3484079736,
          45.6357172365,
          42.585570271,
          44.2776987457,
          46.5925792092,
          41.1460804265,
          43.0093332215,
          42.7274599494,
          43.0093332215,
          41.1460804265,
          42.7274599494
         ],
         "legendgroup": "no",
         "lon": [
          -120.547807614,
          -112.323626619,
          -111.852210033,
          -111.746237467,
          -86.2677059552,
          -112.323626619,
          -87.5268004073,
          -87.5268004073,
          -86.6387042882,
          -86.2677059552,
          -86.8051937568,
          -112.298680584,
          -92.3583751863,
          -110.877085494,
          -94.3696317306,
          -94.1536274531,
          -111.931802302,
          -112.452218439,
          -114.54836837,
          -94.1536274531,
          -111.865085877,
          -112.452218439,
          -111.865085877,
          -90.6794991686,
          -94.1659600436,
          -90.6794991686,
          -94.3696317306,
          -110.877085494,
          -114.54836837,
          -111.931802302,
          -94.1659600436,
          -92.3583751863,
          -86.6387042882,
          -149.111113424,
          -111.746237467,
          -88.1184482714,
          -86.7988174678,
          -111.852210033,
          -86.7988174678,
          -149.111113424,
          -86.8051937568,
          -88.1184482714,
          -112.088995222,
          -111.718721181,
          -112.225306421,
          -112.088995222,
          -112.225306421,
          -111.718721181,
          -112.298680584,
          -104.876365322,
          -105.25151776,
          -104.867986891,
          -104.726526621,
          -105.146327974,
          -104.760664479,
          -104.867986891,
          -104.876365322,
          -104.760664479,
          -104.726526621,
          -105.25151776,
          -105.146327974,
          -105.065904872,
          -104.771170982,
          -73.470938682,
          -73.196054694,
          -105.062645316,
          -72.9247595793,
          -73.470938682,
          -73.5589363142,
          -73.4224513123,
          -104.612001218,
          -105.116965444,
          -72.6834012389,
          -75.5418960925,
          -73.036129832,
          -105.061758435,
          -105.062645316,
          -104.612001218,
          -104.944956758,
          -73.5589363142,
          -105.061758435,
          -72.6834012389,
          -104.771170982,
          -105.065904872,
          -75.5418960925,
          -73.4224513123,
          -73.196054694,
          -104.944956758,
          -72.9247595793,
          -73.036129832,
          -105.10195106,
          -72.7861630705,
          -72.7861630705,
          -105.10195106,
          -105.116965444,
          -77.0147205666,
          -77.0147205666,
          -84.4231419055,
          -83.3689417445,
          -83.3689417445,
          -84.1763240815,
          -84.4231419055,
          -84.1763240815,
          -83.6495823768,
          -157.973296737,
          -84.8770410586,
          -84.3512225277,
          -82.0708396775,
          -82.0708396775,
          -84.2027195506,
          -83.6495823768,
          -116.564145085,
          -84.3703197084,
          -84.2027195506,
          -81.1783435493,
          -157.973296737,
          -116.230885189,
          -116.39758487,
          -116.39758487,
          -116.230885189,
          -83.6530271267,
          -84.3512225277,
          -83.6530271267,
          -84.8770410586,
          -81.1783435493,
          -116.564145085,
          -84.3703197084,
          -86.5257124351,
          -87.4909551115,
          -85.1435898792,
          -85.1435898792,
          -85.969310702,
          -85.969310702,
          -87.538270731,
          -86.145782152,
          -86.1461278461,
          -87.3472907397,
          -86.1461278461,
          -87.3472907397,
          -87.538270731,
          -87.4909551115,
          -86.5257124351,
          -86.145782152,
          -97.3429366807,
          -94.6872267067,
          -86.8617007404,
          -92.3521759342,
          -95.2628259088,
          -85.3942940148,
          -91.5308854927,
          -93.6165066086,
          -91.6781679349,
          -90.6051730163,
          -94.8192070197,
          -94.7441921112,
          -94.8192070197,
          -94.6872267067,
          -95.6954155341,
          -86.2690372417,
          -90.6051730163,
          -96.3913834837,
          -85.3942940148,
          -86.8617007404,
          -96.3913834837,
          -91.5308854927,
          -91.6781679349,
          -95.6954155341,
          -95.2628259088,
          -97.3429366807,
          -93.6165066086,
          -86.2690372417,
          -92.3521759342,
          -94.7441921112,
          -89.9316317895,
          -93.2148796496,
          -91.1263551997,
          -93.2148796496,
          -85.6664099974,
          -84.4587259608,
          -91.1263551997,
          -84.4587259608,
          -92.0317532321,
          -92.0317532321,
          -90.2550320135,
          -89.9316317895,
          -90.2550320135,
          -85.6664099974,
          -71.0241656338,
          -76.6160492311,
          -71.1183992378,
          -70.2752544531,
          -93.7962236108,
          -71.0996396919,
          -71.0996396919,
          -70.2752544531,
          -76.6160492311,
          -71.1183992378,
          -71.0241656338,
          -71.0916505804,
          -71.0916505804,
          -93.7962236108,
          -71.2084466944,
          -70.9441204537,
          -71.2084466944,
          -71.1017450879,
          -71.0218764062,
          -71.321714396,
          -71.1626790341,
          -70.9441204537,
          -71.1626790341,
          -71.8079404584,
          -72.5395254143,
          -70.9662372538,
          -72.5395254143,
          -70.9662372538,
          -71.0218764062,
          -71.1017450879,
          -71.321714396,
          -71.8079404584,
          -93.3150995817,
          -92.1342013763,
          -93.3505067942,
          -93.3150995817,
          -93.2678345304,
          -92.1342013763,
          -93.2678345304,
          -93.3505067942,
          -94.3814865856,
          -94.5541236795,
          -92.4775005494,
          -92.3260129764,
          -93.4616016242,
          -94.3502748237,
          -90.2124528561,
          -89.0701908439,
          -93.1039958305,
          -90.7176856736,
          -94.8209246813,
          -94.5541236795,
          -93.4616016242,
          -90.2124528561,
          -89.0701908439,
          -92.3260129764,
          -90.7176856736,
          -93.1039958305,
          -92.4775005494,
          -94.8209246813,
          -94.3814865856,
          -94.3502748237,
          -93.2914273656,
          -108.54882784,
          -96.0415076441,
          -96.6806742049,
          -93.2914273656,
          -115.037392161,
          -96.0415076441,
          -115.262670095,
          -90.2451186799,
          -115.037392161,
          -114.009863843,
          -90.2451186799,
          -108.54882784,
          -114.009863843,
          -96.6806742049,
          -115.262670095,
          -74.1752997118,
          -74.1281123174,
          -74.1938679138,
          -74.7639943311,
          -74.1575145342,
          -71.4445313287,
          -74.1281123174,
          -115.088496088,
          -71.4909587631,
          -74.0687740635,
          -119.713134168,
          -74.1575145342,
          -74.1752997118,
          -75.1072961899,
          -119.852733516,
          -75.1072961899,
          -74.032293507,
          -119.852733516,
          -71.4909587631,
          -74.1938679138,
          -74.032293507,
          -115.088496088,
          -119.713134168,
          -74.0687740635,
          -74.7639943311,
          -74.1624181271,
          -71.4445313287,
          -74.1624181271,
          -106.647447696,
          -78.8475237264,
          -106.697981552,
          -106.789465579,
          -73.7843883178,
          -105.972662995,
          -105.972662995,
          -106.647447696,
          -73.8291001676,
          -106.697981552,
          -73.7986826267,
          -78.8475237264,
          -73.7843883178,
          -73.7986826267,
          -106.789465579,
          -73.8291001676,
          -78.6440243809,
          -73.9313850409,
          -73.9313850409,
          -82.5537350816,
          -73.9275333869,
          -80.8300754645,
          -73.9275333869,
          -77.6162348882,
          -76.1437679213,
          -80.8300754645,
          -78.8152191642,
          -82.5537350816,
          -76.1437679213,
          -73.8636959965,
          -78.8152191642,
          -73.8636959965,
          -77.6162348882,
          -77.8872842368,
          -78.6440243809,
          -80.6352429349,
          -79.8276833061,
          -78.9791676456,
          -80.6352429349,
          -77.8872842368,
          -79.9932956384,
          -77.3766133673,
          -77.3951822819,
          -79.9932956384,
          -81.1836588468,
          -81.1836588468,
          -77.3951822819,
          -77.3766133673,
          -78.9059161097,
          -80.2609889241,
          -80.2609889241,
          -79.8276833061,
          -78.9791676456,
          -78.9059161097,
          -84.5060004524,
          -96.8289882328,
          -81.5219213688,
          -82.9851738516,
          -82.9851738516,
          -81.3676594998,
          -81.6805494865,
          -84.5060004524,
          -81.6805494865,
          -81.3676594998,
          -81.5219213688,
          -96.8289882328,
          -98.4203934803,
          -97.4159205309,
          -95.7809572414,
          -81.728599153,
          -98.4203934803,
          -97.3470413838,
          -95.7809572414,
          -97.5137615524,
          -80.6463187081,
          -80.6463187081,
          -97.4159205309,
          -83.5823818449,
          -84.1997930517,
          -83.5823818449,
          -81.728599153,
          -97.5137615524,
          -97.3470413838,
          -84.1997930517,
          -121.308690416,
          -123.0248671,
          -122.814973469,
          -95.9036195464,
          -123.117327584,
          -75.4755373968,
          -75.4755373968,
          -122.853625909,
          -122.650032751,
          -122.441469029,
          -122.441469029,
          -122.937442209,
          -122.650032751,
          -123.0248671,
          -95.9036195464,
          -122.937442209,
          -122.814973469,
          -122.853625909,
          -123.117327584,
          -121.308690416,
          -75.3679048175,
          -75.1333888571,
          -79.9762614995,
          -79.9762614995,
          -75.3679048175,
          -75.1333888571,
          -80.0730358517,
          -80.0730358517,
          -80.0738525014,
          -75.6649126898,
          -71.4218129335,
          -103.218361421,
          -75.6649126898,
          -71.4345615049,
          -85.2466771892,
          -96.7313495858,
          -83.9495877264,
          -71.3743580803,
          -81.0249178286,
          -75.9266128837,
          -87.3432371614,
          -103.218361421,
          -79.967381899,
          -79.8230343029,
          -80.9037852694,
          -79.8230343029,
          -71.3743580803,
          -80.0738525014,
          -71.4861485002,
          -83.9495877264,
          -71.4861485002,
          -96.7313495858,
          -81.0249178286,
          -71.4218129335,
          -85.2466771892,
          -87.3432371614,
          -79.967381899,
          -71.4345615049,
          -75.9266128837,
          -80.9037852694,
          -86.408628238,
          -89.978906085,
          -86.7845944773,
          -89.978906085,
          -86.7845944773,
          -86.408628238,
          -76.5182644502,
          -111.931220784,
          -111.852431062,
          -77.0867762661,
          -111.967450557,
          -76.3024325925,
          -76.2567157761,
          -111.645715857,
          -112.011667394,
          -76.3552763467,
          -111.699188517,
          -112.000961848,
          -111.645715857,
          -112.000961848,
          -111.699188517,
          -111.961589302,
          -113.579352503,
          -111.852431062,
          -73.2314828365,
          -79.1911081,
          -111.931220784,
          -79.1911081,
          -112.011667394,
          -111.967450557,
          -111.961589302,
          -113.579352503,
          -76.3024325925,
          -76.5182644502,
          -76.2567157761,
          -76.3552763467,
          -73.2314828365,
          -76.3665945624,
          -77.0867762661,
          -76.3665945624,
          -122.468092906,
          -122.191153327,
          -122.468092906,
          -122.323532482,
          -122.160703911,
          -79.9581615989,
          -119.173245847,
          -79.9581615989,
          -122.210810557,
          -77.475568168,
          -76.6414278469,
          -76.0589579522,
          -76.0589579522,
          -122.335755583,
          -77.475568168,
          -117.415973291,
          -122.153569982,
          -119.173245847,
          -122.210810557,
          -122.323532482,
          -117.415973291,
          -76.6414278469,
          -122.335755583,
          -122.153569982,
          -122.217890194,
          -122.217890194,
          -122.191153327,
          -122.160703911,
          -87.9896195955,
          -117.234571922,
          -87.9896195955,
          -88.3897664444,
          -117.234571922,
          -89.3915106344,
          -122.45447391,
          -89.3915106344,
          -87.8735745085,
          -122.45447391,
          -122.598539476,
          -87.9672412429,
          -81.632165003,
          -87.9672412429,
          -81.632165003,
          -122.598539476,
          -87.8735745085,
          -88.3897664444,
          -120.547807614,
          -104.789064332,
          -88.2457679157,
          -87.813453024,
          -88.2457679157,
          -104.789064332,
          -87.813453024
         ],
         "marker": {
          "color": "#636efa",
          "symbol": "circle"
         },
         "mode": "markers",
         "name": "no",
         "showlegend": true,
         "type": "scattergeo"
        },
        {
         "geo": "geo",
         "hovertemplate": "topFiveState=yes<br>lats=%{lat}<br>longs=%{lon}<extra></extra>",
         "lat": [
          37.7650849031,
          37.9777042922,
          37.7650849031,
          34.0839734383,
          34.0839734383,
          33.8389076996,
          33.8389076996,
          37.9777042922,
          33.950774546,
          34.5315984948,
          33.6667651353,
          32.6282964262,
          37.6861552276,
          37.9721810307,
          39.7568503668,
          38.6947788342,
          33.892965693,
          33.6667651353,
          33.983588126,
          33.8374083001,
          37.8725678765,
          33.937867256,
          33.8374083001,
          35.3513302855,
          39.7568503668,
          33.8880417923,
          33.8880417923,
          32.6282964262,
          33.983588126,
          33.1248051026,
          33.937867256,
          37.6861552276,
          33.8572126844,
          33.8623571787,
          37.8725678765,
          34.082871519,
          33.1248051026,
          38.6947788342,
          37.9721810307,
          36.8289400179,
          35.3513302855,
          34.082871519,
          33.8623571787,
          34.1879799605,
          33.8572126844,
          33.892965693,
          34.1879799605,
          36.8289400179,
          33.950774546,
          34.5315984948,
          37.6329591551,
          33.1346952955,
          32.8016581921,
          36.7826786711,
          33.8840378013,
          38.6750494328,
          34.0974227833,
          34.181889373,
          38.4159992006,
          33.7786940635,
          34.073919653,
          37.5278685405,
          33.914667701,
          38.2558446343,
          34.181889373,
          32.8016581921,
          38.6750494328,
          38.2558446343,
          34.073919653,
          34.0974227833,
          33.8840378013,
          33.7786940635,
          38.4159992006,
          33.914667701,
          33.1346952955,
          37.6329591551,
          36.7826786711,
          37.5278685405,
          33.7352277311,
          33.7352277311,
          34.3973476773,
          33.9565748018,
          34.6934347017,
          34.6934347017,
          33.7298067837,
          33.6952749077,
          33.6634128948,
          33.6952749077,
          37.6865101361,
          33.6634128948,
          33.8060144825,
          33.8470531941,
          33.6780108904,
          37.6865101361,
          33.7298067837,
          33.6780108904,
          33.8470531941,
          33.8060144825,
          34.3973476773,
          33.9565748018,
          34.1182277898,
          34.1182277898,
          33.6095976891,
          33.5719743356,
          37.3999252379,
          33.9239616867,
          33.6150103607,
          33.5719743356,
          33.6095976891,
          38.2980424649,
          37.7961925102,
          33.6150103607,
          33.6909533045,
          37.6615478221,
          37.6615478221,
          37.3055863217,
          37.433869763,
          33.9239616867,
          37.433869763,
          33.9068808228,
          37.7961925102,
          38.2980424649,
          37.3055863217,
          37.3999252379,
          33.6909533045,
          33.9244314112,
          33.9244314112,
          34.1245895555,
          33.8046419567,
          34.5944899803,
          33.8575280159,
          33.8046419567,
          37.9479710365,
          34.0585026366,
          33.7897346094,
          33.8575280159,
          34.1128158089,
          37.5009145276,
          37.6656092171,
          34.1597634806,
          34.0511315317,
          40.5697591271,
          34.1128158089,
          34.0392649464,
          34.1245895555,
          37.6656092171,
          40.5697591271,
          33.7897346094,
          34.0392649464,
          34.1959237731,
          37.5009145276,
          34.1597634806,
          34.0511315317,
          37.790878035,
          33.2247457474,
          37.9479710365,
          37.790878035,
          34.1959237731,
          33.2247457474,
          34.5944899803,
          34.0585026366,
          34.1392322844,
          38.7657516182,
          36.6889174321,
          34.1392322844,
          34.2743610206,
          38.7657516182,
          38.5666321567,
          32.8355639418,
          33.9381251685,
          38.5666321567,
          36.6889174321,
          33.9381251685,
          34.2743610206,
          32.8355639418,
          37.3003963176,
          37.5518226893,
          37.7559136611,
          37.3003963176,
          33.134965986,
          33.134965986,
          33.7366948419,
          37.7623705462,
          37.7623705462,
          37.7559136611,
          37.7074299262,
          33.7366948419,
          37.5518226893,
          37.7074299262,
          37.9766322679,
          33.5029980884,
          34.0231891612,
          33.7308520326,
          37.7243277375,
          37.3646197504,
          37.6028390812,
          34.0231891612,
          38.4464423102,
          37.3834416566,
          37.6028390812,
          34.9333735757,
          33.8345985464,
          34.4119039185,
          34.1178445701,
          33.9447322664,
          37.7243277375,
          37.5052158271,
          34.4285733874,
          33.8345985464,
          38.3597235063,
          37.9766322679,
          38.3597235063,
          38.4464423102,
          34.1917745655,
          34.2662462857,
          34.4285733874,
          37.3646197504,
          33.9447322664,
          34.4119039185,
          34.9333735757,
          34.1178445701,
          34.1917745655,
          33.5029980884,
          37.5052158271,
          34.2662462857,
          33.7308520326,
          37.3834416566,
          33.7521523769,
          38.1135329247,
          34.0554415174,
          33.1895481978,
          33.1895481978,
          36.3270623157,
          36.3270623157,
          34.0554415174,
          33.7521523769,
          33.9068808228,
          34.5277691103,
          34.5277691103,
          33.9678255596,
          33.9678255596,
          38.1135329247,
          29.6817027431,
          26.2701700158,
          26.6448544993,
          26.1418205174,
          26.1418205174,
          26.5279818052,
          26.6448544993,
          26.3049966413,
          25.869626948,
          26.3749012715,
          28.905060048,
          28.905060048,
          29.6817027431,
          25.869626948,
          26.0287025703,
          26.3749012715,
          26.3049966413,
          26.0789340778,
          27.9805997919,
          26.0287025703,
          27.9805997919,
          26.0789340778,
          26.5279818052,
          26.2701700158,
          25.9432633871,
          28.1158805782,
          30.3319820139,
          30.3319820139,
          26.1605584187,
          25.9773288233,
          25.782295897,
          27.9090907734,
          25.9773288233,
          25.782295897,
          25.8167101614,
          29.5405590976,
          28.4800646771,
          27.9090907734,
          28.1158805782,
          25.8167101614,
          25.9432633871,
          29.5405590976,
          28.0558482664,
          28.0558482664,
          26.1605584187,
          27.9838255249,
          27.9838255249,
          28.4800646771,
          27.2808680308,
          26.2428335699,
          27.996198041,
          26.1259853923,
          27.2808680308,
          30.4548951211,
          26.1259853923,
          30.4548951211,
          26.1546878303,
          26.1546878303,
          27.792894971,
          27.996198041,
          26.7478714655,
          26.0127387534,
          26.2428335699,
          26.7478714655,
          26.0127387534,
          27.792894971,
          40.1151051361,
          42.095623342,
          42.095623342,
          41.6911653908,
          41.6911653908,
          40.4756778366,
          41.7637750837,
          40.1151051361,
          41.8372950615,
          40.4756778366,
          41.7637750837,
          41.8372950615,
          41.844539143,
          40.7515684146,
          39.8555822645,
          42.0385402472,
          42.0463099649,
          40.7515684146,
          42.1180663695,
          41.7482001145,
          41.844539143,
          39.8555822645,
          42.1180663695,
          42.0385402472,
          41.5206390037,
          41.5206390037,
          41.7482001145,
          42.0463099649,
          42.3702955582,
          39.7716473322,
          42.3702955582,
          42.0305488755,
          42.2633180015,
          42.2633180015,
          42.0305488755,
          39.7716473322,
          42.3847015631,
          42.3847015631,
          42.2756833567,
          42.3126884626,
          42.2756833567,
          42.3126884626,
          42.8909745661,
          42.6645256768,
          42.4765016267,
          42.4859956992,
          42.580985283,
          42.3971592737,
          42.8909745661,
          43.0236339386,
          42.4859956992,
          42.580985283,
          42.3192220455,
          43.0236339386,
          42.4934233034,
          42.7090711751,
          42.5817340358,
          42.6645256768,
          42.4934233034,
          42.9614815414,
          42.2748756474,
          42.4765016267,
          42.3971592737,
          42.7090711751,
          42.2748756474,
          42.3192220455,
          42.5817340358,
          42.9614815414,
          33.1087043234,
          32.699836862,
          33.1087043234,
          32.699836862,
          32.4546510898,
          32.4546510898,
          35.2003835544,
          35.2003835544,
          30.3068610342,
          29.7571153043,
          29.7571153043,
          32.7939804066,
          30.3068610342,
          27.7291588337,
          30.084416647,
          30.5867615801,
          25.9981977861,
          32.988438459,
          32.988438459,
          30.5867615801,
          30.6665687582,
          27.7291588337,
          30.084416647,
          25.9981977861,
          30.6665687582,
          32.780192804,
          26.3155843974,
          33.2156160443,
          32.780192804,
          32.9100799867,
          33.1507545152,
          32.7939804066,
          31.8481123506,
          32.9100799867,
          26.3155843974,
          33.2156160443,
          31.8481123506,
          33.1507545152,
          29.7806691396,
          32.6867650238,
          32.6867650238,
          29.7806691396,
          32.5192857856,
          29.5584850577,
          33.1988886952,
          29.6589511488,
          29.5584850577,
          29.6589511488,
          27.5482572475,
          33.5666251178,
          32.8583808131,
          33.5666251178,
          26.2033406464,
          26.2186289942,
          31.879456461,
          26.2186289942,
          29.563674661,
          33.0451992429,
          32.8583808131,
          31.0757648143,
          26.2033406464,
          32.5192857856,
          31.0757648143,
          33.1988886952,
          32.0285948356,
          29.563674661,
          31.879456461,
          33.0451992429,
          29.4872995808,
          27.5482572475,
          29.4872995808,
          32.7641310166,
          32.0285948356,
          29.4721475333,
          32.3154021183,
          33.9072739838,
          32.3154021183,
          32.9716582389,
          30.5239578235,
          26.168815399,
          31.440468746,
          31.5597607137,
          29.5974680902,
          33.0502149278,
          33.0502149278,
          29.4721475333,
          33.9072739838,
          30.5239578235,
          26.168815399,
          31.5597607137,
          29.5974680902,
          31.440468746,
          32.9716582389,
          32.7641310166
         ],
         "legendgroup": "yes",
         "lon": [
          -122.266489842,
          -121.796606971,
          -122.266489842,
          -118.135514119,
          -118.135514119,
          -117.857613481,
          -117.857613481,
          -121.796606971,
          -117.725326968,
          -117.211012664,
          -117.91350475,
          -117.010042407,
          -122.468298024,
          -122.001588036,
          -121.815983972,
          -121.287991502,
          -118.227506568,
          -117.91350475,
          -117.665296584,
          -118.255936422,
          -122.274907975,
          -118.131150116,
          -118.255936422,
          -119.029786003,
          -121.815983972,
          -118.127100236,
          -118.127100236,
          -117.010042407,
          -117.665296584,
          -117.282903303,
          -118.131150116,
          -122.468298024,
          -118.004517591,
          -117.564224471,
          -122.274907975,
          -117.972100918,
          -117.282903303,
          -121.287991502,
          -122.001588036,
          -119.68665285,
          -119.029786003,
          -117.972100918,
          -117.564224471,
          -118.323429032,
          -118.004517591,
          -118.227506568,
          -118.323429032,
          -119.68665285,
          -117.725326968,
          -117.211012664,
          -122.077051051,
          -117.072122618,
          -116.960483614,
          -119.794126569,
          -117.927850895,
          -121.147605753,
          -117.459241285,
          -118.24676666,
          -121.384137762,
          -117.960111162,
          -118.029071951,
          -121.984121512,
          -118.347667728,
          -122.039303253,
          -118.24676666,
          -116.960483614,
          -121.147605753,
          -122.039303253,
          -118.029071951,
          -117.459241285,
          -117.927850895,
          -117.960111162,
          -121.384137762,
          -118.347667728,
          -117.072122618,
          -122.077051051,
          -119.794126569,
          -121.984121512,
          -116.994605005,
          -116.994605005,
          -117.314392219,
          -118.344444926,
          -118.175306356,
          -118.175306356,
          -116.237258141,
          -118.001810806,
          -117.670683341,
          -118.001810806,
          -121.764357841,
          -117.670683341,
          -118.160894146,
          -118.122204765,
          -117.773633283,
          -121.764357841,
          -116.237258141,
          -117.773633283,
          -118.122204765,
          -118.160894146,
          -117.314392219,
          -118.344444926,
          -118.408500088,
          -118.408500088,
          -117.655029608,
          -117.190921143,
          -122.079544343,
          -118.201648375,
          -117.867364631,
          -117.190921143,
          -117.655029608,
          -122.301093331,
          -121.231230612,
          -117.867364631,
          -117.18487699,
          -120.988548061,
          -120.988548061,
          -120.477710571,
          -121.892083025,
          -118.201648375,
          -121.892083025,
          -118.082915204,
          -121.231230612,
          -122.301093331,
          -120.477710571,
          -122.079544343,
          -117.18487699,
          -117.204501895,
          -117.204501895,
          -117.56617587,
          -117.8231855,
          -118.105772328,
          -118.376567893,
          -117.8231855,
          -122.336803759,
          -117.762551658,
          -117.223291831,
          -118.376567893,
          -117.388535978,
          -122.224767617,
          -121.880775002,
          -118.138921644,
          -117.170935294,
          -122.365026322,
          -117.388535978,
          -117.606427103,
          -117.56617587,
          -121.880775002,
          -122.365026322,
          -117.223291831,
          -117.606427103,
          -119.18187657,
          -122.224767617,
          -118.138921644,
          -117.170935294,
          -122.214859257,
          -117.308200285,
          -122.336803759,
          -122.214859257,
          -119.18187657,
          -117.308200285,
          -118.105772328,
          -117.762551658,
          -117.295272732,
          -121.302847708,
          -121.631811961,
          -117.295272732,
          -119.231436551,
          -121.302847708,
          -121.468299801,
          -117.119792061,
          -117.394845824,
          -121.468299801,
          -121.631811961,
          -117.394845824,
          -119.231436551,
          -117.119792061,
          -121.847228423,
          -122.312390346,
          -122.440987876,
          -121.847228423,
          -117.174363098,
          -117.174363098,
          -117.881890237,
          -121.938150371,
          -121.938150371,
          -122.440987876,
          -122.159061655,
          -117.881890237,
          -122.312390346,
          -122.159061655,
          -121.311121669,
          -117.12239028,
          -118.481563937,
          -117.810730968,
          -121.444621463,
          -121.967932117,
          -122.018966106,
          -118.481563937,
          -122.706005935,
          -122.025624324,
          -122.018966106,
          -120.443326954,
          -118.341641983,
          -118.503504698,
          -117.660290062,
          -118.192550525,
          -121.444621463,
          -120.858762412,
          -119.720187334,
          -118.341641983,
          -121.96903046,
          -121.311121669,
          -121.96903046,
          -122.706005935,
          -118.874888411,
          -118.748980462,
          -119.720187334,
          -121.967932117,
          -118.192550525,
          -118.503504698,
          -120.443326954,
          -117.660290062,
          -118.874888411,
          -117.12239028,
          -120.858762412,
          -118.748980462,
          -117.810730968,
          -122.025624324,
          -117.993760054,
          -122.235518478,
          -117.91128206,
          -117.238607217,
          -117.238607217,
          -119.325273214,
          -119.325273214,
          -117.91128206,
          -117.993760054,
          -118.082915204,
          -117.353855136,
          -117.353855136,
          -118.018796341,
          -118.018796341,
          -122.235518478,
          -82.345278266,
          -80.2592221493,
          -81.9931108298,
          -80.1471225502,
          -80.1471225502,
          -80.0814660417,
          -81.9931108298,
          -80.1277706584,
          -80.3045294666,
          -80.1078208861,
          -81.2134269839,
          -81.2134269839,
          -82.345278266,
          -80.3045294666,
          -80.1683976059,
          -80.1078208861,
          -80.1277706584,
          -80.2869750311,
          -82.7544099135,
          -80.1683976059,
          -82.7544099135,
          -80.2869750311,
          -80.0814660417,
          -80.2592221493,
          -80.2425332162,
          -80.6508814613,
          -81.6752266207,
          -81.6752266207,
          -80.2241278263,
          -80.3357316003,
          -80.2215647762,
          -82.7714203383,
          -80.3357316003,
          -80.2215647762,
          -80.1341952652,
          -81.2508206143,
          -81.3452411179,
          -82.7714203383,
          -80.6508814613,
          -80.1341952652,
          -80.2425332162,
          -81.2508206143,
          -81.9539536462,
          -81.9539536462,
          -80.2241278263,
          -80.6666722846,
          -80.6666722846,
          -81.3452411179,
          -80.3832154574,
          -80.131245161,
          -82.4450349799,
          -80.2616762465,
          -80.3832154574,
          -84.2526459938,
          -80.2616762465,
          -84.2526459938,
          -80.299841102,
          -80.299841102,
          -82.6650743239,
          -82.4450349799,
          -80.1337397544,
          -80.3384522664,
          -80.131245161,
          -80.1337397544,
          -80.3384522664,
          -82.6650743239,
          -88.2729845986,
          -87.9825627457,
          -87.9825627457,
          -88.1011218035,
          -88.1011218035,
          -88.9700813515,
          -88.2900949057,
          -88.2729845986,
          -87.6862308732,
          -88.9700813515,
          -88.2900949057,
          -87.6862308732,
          -87.7592873023,
          -89.615255458,
          -88.9336983421,
          -88.3224947104,
          -87.6940348773,
          -89.615255458,
          -88.042989882,
          -88.1657705099,
          -87.7592873023,
          -88.9336983421,
          -88.042989882,
          -88.3224947104,
          -88.1507097756,
          -88.1507097756,
          -88.1657705099,
          -87.6940348773,
          -87.8712595095,
          -89.6540780049,
          -87.8712595095,
          -88.0838663543,
          -89.0625958362,
          -89.0625958362,
          -88.0838663543,
          -89.6540780049,
          -83.1053178776,
          -83.1053178776,
          -83.7311374448,
          -83.2129368006,
          -83.7311374448,
          -83.2129368006,
          -85.7067229249,
          -83.1563037157,
          -83.2605284738,
          -83.3771159714,
          -83.0303680858,
          -83.3733073683,
          -85.7067229249,
          -83.6920640313,
          -83.3771159714,
          -83.0303680858,
          -83.3805461719,
          -83.6920640313,
          -83.0270075248,
          -84.5584470022,
          -83.1457545154,
          -83.1563037157,
          -83.0270075248,
          -85.6556858473,
          -85.588188576,
          -83.2605284738,
          -83.3733073683,
          -84.5584470022,
          -85.588188576,
          -83.3805461719,
          -83.1457545154,
          -85.6556858473,
          -96.6735373763,
          -97.125089612,
          -96.6735373763,
          -97.125089612,
          -99.7383043723,
          -99.7383043723,
          -101.828292514,
          -101.828292514,
          -97.7554771245,
          -94.9676276217,
          -94.9676276217,
          -96.7656929463,
          -97.7554771245,
          -97.4019095379,
          -94.1441072222,
          -96.2957958614,
          -97.4566343763,
          -96.900137433,
          -96.900137433,
          -96.2957958614,
          -96.3663819223,
          -97.4019095379,
          -94.1441072222,
          -97.4566343763,
          -96.3663819223,
          -97.3470323225,
          -98.1637130371,
          -97.1412438684,
          -97.3470323225,
          -96.6304258603,
          -96.8201336312,
          -96.7656929463,
          -106.432021874,
          -96.6304258603,
          -98.1637130371,
          -97.1412438684,
          -106.432021874,
          -96.8201336312,
          -95.3860033966,
          -97.0209311916,
          -97.0209311916,
          -95.3860033966,
          -94.762197598,
          -95.3208389111,
          -96.6677029773,
          -95.1509173148,
          -95.3208389111,
          -95.1509173148,
          -99.4867797312,
          -101.886335663,
          -96.9703058323,
          -101.886335663,
          -98.322770513,
          -98.2451704536,
          -102.344465435,
          -98.2451704536,
          -95.5382066661,
          -96.9829273031,
          -96.9703058323,
          -97.7285651299,
          -98.322770513,
          -94.762197598,
          -97.7285651299,
          -96.6677029773,
          -102.109700973,
          -95.5382066661,
          -102.344465435,
          -96.9829273031,
          -95.1089858945,
          -99.4867797312,
          -95.1089858945,
          -96.5927445114,
          -102.109700973,
          -98.5246763525,
          -95.3050093799,
          -98.5292981697,
          -95.3050093799,
          -96.7093052991,
          -97.6669801882,
          -98.1904720704,
          -100.452243142,
          -97.1883333282,
          -95.627455775,
          -96.7486409797,
          -96.7486409797,
          -98.5246763525,
          -98.5292981697,
          -97.6669801882,
          -98.1904720704,
          -97.1883333282,
          -95.627455775,
          -100.452243142,
          -96.7093052991,
          -96.5927445114
         ],
         "marker": {
          "color": "#EF553B",
          "symbol": "circle"
         },
         "mode": "markers",
         "name": "yes",
         "showlegend": true,
         "type": "scattergeo"
        }
       ],
       "layout": {
        "geo": {
         "center": {},
         "domain": {
          "x": [
           0,
           1
          ],
          "y": [
           0,
           1
          ]
         },
         "scope": "usa"
        },
        "height": 400,
        "legend": {
         "title": {
          "text": "topFiveState"
         },
         "tracegroupgap": 0
        },
        "margin": {
         "t": 60
        },
        "showlegend": false,
        "template": {
         "data": {
          "bar": [
           {
            "error_x": {
             "color": "#2a3f5f"
            },
            "error_y": {
             "color": "#2a3f5f"
            },
            "marker": {
             "line": {
              "color": "#E5ECF6",
              "width": 0.5
             },
             "pattern": {
              "fillmode": "overlay",
              "size": 10,
              "solidity": 0.2
             }
            },
            "type": "bar"
           }
          ],
          "barpolar": [
           {
            "marker": {
             "line": {
              "color": "#E5ECF6",
              "width": 0.5
             },
             "pattern": {
              "fillmode": "overlay",
              "size": 10,
              "solidity": 0.2
             }
            },
            "type": "barpolar"
           }
          ],
          "carpet": [
           {
            "aaxis": {
             "endlinecolor": "#2a3f5f",
             "gridcolor": "white",
             "linecolor": "white",
             "minorgridcolor": "white",
             "startlinecolor": "#2a3f5f"
            },
            "baxis": {
             "endlinecolor": "#2a3f5f",
             "gridcolor": "white",
             "linecolor": "white",
             "minorgridcolor": "white",
             "startlinecolor": "#2a3f5f"
            },
            "type": "carpet"
           }
          ],
          "choropleth": [
           {
            "colorbar": {
             "outlinewidth": 0,
             "ticks": ""
            },
            "type": "choropleth"
           }
          ],
          "contour": [
           {
            "colorbar": {
             "outlinewidth": 0,
             "ticks": ""
            },
            "colorscale": [
             [
              0,
              "#0d0887"
             ],
             [
              0.1111111111111111,
              "#46039f"
             ],
             [
              0.2222222222222222,
              "#7201a8"
             ],
             [
              0.3333333333333333,
              "#9c179e"
             ],
             [
              0.4444444444444444,
              "#bd3786"
             ],
             [
              0.5555555555555556,
              "#d8576b"
             ],
             [
              0.6666666666666666,
              "#ed7953"
             ],
             [
              0.7777777777777778,
              "#fb9f3a"
             ],
             [
              0.8888888888888888,
              "#fdca26"
             ],
             [
              1,
              "#f0f921"
             ]
            ],
            "type": "contour"
           }
          ],
          "contourcarpet": [
           {
            "colorbar": {
             "outlinewidth": 0,
             "ticks": ""
            },
            "type": "contourcarpet"
           }
          ],
          "heatmap": [
           {
            "colorbar": {
             "outlinewidth": 0,
             "ticks": ""
            },
            "colorscale": [
             [
              0,
              "#0d0887"
             ],
             [
              0.1111111111111111,
              "#46039f"
             ],
             [
              0.2222222222222222,
              "#7201a8"
             ],
             [
              0.3333333333333333,
              "#9c179e"
             ],
             [
              0.4444444444444444,
              "#bd3786"
             ],
             [
              0.5555555555555556,
              "#d8576b"
             ],
             [
              0.6666666666666666,
              "#ed7953"
             ],
             [
              0.7777777777777778,
              "#fb9f3a"
             ],
             [
              0.8888888888888888,
              "#fdca26"
             ],
             [
              1,
              "#f0f921"
             ]
            ],
            "type": "heatmap"
           }
          ],
          "heatmapgl": [
           {
            "colorbar": {
             "outlinewidth": 0,
             "ticks": ""
            },
            "colorscale": [
             [
              0,
              "#0d0887"
             ],
             [
              0.1111111111111111,
              "#46039f"
             ],
             [
              0.2222222222222222,
              "#7201a8"
             ],
             [
              0.3333333333333333,
              "#9c179e"
             ],
             [
              0.4444444444444444,
              "#bd3786"
             ],
             [
              0.5555555555555556,
              "#d8576b"
             ],
             [
              0.6666666666666666,
              "#ed7953"
             ],
             [
              0.7777777777777778,
              "#fb9f3a"
             ],
             [
              0.8888888888888888,
              "#fdca26"
             ],
             [
              1,
              "#f0f921"
             ]
            ],
            "type": "heatmapgl"
           }
          ],
          "histogram": [
           {
            "marker": {
             "pattern": {
              "fillmode": "overlay",
              "size": 10,
              "solidity": 0.2
             }
            },
            "type": "histogram"
           }
          ],
          "histogram2d": [
           {
            "colorbar": {
             "outlinewidth": 0,
             "ticks": ""
            },
            "colorscale": [
             [
              0,
              "#0d0887"
             ],
             [
              0.1111111111111111,
              "#46039f"
             ],
             [
              0.2222222222222222,
              "#7201a8"
             ],
             [
              0.3333333333333333,
              "#9c179e"
             ],
             [
              0.4444444444444444,
              "#bd3786"
             ],
             [
              0.5555555555555556,
              "#d8576b"
             ],
             [
              0.6666666666666666,
              "#ed7953"
             ],
             [
              0.7777777777777778,
              "#fb9f3a"
             ],
             [
              0.8888888888888888,
              "#fdca26"
             ],
             [
              1,
              "#f0f921"
             ]
            ],
            "type": "histogram2d"
           }
          ],
          "histogram2dcontour": [
           {
            "colorbar": {
             "outlinewidth": 0,
             "ticks": ""
            },
            "colorscale": [
             [
              0,
              "#0d0887"
             ],
             [
              0.1111111111111111,
              "#46039f"
             ],
             [
              0.2222222222222222,
              "#7201a8"
             ],
             [
              0.3333333333333333,
              "#9c179e"
             ],
             [
              0.4444444444444444,
              "#bd3786"
             ],
             [
              0.5555555555555556,
              "#d8576b"
             ],
             [
              0.6666666666666666,
              "#ed7953"
             ],
             [
              0.7777777777777778,
              "#fb9f3a"
             ],
             [
              0.8888888888888888,
              "#fdca26"
             ],
             [
              1,
              "#f0f921"
             ]
            ],
            "type": "histogram2dcontour"
           }
          ],
          "mesh3d": [
           {
            "colorbar": {
             "outlinewidth": 0,
             "ticks": ""
            },
            "type": "mesh3d"
           }
          ],
          "parcoords": [
           {
            "line": {
             "colorbar": {
              "outlinewidth": 0,
              "ticks": ""
             }
            },
            "type": "parcoords"
           }
          ],
          "pie": [
           {
            "automargin": true,
            "type": "pie"
           }
          ],
          "scatter": [
           {
            "marker": {
             "colorbar": {
              "outlinewidth": 0,
              "ticks": ""
             }
            },
            "type": "scatter"
           }
          ],
          "scatter3d": [
           {
            "line": {
             "colorbar": {
              "outlinewidth": 0,
              "ticks": ""
             }
            },
            "marker": {
             "colorbar": {
              "outlinewidth": 0,
              "ticks": ""
             }
            },
            "type": "scatter3d"
           }
          ],
          "scattercarpet": [
           {
            "marker": {
             "colorbar": {
              "outlinewidth": 0,
              "ticks": ""
             }
            },
            "type": "scattercarpet"
           }
          ],
          "scattergeo": [
           {
            "marker": {
             "colorbar": {
              "outlinewidth": 0,
              "ticks": ""
             }
            },
            "type": "scattergeo"
           }
          ],
          "scattergl": [
           {
            "marker": {
             "colorbar": {
              "outlinewidth": 0,
              "ticks": ""
             }
            },
            "type": "scattergl"
           }
          ],
          "scattermapbox": [
           {
            "marker": {
             "colorbar": {
              "outlinewidth": 0,
              "ticks": ""
             }
            },
            "type": "scattermapbox"
           }
          ],
          "scatterpolar": [
           {
            "marker": {
             "colorbar": {
              "outlinewidth": 0,
              "ticks": ""
             }
            },
            "type": "scatterpolar"
           }
          ],
          "scatterpolargl": [
           {
            "marker": {
             "colorbar": {
              "outlinewidth": 0,
              "ticks": ""
             }
            },
            "type": "scatterpolargl"
           }
          ],
          "scatterternary": [
           {
            "marker": {
             "colorbar": {
              "outlinewidth": 0,
              "ticks": ""
             }
            },
            "type": "scatterternary"
           }
          ],
          "surface": [
           {
            "colorbar": {
             "outlinewidth": 0,
             "ticks": ""
            },
            "colorscale": [
             [
              0,
              "#0d0887"
             ],
             [
              0.1111111111111111,
              "#46039f"
             ],
             [
              0.2222222222222222,
              "#7201a8"
             ],
             [
              0.3333333333333333,
              "#9c179e"
             ],
             [
              0.4444444444444444,
              "#bd3786"
             ],
             [
              0.5555555555555556,
              "#d8576b"
             ],
             [
              0.6666666666666666,
              "#ed7953"
             ],
             [
              0.7777777777777778,
              "#fb9f3a"
             ],
             [
              0.8888888888888888,
              "#fdca26"
             ],
             [
              1,
              "#f0f921"
             ]
            ],
            "type": "surface"
           }
          ],
          "table": [
           {
            "cells": {
             "fill": {
              "color": "#EBF0F8"
             },
             "line": {
              "color": "white"
             }
            },
            "header": {
             "fill": {
              "color": "#C8D4E3"
             },
             "line": {
              "color": "white"
             }
            },
            "type": "table"
           }
          ]
         },
         "layout": {
          "annotationdefaults": {
           "arrowcolor": "#2a3f5f",
           "arrowhead": 0,
           "arrowwidth": 1
          },
          "autotypenumbers": "strict",
          "coloraxis": {
           "colorbar": {
            "outlinewidth": 0,
            "ticks": ""
           }
          },
          "colorscale": {
           "diverging": [
            [
             0,
             "#8e0152"
            ],
            [
             0.1,
             "#c51b7d"
            ],
            [
             0.2,
             "#de77ae"
            ],
            [
             0.3,
             "#f1b6da"
            ],
            [
             0.4,
             "#fde0ef"
            ],
            [
             0.5,
             "#f7f7f7"
            ],
            [
             0.6,
             "#e6f5d0"
            ],
            [
             0.7,
             "#b8e186"
            ],
            [
             0.8,
             "#7fbc41"
            ],
            [
             0.9,
             "#4d9221"
            ],
            [
             1,
             "#276419"
            ]
           ],
           "sequential": [
            [
             0,
             "#0d0887"
            ],
            [
             0.1111111111111111,
             "#46039f"
            ],
            [
             0.2222222222222222,
             "#7201a8"
            ],
            [
             0.3333333333333333,
             "#9c179e"
            ],
            [
             0.4444444444444444,
             "#bd3786"
            ],
            [
             0.5555555555555556,
             "#d8576b"
            ],
            [
             0.6666666666666666,
             "#ed7953"
            ],
            [
             0.7777777777777778,
             "#fb9f3a"
            ],
            [
             0.8888888888888888,
             "#fdca26"
            ],
            [
             1,
             "#f0f921"
            ]
           ],
           "sequentialminus": [
            [
             0,
             "#0d0887"
            ],
            [
             0.1111111111111111,
             "#46039f"
            ],
            [
             0.2222222222222222,
             "#7201a8"
            ],
            [
             0.3333333333333333,
             "#9c179e"
            ],
            [
             0.4444444444444444,
             "#bd3786"
            ],
            [
             0.5555555555555556,
             "#d8576b"
            ],
            [
             0.6666666666666666,
             "#ed7953"
            ],
            [
             0.7777777777777778,
             "#fb9f3a"
            ],
            [
             0.8888888888888888,
             "#fdca26"
            ],
            [
             1,
             "#f0f921"
            ]
           ]
          },
          "colorway": [
           "#636efa",
           "#EF553B",
           "#00cc96",
           "#ab63fa",
           "#FFA15A",
           "#19d3f3",
           "#FF6692",
           "#B6E880",
           "#FF97FF",
           "#FECB52"
          ],
          "font": {
           "color": "#2a3f5f"
          },
          "geo": {
           "bgcolor": "white",
           "lakecolor": "white",
           "landcolor": "#E5ECF6",
           "showlakes": true,
           "showland": true,
           "subunitcolor": "white"
          },
          "hoverlabel": {
           "align": "left"
          },
          "hovermode": "closest",
          "mapbox": {
           "style": "light"
          },
          "paper_bgcolor": "white",
          "plot_bgcolor": "#E5ECF6",
          "polar": {
           "angularaxis": {
            "gridcolor": "white",
            "linecolor": "white",
            "ticks": ""
           },
           "bgcolor": "#E5ECF6",
           "radialaxis": {
            "gridcolor": "white",
            "linecolor": "white",
            "ticks": ""
           }
          },
          "scene": {
           "xaxis": {
            "backgroundcolor": "#E5ECF6",
            "gridcolor": "white",
            "gridwidth": 2,
            "linecolor": "white",
            "showbackground": true,
            "ticks": "",
            "zerolinecolor": "white"
           },
           "yaxis": {
            "backgroundcolor": "#E5ECF6",
            "gridcolor": "white",
            "gridwidth": 2,
            "linecolor": "white",
            "showbackground": true,
            "ticks": "",
            "zerolinecolor": "white"
           },
           "zaxis": {
            "backgroundcolor": "#E5ECF6",
            "gridcolor": "white",
            "gridwidth": 2,
            "linecolor": "white",
            "showbackground": true,
            "ticks": "",
            "zerolinecolor": "white"
           }
          },
          "shapedefaults": {
           "line": {
            "color": "#2a3f5f"
           }
          },
          "ternary": {
           "aaxis": {
            "gridcolor": "white",
            "linecolor": "white",
            "ticks": ""
           },
           "baxis": {
            "gridcolor": "white",
            "linecolor": "white",
            "ticks": ""
           },
           "bgcolor": "#E5ECF6",
           "caxis": {
            "gridcolor": "white",
            "linecolor": "white",
            "ticks": ""
           }
          },
          "title": {
           "x": 0.05
          },
          "xaxis": {
           "automargin": true,
           "gridcolor": "white",
           "linecolor": "white",
           "ticks": "",
           "title": {
            "standoff": 15
           },
           "zerolinecolor": "white",
           "zerolinewidth": 2
          },
          "yaxis": {
           "automargin": true,
           "gridcolor": "white",
           "linecolor": "white",
           "ticks": "",
           "title": {
            "standoff": 15
           },
           "zerolinecolor": "white",
           "zerolinewidth": 2
          }
         }
        },
        "title": {
         "text": "PLACES survey locations"
        },
        "width": 800
       }
      }
     },
     "metadata": {},
     "output_type": "display_data"
    }
   ],
   "source": [
    "\n",
    "geometry = [Point(xy) for xy in zip(lats, longs)]\n",
    "gdf = GeoDataFrame(prevent_df, geometry=geometry)\n",
    "\n",
    "world = gpd.read_file(gpd.datasets.get_path('naturalearth_lowres'))\n",
    "usa = world.loc[world['name'] == 'United States of America']\n",
    "\n",
    "fig = px.scatter_geo(prevent_df, lat=prevent_df['lats'], lon=prevent_df['longs'], color=prevent_df['topFiveState'], width=800, height=400)\n",
    "fig.update_layout(title = 'PLACES survey locations', geo_scope='usa', showlegend=False)\n",
    "fig.show()"
   ]
  },
  {
   "cell_type": "code",
   "execution_count": null,
   "metadata": {},
   "outputs": [],
   "source": [
    "\n",
    "geometry = [Point(xy) for xy in zip(lats, longs)]\n",
    "gdf = GeoDataFrame(prevent_df, geometry=geometry)\n",
    "\n",
    "world = gpd.read_file(gpd.datasets.get_path('naturalearth_lowres'))\n",
    "usa = world.loc[world['name'] == 'United States of America']\n",
    "\n",
    "fig = px.scatter_geo(prevent_df, lat=top_5_states['lats'], lon=top_5_states['longs'])\n",
    "fig.update_traces(marker=dict(color='red'))\n",
    "fig.update_layout(title = 'PLACES survey locations of the top 5 most surveyed states', geo_scope='usa')\n",
    "fig.show()"
   ]
  }
 ],
 "metadata": {
  "interpreter": {
   "hash": "2bc16b4903e932b9a4b407adb96c7bd2d38ca3cbca67dd2cd7f7c504edfaa5a5"
  },
  "kernelspec": {
   "display_name": "Python 3.9.9 64-bit ('paionenv': pyenv)",
   "language": "python",
   "name": "python3"
  },
  "language_info": {
   "codemirror_mode": {
    "name": "ipython",
    "version": 3
   },
   "file_extension": ".py",
   "mimetype": "text/x-python",
   "name": "python",
   "nbconvert_exporter": "python",
   "pygments_lexer": "ipython3",
   "version": "3.9.9"
  },
  "orig_nbformat": 4
 },
 "nbformat": 4,
 "nbformat_minor": 2
}
